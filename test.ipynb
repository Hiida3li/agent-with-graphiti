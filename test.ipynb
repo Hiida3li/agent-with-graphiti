{
 "cells": [
  {
   "metadata": {
    "ExecuteTime": {
     "end_time": "2025-07-10T13:38:53.835071Z",
     "start_time": "2025-07-10T13:38:53.546431Z"
    }
   },
   "cell_type": "code",
   "source": [
    "import os\n",
    "import logging\n",
    "from dotenv import load_dotenv\n",
    "import google.generativeai as genai\n",
    "from abc import ABC, abstractmethod\n",
    "\n",
    "load_dotenv()\n",
    "\n",
    "logging.basicConfig(\n",
    "    level=logging.DEBUG,\n",
    "    format='%(asctime)s - %(levelname)s - %(message)s'\n",
    ")\n",
    "logger = logging.getLogger(__name__)"
   ],
   "id": "8d8feb98189f746",
   "outputs": [
    {
     "name": "stderr",
     "output_type": "stream",
     "text": [
      "/Users/mahmoud/agent-with-graphiti/.venv/lib/python3.12/site-packages/tqdm/auto.py:21: TqdmWarning: IProgress not found. Please update jupyter and ipywidgets. See https://ipywidgets.readthedocs.io/en/stable/user_install.html\n",
      "  from .autonotebook import tqdm as notebook_tqdm\n"
     ]
    }
   ],
   "execution_count": 1
  },
  {
   "metadata": {
    "collapsed": true,
    "ExecuteTime": {
     "end_time": "2025-07-10T13:38:56.353011Z",
     "start_time": "2025-07-10T13:38:56.349404Z"
    }
   },
   "cell_type": "code",
   "source": [
    "class LLMProvider(ABC):\n",
    "    @abstractmethod\n",
    "    def generate(self, prompt: str) -> str:\n",
    "        pass\n",
    "\n",
    "class GeminiProvider(LLMProvider):\n",
    "    def __init__(self, model_name: str = \"gemini-2.5-flash\"):\n",
    "        genai.configure(api_key=os.getenv(\"GOOGLE_API_KEY\"))\n",
    "        self.model = genai.GenerativeModel(model_name)\n",
    "\n",
    "    def generate(self, prompt: str) -> str:\n",
    "        logger.debug(f\"Generating response for prompt length: {len(prompt)}\")\n",
    "        max_retries = 3\n",
    "        for attempt in range(max_retries):\n",
    "            try:\n",
    "                logger.debug(f\"Gemini API call attempt {attempt + 1}\")\n",
    "                response = self.model.generate_content(\n",
    "                    prompt,\n",
    "                    generation_config=genai.types.GenerationConfig(\n",
    "                        temperature=0,\n",
    "                        max_output_tokens=500,\n",
    "                        top_p=0.8,\n",
    "                        top_k=40\n",
    "                    )\n",
    "                )\n",
    "\n",
    "                if hasattr(response, 'text') and response.text:\n",
    "                    logger.debug(f\"Gemini response received: {response.text[:200]}...\")\n",
    "                    return response.text\n",
    "\n",
    "                logger.warning(f\"Empty response from Gemini (attempt {attempt + 1})\")\n",
    "\n",
    "            except Exception as e:\n",
    "                logger.error(f\"Gemini API error (attempt {attempt + 1}): {e}\")\n",
    "                if attempt == max_retries - 1:\n",
    "                    fallback_response = '{\"thought\": \"Technical difficulties\", \"answer\": \"I\\'m experiencing technical issues. Please try again.\"}'\n",
    "                    logger.debug(f\"Returning fallback response: {fallback_response}\")\n",
    "                    return fallback_response\n",
    "\n",
    "                import time\n",
    "                time.sleep(1)\n",
    "\n",
    "        fallback_response = '{\"thought\": \"Max retries exceeded\", \"answer\": \"Connection issues. Please try again later.\"}'\n",
    "        logger.debug(f\"Max retries exceeded, returning: {fallback_response}\")\n",
    "        return fallback_response\n"
   ],
   "id": "initial_id",
   "outputs": [],
   "execution_count": 2
  },
  {
   "metadata": {
    "ExecuteTime": {
     "end_time": "2025-07-10T13:40:11.538153Z",
     "start_time": "2025-07-10T13:40:09.813998Z"
    }
   },
   "cell_type": "code",
   "source": [
    "def create_test_prompt(query: str, history: str = \"\") -> str:\n",
    "    return f\"\"\"You are a Customer Service agent for customer service.\n",
    "\n",
    "Query: {query}\n",
    "History: {history}\n",
    "\n",
    "Available tools: SEARCH_PRODUCTS, GET_PRODUCT_DETAILS, CHECK_AVAILABILITY, PLACE_ORDER, GET_ORDER_HISTORY, GET_USER_PREFERENCES, UPDATE_USER_PREFERENCES, RESPOND_TO_CUSTOMER\n",
    "\n",
    "Respond in JSON format:\n",
    "{{\"thought\": \"reasoning\", \"action\": {{\"name\": \"TOOL_NAME\", \"input\": \"input\"}}}}\n",
    "OR\n",
    "{{\"thought\": \"reasoning\", \"answer\": \"final answer\"}}\n",
    "\"\"\"\n",
    "\n",
    "llm_provider = GeminiProvider()\n",
    "\n",
    "prompt1 = create_test_prompt(\"I want to search for iPhone\")\n",
    "print(f\"PROMPT:\\n{prompt1}\")\n",
    "print(\"\\n\" + \"-\" * 30)\n",
    "\n",
    "response1 = llm_provider.generate(prompt1)\n",
    "print(f\"JSON RESPONSE:\\n{response1}\")"
   ],
   "id": "e37f49b702f3f74",
   "outputs": [
    {
     "name": "stderr",
     "output_type": "stream",
     "text": [
      "2025-07-10 17:40:09,816 - DEBUG - Generating response for prompt length: 420\n",
      "2025-07-10 17:40:09,817 - DEBUG - Gemini API call attempt 1\n"
     ]
    },
    {
     "name": "stdout",
     "output_type": "stream",
     "text": [
      "PROMPT:\n",
      "You are a ReAct agent for customer service.\n",
      "\n",
      "Query: I want to search for iPhone\n",
      "History: \n",
      "\n",
      "Available tools: SEARCH_PRODUCTS, GET_PRODUCT_DETAILS, CHECK_AVAILABILITY, PLACE_ORDER, GET_ORDER_HISTORY, GET_USER_PREFERENCES, UPDATE_USER_PREFERENCES, RESPOND_TO_CUSTOMER\n",
      "\n",
      "Respond in JSON format:\n",
      "{\"thought\": \"reasoning\", \"action\": {\"name\": \"TOOL_NAME\", \"input\": \"input\"}}\n",
      "OR\n",
      "{\"thought\": \"reasoning\", \"answer\": \"final answer\"}\n",
      "\n",
      "\n",
      "------------------------------\n"
     ]
    },
    {
     "name": "stderr",
     "output_type": "stream",
     "text": [
      "2025-07-10 17:40:11,535 - DEBUG - Gemini response received: ```json\n",
      "{\"thought\": \"The user wants to search for a product, specifically 'iPhone'. The `SEARCH_PRODUCTS` tool is appropriate for this action.\", \"action\": {\"name\": \"SEARCH_PRODUCTS\", \"input\": \"iPhone\"...\n"
     ]
    },
    {
     "name": "stdout",
     "output_type": "stream",
     "text": [
      "JSON RESPONSE:\n",
      "```json\n",
      "{\"thought\": \"The user wants to search for a product, specifically 'iPhone'. The `SEARCH_PRODUCTS` tool is appropriate for this action.\", \"action\": {\"name\": \"SEARCH_PRODUCTS\", \"input\": \"iPhone\"}}\n",
      "```\n"
     ]
    }
   ],
   "execution_count": 3
  }
 ],
 "metadata": {
  "kernelspec": {
   "display_name": "Python 3",
   "language": "python",
   "name": "python3"
  },
  "language_info": {
   "codemirror_mode": {
    "name": "ipython",
    "version": 2
   },
   "file_extension": ".py",
   "mimetype": "text/x-python",
   "name": "python",
   "nbconvert_exporter": "python",
   "pygments_lexer": "ipython2",
   "version": "2.7.6"
  }
 },
 "nbformat": 4,
 "nbformat_minor": 5
}
