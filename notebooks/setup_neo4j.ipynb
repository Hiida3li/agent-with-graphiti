{
 "cells": [
  {
   "metadata": {
    "ExecuteTime": {
     "end_time": "2025-07-02T11:55:50.477551Z",
     "start_time": "2025-07-02T11:55:50.449711Z"
    }
   },
   "cell_type": "code",
   "source": [
    "import asyncio\n",
    "import json\n",
    "import logging\n",
    "import os\n",
    "from datetime import datetime, timezone\n",
    "from logging import INFO\n",
    "\n",
    "from dotenv import load_dotenv\n",
    "\n",
    "from graphiti_core import Graphiti\n",
    "from graphiti_core.nodes import EpisodeType\n",
    "from graphiti_core.search.search_config_recipes import NODE_HYBRID_SEARCH_RRF\n",
    "\n",
    "\n",
    "# Configure logging\n",
    "logging.basicConfig(\n",
    "    level=INFO,\n",
    "    format='%(asctime)s - %(name)s - %(levelname)s - %(message)s',\n",
    "    datefmt='%Y-%m-%d %H:%M:%S',\n",
    ")\n",
    "logger = logging.getLogger(__name__)\n",
    "\n",
    "\n",
    "load_dotenv()\n",
    "\n",
    "# Neo4j connection parameters\n",
    "# Make sure Neo4j Desktop is running with a local DBMS started\n",
    "neo4j_uri = os.environ.get('NEO4J_URI', 'bolt://localhost:7687')\n",
    "neo4j_user = os.environ.get('NEO4J_USER', 'neo4j')\n",
    "neo4j_password = os.environ.get('NEO4J_PASSWORD', 'password')\n",
    "\n",
    "\n",
    "class ChatMemory:\n",
    "    def __init__(self, uri, user, password):\n",
    "        self.driver = AsyncGraphDatabase.driver(uri, auth=(user, password))\n",
    "        self.graphiti = Graphiti(uri=uri, user=user, password=password)\n",
    "\n",
    "    async def save_message_as_episode(self, user_id: str, text: str, sender: str):\n",
    "        timestamp = datetime.now(timezone.utc).isoformat()\n",
    "\n",
    "        await self.graphiti.add_episode(\n",
    "            external_user_id=user_id,\n",
    "            content=text,\n",
    "            sender=sender,\n",
    "            type=EpisodeType.chat,\n",
    "            timestamp=timestamp,\n",
    "        )\n",
    "\n",
    "\n",
    "async def run_conversation():\n",
    "    memory = ChatMemory(neo4j_uri, neo4j_user, neo4j_password)\n",
    "\n",
    "    user_id = \"user-123\"\n",
    "    user_input = \"I need help with my order\"\n",
    "\n",
    "    # Step 1: Save user message to memory\n",
    "    await memory.save_message_as_episode(user_id, user_input, sender=\"user\")\n",
    "\n",
    "    # Step 2: Gemini reply\n",
    "    response = gemini_model.generate_content(user_input)\n",
    "    reply = response.text.strip()\n",
    "\n",
    "    # Step 3: Save Gemini response to memory\n",
    "    await memory.save_message_as_episode(user_id, reply, sender=\"agent\")\n",
    "\n",
    "    print(\"Gemini Reply:\", reply)\n",
    "\n",
    "\n",
    "    await run_conversation()\n",
    "\n"
   ],
   "id": "8a33491b92978e45",
   "outputs": [
    {
     "ename": "ValueError",
     "evalue": "NEO4J_URI, NEO4J_USER, and NEO4J_PASSWORD must be set",
     "output_type": "error",
     "traceback": [
      "\u001B[31m---------------------------------------------------------------------------\u001B[39m",
      "\u001B[31mValueError\u001B[39m                                Traceback (most recent call last)",
      "\u001B[36mCell\u001B[39m\u001B[36m \u001B[39m\u001B[32mIn[19]\u001B[39m\u001B[32m, line 33\u001B[39m\n\u001B[32m     30\u001B[39m neo4j_password = os.environ.get(\u001B[33m'\u001B[39m\u001B[33mNEO4J_PASSWORD\u001B[39m\u001B[33m'\u001B[39m, \u001B[33m'\u001B[39m\u001B[33mpassword\u001B[39m\u001B[33m'\u001B[39m)\n\u001B[32m     32\u001B[39m \u001B[38;5;28;01mif\u001B[39;00m \u001B[38;5;129;01mnot\u001B[39;00m neo4j_uri \u001B[38;5;129;01mor\u001B[39;00m \u001B[38;5;129;01mnot\u001B[39;00m neo4j_user \u001B[38;5;129;01mor\u001B[39;00m \u001B[38;5;129;01mnot\u001B[39;00m neo4j_password:\n\u001B[32m---> \u001B[39m\u001B[32m33\u001B[39m     \u001B[38;5;28;01mraise\u001B[39;00m \u001B[38;5;167;01mValueError\u001B[39;00m(\u001B[33m'\u001B[39m\u001B[33mNEO4J_URI, NEO4J_USER, and NEO4J_PASSWORD must be set\u001B[39m\u001B[33m'\u001B[39m)\n\u001B[32m     37\u001B[39m \u001B[38;5;28;01mclass\u001B[39;00m\u001B[38;5;250m \u001B[39m\u001B[34;01mChatMemory\u001B[39;00m:\n\u001B[32m     38\u001B[39m     \u001B[38;5;28;01mdef\u001B[39;00m\u001B[38;5;250m \u001B[39m\u001B[34m__init__\u001B[39m(\u001B[38;5;28mself\u001B[39m, uri, user, password):\n",
      "\u001B[31mValueError\u001B[39m: NEO4J_URI, NEO4J_USER, and NEO4J_PASSWORD must be set"
     ]
    }
   ],
   "execution_count": 19
  },
  {
   "metadata": {
    "ExecuteTime": {
     "end_time": "2025-07-02T12:01:21.658351Z",
     "start_time": "2025-07-02T12:01:21.655022Z"
    }
   },
   "cell_type": "code",
   "source": [
    "import os\n",
    "\n",
    "print(\"Current working directory:\", os.getcwd())\n",
    "print(\"Files in this directory:\", os.listdir())"
   ],
   "id": "9e6aa281326512eb",
   "outputs": [
    {
     "name": "stdout",
     "output_type": "stream",
     "text": [
      "Current working directory: /Users/mahmoud/agent-with-graphiti/notebooks\n",
      "Files in this directory: ['setup_neo4j.ipynb']\n"
     ]
    }
   ],
   "execution_count": 28
  }
 ],
 "metadata": {
  "kernelspec": {
   "display_name": "Python 3",
   "language": "python",
   "name": "python3"
  },
  "language_info": {
   "codemirror_mode": {
    "name": "ipython",
    "version": 2
   },
   "file_extension": ".py",
   "mimetype": "text/x-python",
   "name": "python",
   "nbconvert_exporter": "python",
   "pygments_lexer": "ipython2",
   "version": "2.7.6"
  }
 },
 "nbformat": 4,
 "nbformat_minor": 5
}
