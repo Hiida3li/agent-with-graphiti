{
 "cells": [
  {
   "cell_type": "code",
   "id": "initial_id",
   "metadata": {
    "collapsed": true,
    "jupyter": {
     "is_executing": true
    }
   },
   "source": "!pip install graphiti-core neo4j google-generativeai python-dotenv",
   "outputs": [],
   "execution_count": null
  },
  {
   "metadata": {},
   "cell_type": "code",
   "outputs": [],
   "execution_count": null,
   "source": [
    "import os\n",
    "import asyncio\n",
    "from datetime import datetime, timezone\n",
    "from dotenv import load_dotenv\n",
    "\n",
    "import google.generativeai as genai\n",
    "from neo4j import AsyncGraphDatabase\n",
    "from graphiti_core import Graphiti\n",
    "from graphiti_core.nodes import EpisodeType\n",
    "\n",
    "# Load environment variables\n",
    "load_dotenv()\n",
    "\n",
    "# Set up Gemini\n",
    "GOOGLE_API_KEY = os.getenv(\"GOOGLE_API_KEY\")\n",
    "genai.configure(api_key=GOOGLE_API_KEY)\n",
    "gemini_model = genai.GenerativeModel(\"gemini-2.5-flash\")\n",
    "\n",
    "# Neo4j setup\n",
    "neo4j_uri = os.getenv(\"NEO4J_URI\")\n",
    "neo4j_user = os.getenv(\"NEO4J_USER\")\n",
    "neo4j_password = os.getenv(\"NEO4J_PASSWORD\")\n",
    "\n",
    "\n",
    "class ChatMemory:\n",
    "    def __init__(self, uri, user, password):\n",
    "        self.driver = AsyncGraphDatabase.driver(uri, auth=(user, password))\n",
    "        self.graphiti = Graphiti(uri=uri, user=user, password=password)\n",
    "\n",
    "    async def save_message_as_episode(self, user_id: str, text: str, sender: str):\n",
    "        timestamp = datetime.now(timezone.utc).isoformat()\n",
    "\n",
    "        await self.graphiti.add_episode(\n",
    "            external_user_id=user_id,\n",
    "            content=text,\n",
    "            sender=sender,\n",
    "            type=EpisodeType.chat,\n",
    "            timestamp=timestamp,\n",
    "        )\n",
    "\n",
    "\n",
    "async def run_conversation():\n",
    "    memory = ChatMemory(neo4j_uri, neo4j_user, neo4j_password)\n",
    "\n",
    "    user_id = \"user-123\"\n",
    "    user_input = \"I need help with my order\"\n",
    "\n",
    "    # Step 1: Save user message to memory\n",
    "    await memory.save_message_as_episode(user_id, user_input, sender=\"user\")\n",
    "\n",
    "    # Step 2: Gemini reply\n",
    "    response = gemini_model.generate_content(user_input)\n",
    "    reply = response.text.strip()\n",
    "\n",
    "    # Step 3: Save Gemini response to memory\n",
    "    await memory.save_message_as_episode(user_id, reply, sender=\"agent\")\n",
    "\n",
    "    print(\"Gemini Reply:\", reply)\n",
    "\n",
    "\n",
    "# Run async main\n",
    "asyncio.run(run_conversation())\n"
   ],
   "id": "8a33491b92978e45"
  }
 ],
 "metadata": {
  "kernelspec": {
   "display_name": "Python 3",
   "language": "python",
   "name": "python3"
  },
  "language_info": {
   "codemirror_mode": {
    "name": "ipython",
    "version": 2
   },
   "file_extension": ".py",
   "mimetype": "text/x-python",
   "name": "python",
   "nbconvert_exporter": "python",
   "pygments_lexer": "ipython2",
   "version": "2.7.6"
  }
 },
 "nbformat": 4,
 "nbformat_minor": 5
}
