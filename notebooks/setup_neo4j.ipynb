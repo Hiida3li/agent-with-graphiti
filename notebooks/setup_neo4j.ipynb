{
 "cells": [
  {
   "cell_type": "code",
   "execution_count": 3,
   "id": "8a33491b92978e45",
   "metadata": {
    "ExecuteTime": {
     "end_time": "2025-07-02T11:55:50.477551Z",
     "start_time": "2025-07-02T11:55:50.449711Z"
    }
   },
   "outputs": [
    {
     "ename": "AttributeError",
     "evalue": "type object 'EpisodeType' has no attribute 'chat'",
     "output_type": "error",
     "traceback": [
      "\u001b[0;31m---------------------------------------------------------------------------\u001b[0m",
      "\u001b[0;31mAttributeError\u001b[0m                            Traceback (most recent call last)",
      "Cell \u001b[0;32mIn[3], line 74\u001b[0m\n\u001b[1;32m     67\u001b[0m     \u001b[38;5;28;01mawait\u001b[39;00m memory\u001b[38;5;241m.\u001b[39msave_message_as_episode(user_id, reply, sender\u001b[38;5;241m=\u001b[39m\u001b[38;5;124m\"\u001b[39m\u001b[38;5;124magent\u001b[39m\u001b[38;5;124m\"\u001b[39m)\n\u001b[1;32m     69\u001b[0m     \u001b[38;5;28mprint\u001b[39m(\u001b[38;5;124m\"\u001b[39m\u001b[38;5;124mGemini Reply:\u001b[39m\u001b[38;5;124m\"\u001b[39m, reply)\n\u001b[0;32m---> 74\u001b[0m \u001b[38;5;28;01mawait\u001b[39;00m run_conversation()\n\u001b[1;32m     76\u001b[0m \u001b[38;5;28mprint\u001b[39m(response)\n",
      "Cell \u001b[0;32mIn[3], line 62\u001b[0m, in \u001b[0;36mrun_conversation\u001b[0;34m()\u001b[0m\n\u001b[1;32m     59\u001b[0m user_id \u001b[38;5;241m=\u001b[39m \u001b[38;5;124m\"\u001b[39m\u001b[38;5;124muser-123\u001b[39m\u001b[38;5;124m\"\u001b[39m\n\u001b[1;32m     60\u001b[0m user_input \u001b[38;5;241m=\u001b[39m \u001b[38;5;124m\"\u001b[39m\u001b[38;5;124mI need help with my order\u001b[39m\u001b[38;5;124m\"\u001b[39m\n\u001b[0;32m---> 62\u001b[0m \u001b[38;5;28;01mawait\u001b[39;00m memory\u001b[38;5;241m.\u001b[39msave_message_as_episode(user_id, user_input, sender\u001b[38;5;241m=\u001b[39m\u001b[38;5;124m\"\u001b[39m\u001b[38;5;124muser\u001b[39m\u001b[38;5;124m\"\u001b[39m)\n\u001b[1;32m     64\u001b[0m response \u001b[38;5;241m=\u001b[39m gemini_model\u001b[38;5;241m.\u001b[39mgenerate_content(user_input)\n\u001b[1;32m     65\u001b[0m reply \u001b[38;5;241m=\u001b[39m response\u001b[38;5;241m.\u001b[39mtext\u001b[38;5;241m.\u001b[39mstrip()\n",
      "Cell \u001b[0;32mIn[3], line 51\u001b[0m, in \u001b[0;36mChatMemory.save_message_as_episode\u001b[0;34m(self, user_id, text, sender)\u001b[0m\n\u001b[1;32m     44\u001b[0m \u001b[38;5;28;01masync\u001b[39;00m \u001b[38;5;28;01mdef\u001b[39;00m\u001b[38;5;250m \u001b[39m\u001b[38;5;21msave_message_as_episode\u001b[39m(\u001b[38;5;28mself\u001b[39m, user_id: \u001b[38;5;28mstr\u001b[39m, text: \u001b[38;5;28mstr\u001b[39m, sender: \u001b[38;5;28mstr\u001b[39m):\n\u001b[1;32m     45\u001b[0m     timestamp \u001b[38;5;241m=\u001b[39m datetime\u001b[38;5;241m.\u001b[39mnow(timezone\u001b[38;5;241m.\u001b[39mutc)\u001b[38;5;241m.\u001b[39misoformat()\n\u001b[1;32m     47\u001b[0m     \u001b[38;5;28;01mawait\u001b[39;00m \u001b[38;5;28mself\u001b[39m\u001b[38;5;241m.\u001b[39mgraphiti\u001b[38;5;241m.\u001b[39madd_episode(\n\u001b[1;32m     48\u001b[0m         external_user_id\u001b[38;5;241m=\u001b[39muser_id,\n\u001b[1;32m     49\u001b[0m         content\u001b[38;5;241m=\u001b[39mtext,\n\u001b[1;32m     50\u001b[0m         sender\u001b[38;5;241m=\u001b[39msender,\n\u001b[0;32m---> 51\u001b[0m         \u001b[38;5;28mtype\u001b[39m\u001b[38;5;241m=\u001b[39m\u001b[43mEpisodeType\u001b[49m\u001b[38;5;241;43m.\u001b[39;49m\u001b[43mchat\u001b[49m,\n\u001b[1;32m     52\u001b[0m         timestamp\u001b[38;5;241m=\u001b[39mtimestamp,\n\u001b[1;32m     53\u001b[0m     )\n",
      "\u001b[0;31mAttributeError\u001b[0m: type object 'EpisodeType' has no attribute 'chat'"
     ]
    }
   ],
   "source": [
    "import asyncio\n",
    "import json\n",
    "import logging\n",
    "import os\n",
    "from datetime import datetime, timezone\n",
    "from logging import INFO\n",
    "import google.generativeai as genai\n",
    "\n",
    "from dotenv import load_dotenv\n",
    "\n",
    "from graphiti_core import Graphiti\n",
    "from graphiti_core.nodes import EpisodeType\n",
    "from graphiti_core.search.search_config_recipes import NODE_HYBRID_SEARCH_RRF\n",
    "from neo4j import AsyncGraphDatabase\n",
    "\n",
    "\n",
    "logging.basicConfig(\n",
    "    level=INFO,\n",
    "    format='%(asctime)s - %(name)s - %(levelname)s - %(message)s',\n",
    "    datefmt='%Y-%m-%d %H:%M:%S',\n",
    ")\n",
    "logger = logging.getLogger(__name__)\n",
    "\n",
    "\n",
    "load_dotenv()\n",
    "\n",
    "#set-up Neo4j and Graphiti \n",
    "\n",
    "neo4j_uri = os.environ.get('NEO4J_URI', 'bolt://localhost:7687')\n",
    "neo4j_user = os.environ.get('NEO4J_USER', 'neo4j')\n",
    "neo4j_password = os.environ.get('NEO4J_PASSWORD', 'password')\n",
    "\n",
    "#Set-up Gemini \n",
    "\n",
    "GOOGLE_API_KEY = os.getenv(\"GOOGLE_API_KEY\")\n",
    "genai.configure(api_key=GOOGLE_API_KEY)\n",
    "gemini_model = genai.GenerativeModel(\"gemini-2.5-flash\")\n",
    "\n",
    "class ChatMemory:\n",
    "    def __init__(self, uri, user, password):\n",
    "        self.driver = AsyncGraphDatabase.driver(uri, auth=(user, password))\n",
    "        self.graphiti = Graphiti(uri=uri, user=user, password=password)\n",
    "\n",
    "    async def save_message_as_episode(self, user_id: str, text: str, sender: str):\n",
    "        timestamp = datetime.now(timezone.utc).isoformat()\n",
    "\n",
    "        await self.graphiti.add_episode(\n",
    "            external_user_id=user_id,\n",
    "            content=text,\n",
    "            sender=sender,\n",
    "            type=EpisodeType.CHAT,\n",
    "            timestamp=timestamp,\n",
    "        )\n",
    "\n",
    "\n",
    "async def run_conversation():\n",
    "    memory = ChatMemory(neo4j_uri, neo4j_user, neo4j_password)\n",
    "\n",
    "    user_id = \"user-123\"\n",
    "    user_input = \"I need help with my order\"\n",
    "\n",
    "    await memory.save_message_as_episode(user_id, user_input, sender=\"user\")\n",
    "\n",
    "    response = gemini_model.generate_content(user_input)\n",
    "    reply = response.text.strip()\n",
    "\n",
    "    await memory.save_message_as_episode(user_id, reply, sender=\"agent\")\n",
    "\n",
    "    print(\"Gemini Reply:\", reply)\n",
    "\n",
    "\n",
    "\n",
    "\n",
    "await run_conversation()\n",
    "\n",
    "print(response)\n"
   ]
  },
  {
   "cell_type": "code",
   "execution_count": null,
   "id": "b2558111",
   "metadata": {},
   "outputs": [],
   "source": []
  }
 ],
 "metadata": {
  "kernelspec": {
   "display_name": ".venv",
   "language": "python",
   "name": "python3"
  },
  "language_info": {
   "codemirror_mode": {
    "name": "ipython",
    "version": 3
   },
   "file_extension": ".py",
   "mimetype": "text/x-python",
   "name": "python",
   "nbconvert_exporter": "python",
   "pygments_lexer": "ipython3",
   "version": "3.12.4"
  }
 },
 "nbformat": 4,
 "nbformat_minor": 5
}
