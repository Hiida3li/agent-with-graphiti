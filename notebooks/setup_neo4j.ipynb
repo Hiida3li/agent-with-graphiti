{
 "cells": [
  {
   "cell_type": "code",
   "execution_count": 2,
   "id": "8a33491b92978e45",
   "metadata": {
    "ExecuteTime": {
     "end_time": "2025-07-03T10:30:33.289244Z",
     "start_time": "2025-07-03T10:30:33.283815Z"
    }
   },
   "outputs": [],
   "source": [
    "import asyncio\n",
    "import json\n",
    "import logging\n",
    "import os\n",
    "from datetime import datetime, timezone\n",
    "from logging import INFO\n",
    "import google.generativeai as genai\n",
    "\n",
    "from dotenv import load_dotenv\n",
    "\n",
    "from graphiti_core import Graphiti\n",
    "from graphiti_core.nodes import EpisodeType\n",
    "from graphiti_core.search.search_config_recipes import NODE_HYBRID_SEARCH_RRF\n",
    "from neo4j import AsyncGraphDatabase\n",
    "\n",
    "\n",
    "logging.basicConfig(\n",
    "    level=INFO,\n",
    "    format='%(asctime)s - %(name)s - %(levelname)s - %(message)s',\n",
    "    datefmt='%Y-%m-%d %H:%M:%S',\n",
    ")\n",
    "logger = logging.getLogger(__name__)\n",
    "\n",
    "load_dotenv()\n",
    "\n",
    "# Set-up Neo4j and Graphiti \n",
    "neo4j_uri = os.environ.get('NEO4J_URI', 'bolt://localhost:7687')\n",
    "neo4j_user = os.environ.get('NEO4J_USER', 'neo4j')\n",
    "neo4j_password = os.environ.get('NEO4J_PASSWORD', 'password')\n",
    "\n",
    "# Set-up Gemini \n",
    "GOOGLE_API_KEY = os.getenv(\"GOOGLE_API_KEY\")\n",
    "genai.configure(api_key=GOOGLE_API_KEY)\n",
    "gemini_model = genai.GenerativeModel(\"gemini-2.5-flash\")\n",
    "\n",
    "\n"
   ]
  },
  {
   "metadata": {
    "ExecuteTime": {
     "end_time": "2025-07-03T19:43:29.841016Z",
     "start_time": "2025-07-03T19:43:29.838914Z"
    }
   },
   "cell_type": "code",
   "source": [
    "async def main():\n",
    "    # Main function implementation will go here\n",
    "    pass\n",
    "\n",
    "await main()\n"
   ],
   "id": "515368efd9f806bc",
   "outputs": [],
   "execution_count": 7
  },
  {
   "metadata": {
    "ExecuteTime": {
     "end_time": "2025-07-03T19:44:21.504066Z",
     "start_time": "2025-07-03T19:44:20.966257Z"
    }
   },
   "cell_type": "code",
   "source": [
    "# Initialize Graphiti with Neo4j connection\n",
    "graphiti = Graphiti(neo4j_uri, neo4j_user, neo4j_password)\n",
    "\n",
    "try:\n",
    "    # Initialize the graph database with graphiti's indices. This only needs to be done once.\n",
    "    await graphiti.build_indices_and_constraints()\n",
    "\n",
    "    # Additional code will go here\n",
    "\n",
    "finally:\n",
    "    # Close the connection\n",
    "    await graphiti.close()\n",
    "    print('\\nConnection closed')\n"
   ],
   "id": "b6a18535f09b1d18",
   "outputs": [
    {
     "name": "stdout",
     "output_type": "stream",
     "text": [
      "\n",
      "Connection closed\n"
     ]
    }
   ],
   "execution_count": 8
  },
  {
   "metadata": {
    "jupyter": {
     "is_executing": true
    },
    "ExecuteTime": {
     "start_time": "2025-07-03T19:45:13.744189Z"
    }
   },
   "cell_type": "code",
   "source": [
    "# Episodes list containing both text and JSON episodes\n",
    "episodes = [\n",
    "    {\n",
    "        'content': 'Kamala Harris is the Attorney General of California. She was previously '\n",
    "        'the district attorney for San Francisco.',\n",
    "        'type': EpisodeType.text,\n",
    "        'description': 'podcast transcript',\n",
    "    },\n",
    "    {\n",
    "        'content': 'As AG, Harris was in office from January 3, 2011 – January 3, 2017',\n",
    "        'type': EpisodeType.text,\n",
    "        'description': 'podcast transcript',\n",
    "    },\n",
    "    {\n",
    "        'content': {\n",
    "            'name': 'Gavin Newsom',\n",
    "            'position': 'Governor',\n",
    "            'state': 'California',\n",
    "            'previous_role': 'Lieutenant Governor',\n",
    "            'previous_location': 'San Francisco',\n",
    "        },\n",
    "        'type': EpisodeType.json,\n",
    "        'description': 'podcast metadata',\n",
    "    },\n",
    "    {\n",
    "        'content': {\n",
    "            'name': 'Gavin Newsom',\n",
    "            'position': 'Governor',\n",
    "            'term_start': 'January 7, 2019',\n",
    "            'term_end': 'Present',\n",
    "        },\n",
    "        'type': EpisodeType.json,\n",
    "        'description': 'podcast metadata',\n",
    "    },\n",
    "]\n",
    "\n",
    "# Add episodes to the graph\n",
    "for i, episode in enumerate(episodes):\n",
    "    await graphiti.add_episode(\n",
    "        name=f'Freakonomics Radio {i}',\n",
    "        episode_body=episode['content']\n",
    "        if isinstance(episode['content'], str)\n",
    "        else json.dumps(episode['content']),\n",
    "        source=episode['type'],\n",
    "        source_description=episode['description'],\n",
    "        reference_time=datetime.now(timezone.utc),\n",
    "    )\n",
    "    print(f'Added episode: Freakonomics Radio {i} ({episode[\"type\"].value})')\n"
   ],
   "id": "3fe81823ed5e7c28",
   "outputs": [
    {
     "name": "stderr",
     "output_type": "stream",
     "text": [
      "2025-07-03 23:45:17 - httpx - INFO - HTTP Request: POST https://api.openai.com/v1/chat/completions \"HTTP/1.1 200 OK\"\n"
     ]
    }
   ],
   "execution_count": null
  },
  {
   "cell_type": "code",
   "execution_count": 3,
   "id": "44449c05",
   "metadata": {
    "ExecuteTime": {
     "end_time": "2025-07-03T10:30:37.113698Z",
     "start_time": "2025-07-03T10:30:37.110709Z"
    }
   },
   "outputs": [
    {
     "name": "stdout",
     "output_type": "stream",
     "text": [
      "[<EpisodeType.message: 'message'>, <EpisodeType.json: 'json'>, <EpisodeType.text: 'text'>]\n"
     ]
    }
   ],
   "source": [
    "from graphiti_core.nodes import EpisodeType\n",
    "\n",
    "print([e for e in EpisodeType])\n"
   ]
  },
  {
   "cell_type": "code",
   "execution_count": 5,
   "id": "b2558111",
   "metadata": {
    "ExecuteTime": {
     "end_time": "2025-07-03T10:30:39.469479Z",
     "start_time": "2025-07-03T10:30:39.466454Z"
    }
   },
   "outputs": [
    {
     "name": "stdout",
     "output_type": "stream",
     "text": [
      "(self, name: str, episode_body: str, source_description: str, reference_time: datetime.datetime, source: graphiti_core.nodes.EpisodeType = <EpisodeType.message: 'message'>, group_id: str = '', uuid: str | None = None, update_communities: bool = False, entity_types: dict[str, pydantic.main.BaseModel] | None = None, excluded_entity_types: list[str] | None = None, previous_episode_uuids: list[str] | None = None, edge_types: dict[str, pydantic.main.BaseModel] | None = None, edge_type_map: dict[tuple[str, str], list[str]] | None = None) -> graphiti_core.graphiti.AddEpisodeResults\n"
     ]
    }
   ],
   "source": [
    "import inspect\n",
    "print(inspect.signature(Graphiti.add_episode))"
   ]
  },
  {
   "cell_type": "code",
   "execution_count": null,
   "id": "7e6f0bb2f8ffeda8",
   "metadata": {},
   "outputs": [],
   "source": [
    "1/0"
   ]
  },
  {
   "cell_type": "code",
   "execution_count": null,
   "id": "41195a74acb284c4",
   "metadata": {},
   "outputs": [],
   "source": [
    "class ChatMemory:\n",
    "    def __init__(self, uri, user, password):\n",
    "        self.driver = AsyncGraphDatabase.driver(uri, auth=(user, password))\n",
    "        self.graphiti = Graphiti(uri=uri, user=user, password=password)\n",
    "\n",
    "    async def save_message_as_episode(self, user_id: str, text: str, sender: str):\n",
    "        timestamp = datetime.now(timezone.utc)\n",
    "\n",
    "        await self.graphiti.add_episode(\n",
    "            name=f\"{user_id}_{sender}_{timestamp.isoformat()}\",\n",
    "            episode_body=text,\n",
    "            source=EpisodeType.text,\n",
    "            source_description=f\"chat message from {sender}\",\n",
    "            reference_time=timestamp\n",
    "        )\n",
    "\n",
    "\n",
    "async def run_conversation():\n",
    "    memory = ChatMemory(neo4j_uri, neo4j_user, neo4j_password)\n",
    "\n",
    "    user_id = \"user-123\"\n",
    "    user_input = \"I need help with my order\"\n",
    "\n",
    "    await memory.save_message_as_episode(user_id, user_input, sender=\"user\")\n",
    "\n",
    "    response = gemini_model.generate_content(user_input)\n",
    "    reply = response.text.strip()\n",
    "\n",
    "    await memory.save_message_as_episode(user_id, reply, sender=\"agent\")\n",
    "\n",
    "    print(\"Gemini Reply:\", reply)\n",
    "    return response\n",
    "\n",
    "\n",
    "response = await run_conversation()\n",
    "print(response)"
   ]
  },
  {
   "metadata": {},
   "cell_type": "code",
   "outputs": [],
   "execution_count": null,
   "source": "",
   "id": "e2e34aa8da3832f5"
  }
 ],
 "metadata": {
  "kernelspec": {
   "display_name": ".venv",
   "language": "python",
   "name": "python3"
  },
  "language_info": {
   "codemirror_mode": {
    "name": "ipython",
    "version": 3
   },
   "file_extension": ".py",
   "mimetype": "text/x-python",
   "name": "python",
   "nbconvert_exporter": "python",
   "pygments_lexer": "ipython3",
   "version": "3.12.4"
  }
 },
 "nbformat": 4,
 "nbformat_minor": 5
}
