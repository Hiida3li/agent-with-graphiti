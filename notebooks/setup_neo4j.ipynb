{
 "cells": [
  {
   "cell_type": "code",
   "id": "8a33491b92978e45",
   "metadata": {
    "ExecuteTime": {
     "end_time": "2025-07-03T10:30:33.289244Z",
     "start_time": "2025-07-03T10:30:33.283815Z"
    }
   },
   "source": [
    "import asyncio\n",
    "import json\n",
    "import logging\n",
    "import os\n",
    "from datetime import datetime, timezone\n",
    "from logging import INFO\n",
    "import google.generativeai as genai\n",
    "\n",
    "from dotenv import load_dotenv\n",
    "\n",
    "from graphiti_core import Graphiti\n",
    "from graphiti_core.nodes import EpisodeType\n",
    "from graphiti_core.search.search_config_recipes import NODE_HYBRID_SEARCH_RRF\n",
    "from neo4j import AsyncGraphDatabase\n",
    "\n",
    "\n",
    "logging.basicConfig(\n",
    "    level=INFO,\n",
    "    format='%(asctime)s - %(name)s - %(levelname)s - %(message)s',\n",
    "    datefmt='%Y-%m-%d %H:%M:%S',\n",
    ")\n",
    "logger = logging.getLogger(__name__)\n",
    "\n",
    "load_dotenv()\n",
    "\n",
    "# Set-up Neo4j and Graphiti \n",
    "neo4j_uri = os.environ.get('NEO4J_URI', 'bolt://localhost:7687')\n",
    "neo4j_user = os.environ.get('NEO4J_USER', 'neo4j')\n",
    "neo4j_password = os.environ.get('NEO4J_PASSWORD', 'password')\n",
    "\n",
    "# Set-up Gemini \n",
    "GOOGLE_API_KEY = os.getenv(\"GOOGLE_API_KEY\")\n",
    "genai.configure(api_key=GOOGLE_API_KEY)\n",
    "gemini_model = genai.GenerativeModel(\"gemini-2.5-flash\")\n",
    "\n",
    "\n"
   ],
   "outputs": [],
   "execution_count": 2
  },
  {
   "cell_type": "code",
   "id": "44449c05",
   "metadata": {
    "ExecuteTime": {
     "end_time": "2025-07-03T10:30:37.113698Z",
     "start_time": "2025-07-03T10:30:37.110709Z"
    }
   },
   "source": [
    "from graphiti_core.nodes import EpisodeType\n",
    "\n",
    "print([e for e in EpisodeType])\n"
   ],
   "outputs": [
    {
     "name": "stdout",
     "output_type": "stream",
     "text": [
      "[<EpisodeType.message: 'message'>, <EpisodeType.json: 'json'>, <EpisodeType.text: 'text'>]\n"
     ]
    }
   ],
   "execution_count": 3
  },
  {
   "cell_type": "code",
   "id": "b2558111",
   "metadata": {
    "ExecuteTime": {
     "end_time": "2025-07-03T10:30:39.469479Z",
     "start_time": "2025-07-03T10:30:39.466454Z"
    }
   },
   "source": [
    "import inspect\n",
    "print(inspect.signature(Graphiti.add_episode))"
   ],
   "outputs": [
    {
     "name": "stdout",
     "output_type": "stream",
     "text": [
      "(self, name: str, episode_body: str, source_description: str, reference_time: datetime.datetime, source: graphiti_core.nodes.EpisodeType = <EpisodeType.message: 'message'>, group_id: str = '', uuid: str | None = None, update_communities: bool = False, entity_types: dict[str, pydantic.main.BaseModel] | None = None, excluded_entity_types: list[str] | None = None, previous_episode_uuids: list[str] | None = None, edge_types: dict[str, pydantic.main.BaseModel] | None = None, edge_type_map: dict[tuple[str, str], list[str]] | None = None) -> graphiti_core.graphiti.AddEpisodeResults\n"
     ]
    }
   ],
   "execution_count": 5
  },
  {
   "metadata": {},
   "cell_type": "code",
   "outputs": [],
   "execution_count": null,
   "source": "",
   "id": "7e6f0bb2f8ffeda8"
  },
  {
   "metadata": {},
   "cell_type": "code",
   "outputs": [],
   "execution_count": null,
   "source": "",
   "id": "41195a74acb284c4"
  }
 ],
 "metadata": {
  "kernelspec": {
   "display_name": ".venv",
   "language": "python",
   "name": "python3"
  },
  "language_info": {
   "codemirror_mode": {
    "name": "ipython",
    "version": 3
   },
   "file_extension": ".py",
   "mimetype": "text/x-python",
   "name": "python",
   "nbconvert_exporter": "python",
   "pygments_lexer": "ipython3",
   "version": "3.12.4"
  }
 },
 "nbformat": 4,
 "nbformat_minor": 5
}
