{
 "cells": [
  {
   "cell_type": "code",
   "id": "initial_id",
   "metadata": {
    "collapsed": true,
    "ExecuteTime": {
     "end_time": "2025-07-02T07:24:54.135170Z",
     "start_time": "2025-07-02T07:24:53.242249Z"
    }
   },
   "source": "!pip install graphiti-core neo4j google-generativeai python-dotenv",
   "outputs": [
    {
     "name": "stdout",
     "output_type": "stream",
     "text": [
      "Requirement already satisfied: graphiti-core in /Users/mahmoud/agent-with-graphiti/.venv/lib/python3.12/site-packages (0.15.0)\r\n",
      "Requirement already satisfied: neo4j in /Users/mahmoud/agent-with-graphiti/.venv/lib/python3.12/site-packages (5.28.1)\r\n",
      "Requirement already satisfied: google-generativeai in /Users/mahmoud/agent-with-graphiti/.venv/lib/python3.12/site-packages (0.8.5)\r\n",
      "Requirement already satisfied: python-dotenv in /Users/mahmoud/agent-with-graphiti/.venv/lib/python3.12/site-packages (1.1.1)\r\n",
      "Requirement already satisfied: diskcache>=5.6.3 in /Users/mahmoud/agent-with-graphiti/.venv/lib/python3.12/site-packages (from graphiti-core) (5.6.3)\r\n",
      "Requirement already satisfied: numpy>=1.0.0 in /Users/mahmoud/agent-with-graphiti/.venv/lib/python3.12/site-packages (from graphiti-core) (2.3.1)\r\n",
      "Requirement already satisfied: openai>=1.91.0 in /Users/mahmoud/agent-with-graphiti/.venv/lib/python3.12/site-packages (from graphiti-core) (1.93.0)\r\n",
      "Requirement already satisfied: posthog>=3.0.0 in /Users/mahmoud/agent-with-graphiti/.venv/lib/python3.12/site-packages (from graphiti-core) (6.0.1)\r\n",
      "Requirement already satisfied: pydantic>=2.11.5 in /Users/mahmoud/agent-with-graphiti/.venv/lib/python3.12/site-packages (from graphiti-core) (2.11.7)\r\n",
      "Requirement already satisfied: tenacity>=9.0.0 in /Users/mahmoud/agent-with-graphiti/.venv/lib/python3.12/site-packages (from graphiti-core) (9.1.2)\r\n",
      "Requirement already satisfied: pytz in /Users/mahmoud/agent-with-graphiti/.venv/lib/python3.12/site-packages (from neo4j) (2025.2)\r\n",
      "Requirement already satisfied: google-ai-generativelanguage==0.6.15 in /Users/mahmoud/agent-with-graphiti/.venv/lib/python3.12/site-packages (from google-generativeai) (0.6.15)\r\n",
      "Requirement already satisfied: google-api-core in /Users/mahmoud/agent-with-graphiti/.venv/lib/python3.12/site-packages (from google-generativeai) (2.25.1)\r\n",
      "Requirement already satisfied: google-api-python-client in /Users/mahmoud/agent-with-graphiti/.venv/lib/python3.12/site-packages (from google-generativeai) (2.174.0)\r\n",
      "Requirement already satisfied: google-auth>=2.15.0 in /Users/mahmoud/agent-with-graphiti/.venv/lib/python3.12/site-packages (from google-generativeai) (2.40.3)\r\n",
      "Requirement already satisfied: protobuf in /Users/mahmoud/agent-with-graphiti/.venv/lib/python3.12/site-packages (from google-generativeai) (5.29.5)\r\n",
      "Requirement already satisfied: tqdm in /Users/mahmoud/agent-with-graphiti/.venv/lib/python3.12/site-packages (from google-generativeai) (4.67.1)\r\n",
      "Requirement already satisfied: typing-extensions in /Users/mahmoud/agent-with-graphiti/.venv/lib/python3.12/site-packages (from google-generativeai) (4.14.0)\r\n",
      "Requirement already satisfied: proto-plus<2.0.0dev,>=1.22.3 in /Users/mahmoud/agent-with-graphiti/.venv/lib/python3.12/site-packages (from google-ai-generativelanguage==0.6.15->google-generativeai) (1.26.1)\r\n",
      "Requirement already satisfied: cachetools<6.0,>=2.0.0 in /Users/mahmoud/agent-with-graphiti/.venv/lib/python3.12/site-packages (from google-auth>=2.15.0->google-generativeai) (5.5.2)\r\n",
      "Requirement already satisfied: pyasn1-modules>=0.2.1 in /Users/mahmoud/agent-with-graphiti/.venv/lib/python3.12/site-packages (from google-auth>=2.15.0->google-generativeai) (0.4.2)\r\n",
      "Requirement already satisfied: rsa<5,>=3.1.4 in /Users/mahmoud/agent-with-graphiti/.venv/lib/python3.12/site-packages (from google-auth>=2.15.0->google-generativeai) (4.9.1)\r\n",
      "Requirement already satisfied: anyio<5,>=3.5.0 in /Users/mahmoud/agent-with-graphiti/.venv/lib/python3.12/site-packages (from openai>=1.91.0->graphiti-core) (4.9.0)\r\n",
      "Requirement already satisfied: distro<2,>=1.7.0 in /Users/mahmoud/agent-with-graphiti/.venv/lib/python3.12/site-packages (from openai>=1.91.0->graphiti-core) (1.9.0)\r\n",
      "Requirement already satisfied: httpx<1,>=0.23.0 in /Users/mahmoud/agent-with-graphiti/.venv/lib/python3.12/site-packages (from openai>=1.91.0->graphiti-core) (0.28.1)\r\n",
      "Requirement already satisfied: jiter<1,>=0.4.0 in /Users/mahmoud/agent-with-graphiti/.venv/lib/python3.12/site-packages (from openai>=1.91.0->graphiti-core) (0.10.0)\r\n",
      "Requirement already satisfied: sniffio in /Users/mahmoud/agent-with-graphiti/.venv/lib/python3.12/site-packages (from openai>=1.91.0->graphiti-core) (1.3.1)\r\n",
      "Requirement already satisfied: requests<3.0,>=2.7 in /Users/mahmoud/agent-with-graphiti/.venv/lib/python3.12/site-packages (from posthog>=3.0.0->graphiti-core) (2.32.4)\r\n",
      "Requirement already satisfied: six>=1.5 in /Users/mahmoud/agent-with-graphiti/.venv/lib/python3.12/site-packages (from posthog>=3.0.0->graphiti-core) (1.17.0)\r\n",
      "Requirement already satisfied: python-dateutil>=2.2 in /Users/mahmoud/agent-with-graphiti/.venv/lib/python3.12/site-packages (from posthog>=3.0.0->graphiti-core) (2.9.0.post0)\r\n",
      "Requirement already satisfied: backoff>=1.10.0 in /Users/mahmoud/agent-with-graphiti/.venv/lib/python3.12/site-packages (from posthog>=3.0.0->graphiti-core) (2.2.1)\r\n",
      "Requirement already satisfied: annotated-types>=0.6.0 in /Users/mahmoud/agent-with-graphiti/.venv/lib/python3.12/site-packages (from pydantic>=2.11.5->graphiti-core) (0.7.0)\r\n",
      "Requirement already satisfied: pydantic-core==2.33.2 in /Users/mahmoud/agent-with-graphiti/.venv/lib/python3.12/site-packages (from pydantic>=2.11.5->graphiti-core) (2.33.2)\r\n",
      "Requirement already satisfied: typing-inspection>=0.4.0 in /Users/mahmoud/agent-with-graphiti/.venv/lib/python3.12/site-packages (from pydantic>=2.11.5->graphiti-core) (0.4.1)\r\n",
      "Requirement already satisfied: googleapis-common-protos<2.0.0,>=1.56.2 in /Users/mahmoud/agent-with-graphiti/.venv/lib/python3.12/site-packages (from google-api-core->google-generativeai) (1.70.0)\r\n",
      "Requirement already satisfied: httplib2<1.0.0,>=0.19.0 in /Users/mahmoud/agent-with-graphiti/.venv/lib/python3.12/site-packages (from google-api-python-client->google-generativeai) (0.22.0)\r\n",
      "Requirement already satisfied: google-auth-httplib2<1.0.0,>=0.2.0 in /Users/mahmoud/agent-with-graphiti/.venv/lib/python3.12/site-packages (from google-api-python-client->google-generativeai) (0.2.0)\r\n",
      "Requirement already satisfied: uritemplate<5,>=3.0.1 in /Users/mahmoud/agent-with-graphiti/.venv/lib/python3.12/site-packages (from google-api-python-client->google-generativeai) (4.2.0)\r\n",
      "Requirement already satisfied: idna>=2.8 in /Users/mahmoud/agent-with-graphiti/.venv/lib/python3.12/site-packages (from anyio<5,>=3.5.0->openai>=1.91.0->graphiti-core) (3.10)\r\n",
      "Requirement already satisfied: grpcio<2.0.0,>=1.33.2 in /Users/mahmoud/agent-with-graphiti/.venv/lib/python3.12/site-packages (from google-api-core->google-generativeai) (1.73.1)\r\n",
      "Requirement already satisfied: grpcio-status<2.0.0,>=1.33.2 in /Users/mahmoud/agent-with-graphiti/.venv/lib/python3.12/site-packages (from google-api-core->google-generativeai) (1.71.2)\r\n",
      "Requirement already satisfied: pyparsing!=3.0.0,!=3.0.1,!=3.0.2,!=3.0.3,<4,>=2.4.2 in /Users/mahmoud/agent-with-graphiti/.venv/lib/python3.12/site-packages (from httplib2<1.0.0,>=0.19.0->google-api-python-client->google-generativeai) (3.2.3)\r\n",
      "Requirement already satisfied: certifi in /Users/mahmoud/agent-with-graphiti/.venv/lib/python3.12/site-packages (from httpx<1,>=0.23.0->openai>=1.91.0->graphiti-core) (2025.6.15)\r\n",
      "Requirement already satisfied: httpcore==1.* in /Users/mahmoud/agent-with-graphiti/.venv/lib/python3.12/site-packages (from httpx<1,>=0.23.0->openai>=1.91.0->graphiti-core) (1.0.9)\r\n",
      "Requirement already satisfied: h11>=0.16 in /Users/mahmoud/agent-with-graphiti/.venv/lib/python3.12/site-packages (from httpcore==1.*->httpx<1,>=0.23.0->openai>=1.91.0->graphiti-core) (0.16.0)\r\n",
      "Requirement already satisfied: pyasn1<0.7.0,>=0.6.1 in /Users/mahmoud/agent-with-graphiti/.venv/lib/python3.12/site-packages (from pyasn1-modules>=0.2.1->google-auth>=2.15.0->google-generativeai) (0.6.1)\r\n",
      "Requirement already satisfied: charset_normalizer<4,>=2 in /Users/mahmoud/agent-with-graphiti/.venv/lib/python3.12/site-packages (from requests<3.0,>=2.7->posthog>=3.0.0->graphiti-core) (3.4.2)\r\n",
      "Requirement already satisfied: urllib3<3,>=1.21.1 in /Users/mahmoud/agent-with-graphiti/.venv/lib/python3.12/site-packages (from requests<3.0,>=2.7->posthog>=3.0.0->graphiti-core) (2.5.0)\r\n",
      "\r\n",
      "\u001B[1m[\u001B[0m\u001B[34;49mnotice\u001B[0m\u001B[1;39;49m]\u001B[0m\u001B[39;49m A new release of pip is available: \u001B[0m\u001B[31;49m23.2.1\u001B[0m\u001B[39;49m -> \u001B[0m\u001B[32;49m25.1.1\u001B[0m\r\n",
      "\u001B[1m[\u001B[0m\u001B[34;49mnotice\u001B[0m\u001B[1;39;49m]\u001B[0m\u001B[39;49m To update, run: \u001B[0m\u001B[32;49mpip install --upgrade pip\u001B[0m\r\n"
     ]
    }
   ],
   "execution_count": 3
  },
  {
   "metadata": {
    "ExecuteTime": {
     "end_time": "2025-07-02T07:29:21.405371Z",
     "start_time": "2025-07-02T07:29:21.186863Z"
    }
   },
   "cell_type": "code",
   "source": [
    "import os\n",
    "import asyncio\n",
    "from datetime import datetime, timezone\n",
    "from dotenv import load_dotenv\n",
    "\n",
    "import google.generativeai as genai\n",
    "from neo4j import AsyncGraphDatabase\n",
    "from graphiti_core import Graphiti\n",
    "from graphiti_core.nodes import EpisodeType\n",
    "\n",
    "# Load environment variables\n",
    "load_dotenv()\n",
    "\n",
    "# Set up Gemini\n",
    "GOOGLE_API_KEY = os.getenv(\"GOOGLE_API_KEY\")\n",
    "genai.configure(api_key=GOOGLE_API_KEY)\n",
    "gemini_model = genai.GenerativeModel(\"gemini-2.5-flash\")\n",
    "\n",
    "neo4j_uri = os.getenv(\"NEO4J_URI\")\n",
    "neo4j_user = os.getenv(\"NEO4J_USER\")\n",
    "neo4j_password = os.getenv(\"NEO4J_PASSWORD\")\n",
    "\n",
    "\n",
    "class ChatMemory:\n",
    "    def __init__(self, uri, user, password):\n",
    "        self.driver = AsyncGraphDatabase.driver(uri, auth=(user, password))\n",
    "        self.graphiti = Graphiti(uri=uri, user=user, password=password)\n",
    "\n",
    "    async def save_message_as_episode(self, user_id: str, text: str, sender: str):\n",
    "        timestamp = datetime.now(timezone.utc).isoformat()\n",
    "\n",
    "        await self.graphiti.add_episode(\n",
    "            external_user_id=user_id,\n",
    "            content=text,\n",
    "            sender=sender,\n",
    "            type=EpisodeType.chat,\n",
    "            timestamp=timestamp,\n",
    "        )\n",
    "\n",
    "\n",
    "async def run_conversation():\n",
    "    memory = ChatMemory(neo4j_uri, neo4j_user, neo4j_password)\n",
    "\n",
    "    user_id = \"user-123\"\n",
    "    user_input = \"I need help with my order\"\n",
    "\n",
    "    # Step 1: Save user message to memory\n",
    "    await memory.save_message_as_episode(user_id, user_input, sender=\"user\")\n",
    "\n",
    "    # Step 2: Gemini reply\n",
    "    response = gemini_model.generate_content(user_input)\n",
    "    reply = response.text.strip()\n",
    "\n",
    "    # Step 3: Save Gemini response to memory\n",
    "    await memory.save_message_as_episode(user_id, reply, sender=\"agent\")\n",
    "\n",
    "    print(\"Gemini Reply:\", reply)\n",
    "\n",
    "\n",
    "# Run async main\n",
    "asyncio.run(run_conversation())\n"
   ],
   "id": "8a33491b92978e45",
   "outputs": [],
   "execution_count": 10
  },
  {
   "metadata": {
    "ExecuteTime": {
     "end_time": "2025-07-02T07:29:00.254946Z",
     "start_time": "2025-07-02T07:28:28.353372Z"
    }
   },
   "cell_type": "code",
   "source": "!pip uninstall graphiti-core",
   "id": "1c5cc45c2f11ea45",
   "outputs": [
    {
     "name": "stdout",
     "output_type": "stream",
     "text": [
      "Found existing installation: graphiti-core 0.15.0\r\n",
      "Uninstalling graphiti-core-0.15.0:\r\n",
      "  Would remove:\r\n",
      "    /Users/mahmoud/agent-with-graphiti/.venv/lib/python3.12/site-packages/graphiti_core-0.15.0.dist-info/*\r\n",
      "    /Users/mahmoud/agent-with-graphiti/.venv/lib/python3.12/site-packages/graphiti_core/*\r\n",
      "Proceed (Y/n)? ^C\r\n",
      "\u001B[31mERROR: Operation cancelled by user\u001B[0m\u001B[31m\r\n",
      "\u001B[0m"
     ]
    }
   ],
   "execution_count": 7
  },
  {
   "metadata": {
    "ExecuteTime": {
     "end_time": "2025-07-02T07:29:11.269183Z",
     "start_time": "2025-07-02T07:29:10.501888Z"
    }
   },
   "cell_type": "code",
   "source": "!pip install graphiti-core==0.14.0",
   "id": "6e4544ce3b145741",
   "outputs": [
    {
     "name": "stdout",
     "output_type": "stream",
     "text": [
      "Requirement already satisfied: graphiti-core==0.14.0 in /Users/mahmoud/agent-with-graphiti/.venv/lib/python3.12/site-packages (0.14.0)\r\n",
      "Requirement already satisfied: diskcache>=5.6.3 in /Users/mahmoud/agent-with-graphiti/.venv/lib/python3.12/site-packages (from graphiti-core==0.14.0) (5.6.3)\r\n",
      "Requirement already satisfied: neo4j>=5.26.0 in /Users/mahmoud/agent-with-graphiti/.venv/lib/python3.12/site-packages (from graphiti-core==0.14.0) (5.28.1)\r\n",
      "Requirement already satisfied: numpy>=1.0.0 in /Users/mahmoud/agent-with-graphiti/.venv/lib/python3.12/site-packages (from graphiti-core==0.14.0) (2.3.1)\r\n",
      "Requirement already satisfied: openai>=1.91.0 in /Users/mahmoud/agent-with-graphiti/.venv/lib/python3.12/site-packages (from graphiti-core==0.14.0) (1.93.0)\r\n",
      "Requirement already satisfied: posthog>=3.0.0 in /Users/mahmoud/agent-with-graphiti/.venv/lib/python3.12/site-packages (from graphiti-core==0.14.0) (6.0.1)\r\n",
      "Requirement already satisfied: pydantic>=2.11.5 in /Users/mahmoud/agent-with-graphiti/.venv/lib/python3.12/site-packages (from graphiti-core==0.14.0) (2.11.7)\r\n",
      "Requirement already satisfied: python-dotenv>=1.0.1 in /Users/mahmoud/agent-with-graphiti/.venv/lib/python3.12/site-packages (from graphiti-core==0.14.0) (1.1.1)\r\n",
      "Requirement already satisfied: tenacity>=9.0.0 in /Users/mahmoud/agent-with-graphiti/.venv/lib/python3.12/site-packages (from graphiti-core==0.14.0) (9.1.2)\r\n",
      "Requirement already satisfied: pytz in /Users/mahmoud/agent-with-graphiti/.venv/lib/python3.12/site-packages (from neo4j>=5.26.0->graphiti-core==0.14.0) (2025.2)\r\n",
      "Requirement already satisfied: anyio<5,>=3.5.0 in /Users/mahmoud/agent-with-graphiti/.venv/lib/python3.12/site-packages (from openai>=1.91.0->graphiti-core==0.14.0) (4.9.0)\r\n",
      "Requirement already satisfied: distro<2,>=1.7.0 in /Users/mahmoud/agent-with-graphiti/.venv/lib/python3.12/site-packages (from openai>=1.91.0->graphiti-core==0.14.0) (1.9.0)\r\n",
      "Requirement already satisfied: httpx<1,>=0.23.0 in /Users/mahmoud/agent-with-graphiti/.venv/lib/python3.12/site-packages (from openai>=1.91.0->graphiti-core==0.14.0) (0.28.1)\r\n",
      "Requirement already satisfied: jiter<1,>=0.4.0 in /Users/mahmoud/agent-with-graphiti/.venv/lib/python3.12/site-packages (from openai>=1.91.0->graphiti-core==0.14.0) (0.10.0)\r\n",
      "Requirement already satisfied: sniffio in /Users/mahmoud/agent-with-graphiti/.venv/lib/python3.12/site-packages (from openai>=1.91.0->graphiti-core==0.14.0) (1.3.1)\r\n",
      "Requirement already satisfied: tqdm>4 in /Users/mahmoud/agent-with-graphiti/.venv/lib/python3.12/site-packages (from openai>=1.91.0->graphiti-core==0.14.0) (4.67.1)\r\n",
      "Requirement already satisfied: typing-extensions<5,>=4.11 in /Users/mahmoud/agent-with-graphiti/.venv/lib/python3.12/site-packages (from openai>=1.91.0->graphiti-core==0.14.0) (4.14.0)\r\n",
      "Requirement already satisfied: requests<3.0,>=2.7 in /Users/mahmoud/agent-with-graphiti/.venv/lib/python3.12/site-packages (from posthog>=3.0.0->graphiti-core==0.14.0) (2.32.4)\r\n",
      "Requirement already satisfied: six>=1.5 in /Users/mahmoud/agent-with-graphiti/.venv/lib/python3.12/site-packages (from posthog>=3.0.0->graphiti-core==0.14.0) (1.17.0)\r\n",
      "Requirement already satisfied: python-dateutil>=2.2 in /Users/mahmoud/agent-with-graphiti/.venv/lib/python3.12/site-packages (from posthog>=3.0.0->graphiti-core==0.14.0) (2.9.0.post0)\r\n",
      "Requirement already satisfied: backoff>=1.10.0 in /Users/mahmoud/agent-with-graphiti/.venv/lib/python3.12/site-packages (from posthog>=3.0.0->graphiti-core==0.14.0) (2.2.1)\r\n",
      "Requirement already satisfied: annotated-types>=0.6.0 in /Users/mahmoud/agent-with-graphiti/.venv/lib/python3.12/site-packages (from pydantic>=2.11.5->graphiti-core==0.14.0) (0.7.0)\r\n",
      "Requirement already satisfied: pydantic-core==2.33.2 in /Users/mahmoud/agent-with-graphiti/.venv/lib/python3.12/site-packages (from pydantic>=2.11.5->graphiti-core==0.14.0) (2.33.2)\r\n",
      "Requirement already satisfied: typing-inspection>=0.4.0 in /Users/mahmoud/agent-with-graphiti/.venv/lib/python3.12/site-packages (from pydantic>=2.11.5->graphiti-core==0.14.0) (0.4.1)\r\n",
      "Requirement already satisfied: idna>=2.8 in /Users/mahmoud/agent-with-graphiti/.venv/lib/python3.12/site-packages (from anyio<5,>=3.5.0->openai>=1.91.0->graphiti-core==0.14.0) (3.10)\r\n",
      "Requirement already satisfied: certifi in /Users/mahmoud/agent-with-graphiti/.venv/lib/python3.12/site-packages (from httpx<1,>=0.23.0->openai>=1.91.0->graphiti-core==0.14.0) (2025.6.15)\r\n",
      "Requirement already satisfied: httpcore==1.* in /Users/mahmoud/agent-with-graphiti/.venv/lib/python3.12/site-packages (from httpx<1,>=0.23.0->openai>=1.91.0->graphiti-core==0.14.0) (1.0.9)\r\n",
      "Requirement already satisfied: h11>=0.16 in /Users/mahmoud/agent-with-graphiti/.venv/lib/python3.12/site-packages (from httpcore==1.*->httpx<1,>=0.23.0->openai>=1.91.0->graphiti-core==0.14.0) (0.16.0)\r\n",
      "Requirement already satisfied: charset_normalizer<4,>=2 in /Users/mahmoud/agent-with-graphiti/.venv/lib/python3.12/site-packages (from requests<3.0,>=2.7->posthog>=3.0.0->graphiti-core==0.14.0) (3.4.2)\r\n",
      "Requirement already satisfied: urllib3<3,>=1.21.1 in /Users/mahmoud/agent-with-graphiti/.venv/lib/python3.12/site-packages (from requests<3.0,>=2.7->posthog>=3.0.0->graphiti-core==0.14.0) (2.5.0)\r\n",
      "\r\n",
      "\u001B[1m[\u001B[0m\u001B[34;49mnotice\u001B[0m\u001B[1;39;49m]\u001B[0m\u001B[39;49m A new release of pip is available: \u001B[0m\u001B[31;49m23.2.1\u001B[0m\u001B[39;49m -> \u001B[0m\u001B[32;49m25.1.1\u001B[0m\r\n",
      "\u001B[1m[\u001B[0m\u001B[34;49mnotice\u001B[0m\u001B[1;39;49m]\u001B[0m\u001B[39;49m To update, run: \u001B[0m\u001B[32;49mpip install --upgrade pip\u001B[0m\r\n"
     ]
    }
   ],
   "execution_count": 9
  }
 ],
 "metadata": {
  "kernelspec": {
   "display_name": "Python 3",
   "language": "python",
   "name": "python3"
  },
  "language_info": {
   "codemirror_mode": {
    "name": "ipython",
    "version": 2
   },
   "file_extension": ".py",
   "mimetype": "text/x-python",
   "name": "python",
   "nbconvert_exporter": "python",
   "pygments_lexer": "ipython2",
   "version": "2.7.6"
  }
 },
 "nbformat": 4,
 "nbformat_minor": 5
}
