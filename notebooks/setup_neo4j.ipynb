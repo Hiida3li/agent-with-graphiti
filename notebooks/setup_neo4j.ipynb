{
 "cells": [
  {
   "cell_type": "code",
   "execution_count": 2,
   "id": "8a33491b92978e45",
   "metadata": {
    "ExecuteTime": {
     "end_time": "2025-07-03T10:30:33.289244Z",
     "start_time": "2025-07-03T10:30:33.283815Z"
    }
   },
   "outputs": [],
   "source": [
    "import asyncio\n",
    "import json\n",
    "import logging\n",
    "import os\n",
    "from datetime import datetime, timezone\n",
    "from logging import INFO\n",
    "import google.generativeai as genai\n",
    "\n",
    "from dotenv import load_dotenv\n",
    "\n",
    "from graphiti_core import Graphiti\n",
    "from graphiti_core.nodes import EpisodeType\n",
    "from graphiti_core.search.search_config_recipes import NODE_HYBRID_SEARCH_RRF\n",
    "from neo4j import AsyncGraphDatabase\n",
    "\n",
    "\n",
    "logging.basicConfig(\n",
    "    level=INFO,\n",
    "    format='%(asctime)s - %(name)s - %(levelname)s - %(message)s',\n",
    "    datefmt='%Y-%m-%d %H:%M:%S',\n",
    ")\n",
    "logger = logging.getLogger(__name__)\n",
    "\n",
    "load_dotenv()\n",
    "\n",
    "# Set-up Neo4j and Graphiti \n",
    "neo4j_uri = os.environ.get('NEO4J_URI', 'bolt://localhost:7687')\n",
    "neo4j_user = os.environ.get('NEO4J_USER', 'neo4j')\n",
    "neo4j_password = os.environ.get('NEO4J_PASSWORD', 'password')\n",
    "\n",
    "# Set-up Gemini \n",
    "GOOGLE_API_KEY = os.getenv(\"GOOGLE_API_KEY\")\n",
    "genai.configure(api_key=GOOGLE_API_KEY)\n",
    "gemini_model = genai.GenerativeModel(\"gemini-2.5-flash\")\n",
    "\n",
    "\n"
   ]
  },
  {
   "metadata": {
    "ExecuteTime": {
     "end_time": "2025-07-03T19:43:29.841016Z",
     "start_time": "2025-07-03T19:43:29.838914Z"
    }
   },
   "cell_type": "code",
   "source": [
    "async def main():\n",
    "    # Main function implementation will go here\n",
    "    pass\n",
    "\n",
    "await main()\n"
   ],
   "id": "515368efd9f806bc",
   "outputs": [],
   "execution_count": 7
  },
  {
   "metadata": {
    "ExecuteTime": {
     "end_time": "2025-07-03T19:44:21.504066Z",
     "start_time": "2025-07-03T19:44:20.966257Z"
    }
   },
   "cell_type": "code",
   "source": [
    "# Initialize Graphiti with Neo4j connection\n",
    "graphiti = Graphiti(neo4j_uri, neo4j_user, neo4j_password)\n",
    "\n",
    "try:\n",
    "    # Initialize the graph database with graphiti's indices. This only needs to be done once.\n",
    "    await graphiti.build_indices_and_constraints()\n",
    "\n",
    "    # Additional code will go here\n",
    "\n",
    "finally:\n",
    "    # Close the connection\n",
    "    await graphiti.close()\n",
    "    print('\\nConnection closed')\n"
   ],
   "id": "b6a18535f09b1d18",
   "outputs": [
    {
     "name": "stdout",
     "output_type": "stream",
     "text": [
      "\n",
      "Connection closed\n"
     ]
    }
   ],
   "execution_count": 8
  },
  {
   "metadata": {
    "ExecuteTime": {
     "end_time": "2025-07-03T19:45:19.152403Z",
     "start_time": "2025-07-03T19:45:13.744189Z"
    }
   },
   "cell_type": "code",
   "source": [
    "# Episodes list containing both text and JSON episodes\n",
    "episodes = [\n",
    "    {\n",
    "        'content': 'Kamala Harris is the Attorney General of California. She was previously '\n",
    "        'the district attorney for San Francisco.',\n",
    "        'type': EpisodeType.text,\n",
    "        'description': 'podcast transcript',\n",
    "    },\n",
    "    {\n",
    "        'content': 'As AG, Harris was in office from January 3, 2011 – January 3, 2017',\n",
    "        'type': EpisodeType.text,\n",
    "        'description': 'podcast transcript',\n",
    "    },\n",
    "    {\n",
    "        'content': {\n",
    "            'name': 'Gavin Newsom',\n",
    "            'position': 'Governor',\n",
    "            'state': 'California',\n",
    "            'previous_role': 'Lieutenant Governor',\n",
    "            'previous_location': 'San Francisco',\n",
    "        },\n",
    "        'type': EpisodeType.json,\n",
    "        'description': 'podcast metadata',\n",
    "    },\n",
    "    {\n",
    "        'content': {\n",
    "            'name': 'Gavin Newsom',\n",
    "            'position': 'Governor',\n",
    "            'term_start': 'January 7, 2019',\n",
    "            'term_end': 'Present',\n",
    "        },\n",
    "        'type': EpisodeType.json,\n",
    "        'description': 'podcast metadata',\n",
    "    },\n",
    "]\n",
    "\n",
    "# Add episodes to the graph\n",
    "for i, episode in enumerate(episodes):\n",
    "    await graphiti.add_episode(\n",
    "        name=f'Freakonomics Radio {i}',\n",
    "        episode_body=episode['content']\n",
    "        if isinstance(episode['content'], str)\n",
    "        else json.dumps(episode['content']),\n",
    "        source=episode['type'],\n",
    "        source_description=episode['description'],\n",
    "        reference_time=datetime.now(timezone.utc),\n",
    "    )\n",
    "    print(f'Added episode: Freakonomics Radio {i} ({episode[\"type\"].value})')\n"
   ],
   "id": "3fe81823ed5e7c28",
   "outputs": [
    {
     "name": "stderr",
     "output_type": "stream",
     "text": [
      "2025-07-03 23:45:17 - httpx - INFO - HTTP Request: POST https://api.openai.com/v1/chat/completions \"HTTP/1.1 200 OK\"\n",
      "2025-07-03 23:45:19 - httpx - INFO - HTTP Request: POST https://api.openai.com/v1/embeddings \"HTTP/1.1 200 OK\"\n"
     ]
    },
    {
     "ename": "CypherSyntaxError",
     "evalue": "{code: Neo.ClientError.Statement.SyntaxError} {message: Unknown function 'vector.similarity.cosine' (line 4, column 17 (offset: 79))\n\"        WITH n, vector.similarity.cosine(n.name_embedding, $search_vector) AS score\"\n                 ^}",
     "output_type": "error",
     "traceback": [
      "\u001B[0;31m---------------------------------------------------------------------------\u001B[0m",
      "\u001B[0;31mCypherSyntaxError\u001B[0m                         Traceback (most recent call last)",
      "Cell \u001B[0;32mIn[9], line 39\u001B[0m\n\u001B[1;32m     37\u001B[0m \u001B[38;5;66;03m# Add episodes to the graph\u001B[39;00m\n\u001B[1;32m     38\u001B[0m \u001B[38;5;28;01mfor\u001B[39;00m i, episode \u001B[38;5;129;01min\u001B[39;00m \u001B[38;5;28menumerate\u001B[39m(episodes):\n\u001B[0;32m---> 39\u001B[0m     \u001B[38;5;28;01mawait\u001B[39;00m graphiti\u001B[38;5;241m.\u001B[39madd_episode(\n\u001B[1;32m     40\u001B[0m         name\u001B[38;5;241m=\u001B[39m\u001B[38;5;124mf\u001B[39m\u001B[38;5;124m'\u001B[39m\u001B[38;5;124mFreakonomics Radio \u001B[39m\u001B[38;5;132;01m{\u001B[39;00mi\u001B[38;5;132;01m}\u001B[39;00m\u001B[38;5;124m'\u001B[39m,\n\u001B[1;32m     41\u001B[0m         episode_body\u001B[38;5;241m=\u001B[39mepisode[\u001B[38;5;124m'\u001B[39m\u001B[38;5;124mcontent\u001B[39m\u001B[38;5;124m'\u001B[39m]\n\u001B[1;32m     42\u001B[0m         \u001B[38;5;28;01mif\u001B[39;00m \u001B[38;5;28misinstance\u001B[39m(episode[\u001B[38;5;124m'\u001B[39m\u001B[38;5;124mcontent\u001B[39m\u001B[38;5;124m'\u001B[39m], \u001B[38;5;28mstr\u001B[39m)\n\u001B[1;32m     43\u001B[0m         \u001B[38;5;28;01melse\u001B[39;00m json\u001B[38;5;241m.\u001B[39mdumps(episode[\u001B[38;5;124m'\u001B[39m\u001B[38;5;124mcontent\u001B[39m\u001B[38;5;124m'\u001B[39m]),\n\u001B[1;32m     44\u001B[0m         source\u001B[38;5;241m=\u001B[39mepisode[\u001B[38;5;124m'\u001B[39m\u001B[38;5;124mtype\u001B[39m\u001B[38;5;124m'\u001B[39m],\n\u001B[1;32m     45\u001B[0m         source_description\u001B[38;5;241m=\u001B[39mepisode[\u001B[38;5;124m'\u001B[39m\u001B[38;5;124mdescription\u001B[39m\u001B[38;5;124m'\u001B[39m],\n\u001B[1;32m     46\u001B[0m         reference_time\u001B[38;5;241m=\u001B[39mdatetime\u001B[38;5;241m.\u001B[39mnow(timezone\u001B[38;5;241m.\u001B[39mutc),\n\u001B[1;32m     47\u001B[0m     )\n\u001B[1;32m     48\u001B[0m     \u001B[38;5;28mprint\u001B[39m(\u001B[38;5;124mf\u001B[39m\u001B[38;5;124m'\u001B[39m\u001B[38;5;124mAdded episode: Freakonomics Radio \u001B[39m\u001B[38;5;132;01m{\u001B[39;00mi\u001B[38;5;132;01m}\u001B[39;00m\u001B[38;5;124m (\u001B[39m\u001B[38;5;132;01m{\u001B[39;00mepisode[\u001B[38;5;124m\"\u001B[39m\u001B[38;5;124mtype\u001B[39m\u001B[38;5;124m\"\u001B[39m]\u001B[38;5;241m.\u001B[39mvalue\u001B[38;5;132;01m}\u001B[39;00m\u001B[38;5;124m)\u001B[39m\u001B[38;5;124m'\u001B[39m)\n",
      "File \u001B[0;32m~/agent-with-graphiti/.venv/lib/python3.12/site-packages/graphiti_core/graphiti.py:532\u001B[0m, in \u001B[0;36mGraphiti.add_episode\u001B[0;34m(self, name, episode_body, source_description, reference_time, source, group_id, uuid, update_communities, entity_types, excluded_entity_types, previous_episode_uuids, edge_types, edge_type_map)\u001B[0m\n\u001B[1;32m    529\u001B[0m     \u001B[38;5;28;01mreturn\u001B[39;00m AddEpisodeResults(episode\u001B[38;5;241m=\u001B[39mepisode, nodes\u001B[38;5;241m=\u001B[39mnodes, edges\u001B[38;5;241m=\u001B[39mentity_edges)\n\u001B[1;32m    531\u001B[0m \u001B[38;5;28;01mexcept\u001B[39;00m \u001B[38;5;167;01mException\u001B[39;00m \u001B[38;5;28;01mas\u001B[39;00m e:\n\u001B[0;32m--> 532\u001B[0m     \u001B[38;5;28;01mraise\u001B[39;00m e\n",
      "File \u001B[0;32m~/agent-with-graphiti/.venv/lib/python3.12/site-packages/graphiti_core/graphiti.py:465\u001B[0m, in \u001B[0;36mGraphiti.add_episode\u001B[0;34m(self, name, episode_body, source_description, reference_time, source, group_id, uuid, update_communities, entity_types, excluded_entity_types, previous_episode_uuids, edge_types, edge_type_map)\u001B[0m\n\u001B[1;32m    460\u001B[0m extracted_nodes \u001B[38;5;241m=\u001B[39m \u001B[38;5;28;01mawait\u001B[39;00m extract_nodes(\n\u001B[1;32m    461\u001B[0m     \u001B[38;5;28mself\u001B[39m\u001B[38;5;241m.\u001B[39mclients, episode, previous_episodes, entity_types, excluded_entity_types\n\u001B[1;32m    462\u001B[0m )\n\u001B[1;32m    464\u001B[0m \u001B[38;5;66;03m# Extract edges and resolve nodes\u001B[39;00m\n\u001B[0;32m--> 465\u001B[0m (nodes, uuid_map, node_duplicates), extracted_edges \u001B[38;5;241m=\u001B[39m \u001B[38;5;28;01mawait\u001B[39;00m semaphore_gather(\n\u001B[1;32m    466\u001B[0m     resolve_extracted_nodes(\n\u001B[1;32m    467\u001B[0m         \u001B[38;5;28mself\u001B[39m\u001B[38;5;241m.\u001B[39mclients,\n\u001B[1;32m    468\u001B[0m         extracted_nodes,\n\u001B[1;32m    469\u001B[0m         episode,\n\u001B[1;32m    470\u001B[0m         previous_episodes,\n\u001B[1;32m    471\u001B[0m         entity_types,\n\u001B[1;32m    472\u001B[0m     ),\n\u001B[1;32m    473\u001B[0m     extract_edges(\n\u001B[1;32m    474\u001B[0m         \u001B[38;5;28mself\u001B[39m\u001B[38;5;241m.\u001B[39mclients,\n\u001B[1;32m    475\u001B[0m         episode,\n\u001B[1;32m    476\u001B[0m         extracted_nodes,\n\u001B[1;32m    477\u001B[0m         previous_episodes,\n\u001B[1;32m    478\u001B[0m         edge_type_map \u001B[38;5;129;01mor\u001B[39;00m edge_type_map_default,\n\u001B[1;32m    479\u001B[0m         group_id,\n\u001B[1;32m    480\u001B[0m         edge_types,\n\u001B[1;32m    481\u001B[0m     ),\n\u001B[1;32m    482\u001B[0m     max_coroutines\u001B[38;5;241m=\u001B[39m\u001B[38;5;28mself\u001B[39m\u001B[38;5;241m.\u001B[39mmax_coroutines,\n\u001B[1;32m    483\u001B[0m )\n\u001B[1;32m    485\u001B[0m edges \u001B[38;5;241m=\u001B[39m resolve_edge_pointers(extracted_edges, uuid_map)\n\u001B[1;32m    487\u001B[0m (resolved_edges, invalidated_edges), hydrated_nodes \u001B[38;5;241m=\u001B[39m \u001B[38;5;28;01mawait\u001B[39;00m semaphore_gather(\n\u001B[1;32m    488\u001B[0m     resolve_extracted_edges(\n\u001B[1;32m    489\u001B[0m         \u001B[38;5;28mself\u001B[39m\u001B[38;5;241m.\u001B[39mclients,\n\u001B[0;32m   (...)\u001B[0m\n\u001B[1;32m    499\u001B[0m     max_coroutines\u001B[38;5;241m=\u001B[39m\u001B[38;5;28mself\u001B[39m\u001B[38;5;241m.\u001B[39mmax_coroutines,\n\u001B[1;32m    500\u001B[0m )\n",
      "File \u001B[0;32m~/agent-with-graphiti/.venv/lib/python3.12/site-packages/graphiti_core/helpers.py:109\u001B[0m, in \u001B[0;36msemaphore_gather\u001B[0;34m(max_coroutines, *coroutines)\u001B[0m\n\u001B[1;32m    106\u001B[0m     \u001B[38;5;28;01masync\u001B[39;00m \u001B[38;5;28;01mwith\u001B[39;00m semaphore:\n\u001B[1;32m    107\u001B[0m         \u001B[38;5;28;01mreturn\u001B[39;00m \u001B[38;5;28;01mawait\u001B[39;00m coroutine\n\u001B[0;32m--> 109\u001B[0m \u001B[38;5;28;01mreturn\u001B[39;00m \u001B[38;5;28;01mawait\u001B[39;00m asyncio\u001B[38;5;241m.\u001B[39mgather(\u001B[38;5;241m*\u001B[39m(_wrap_coroutine(coroutine) \u001B[38;5;28;01mfor\u001B[39;00m coroutine \u001B[38;5;129;01min\u001B[39;00m coroutines))\n",
      "File \u001B[0;32m~/agent-with-graphiti/.venv/lib/python3.12/site-packages/graphiti_core/helpers.py:107\u001B[0m, in \u001B[0;36msemaphore_gather.<locals>._wrap_coroutine\u001B[0;34m(coroutine)\u001B[0m\n\u001B[1;32m    105\u001B[0m \u001B[38;5;28;01masync\u001B[39;00m \u001B[38;5;28;01mdef\u001B[39;00m\u001B[38;5;250m \u001B[39m\u001B[38;5;21m_wrap_coroutine\u001B[39m(coroutine):\n\u001B[1;32m    106\u001B[0m     \u001B[38;5;28;01masync\u001B[39;00m \u001B[38;5;28;01mwith\u001B[39;00m semaphore:\n\u001B[0;32m--> 107\u001B[0m         \u001B[38;5;28;01mreturn\u001B[39;00m \u001B[38;5;28;01mawait\u001B[39;00m coroutine\n",
      "File \u001B[0;32m~/agent-with-graphiti/.venv/lib/python3.12/site-packages/graphiti_core/utils/maintenance/node_operations.py:239\u001B[0m, in \u001B[0;36mresolve_extracted_nodes\u001B[0;34m(clients, extracted_nodes, episode, previous_episodes, entity_types)\u001B[0m\n\u001B[1;32m    236\u001B[0m llm_client \u001B[38;5;241m=\u001B[39m clients\u001B[38;5;241m.\u001B[39mllm_client\n\u001B[1;32m    237\u001B[0m driver \u001B[38;5;241m=\u001B[39m clients\u001B[38;5;241m.\u001B[39mdriver\n\u001B[0;32m--> 239\u001B[0m search_results: \u001B[38;5;28mlist\u001B[39m[SearchResults] \u001B[38;5;241m=\u001B[39m \u001B[38;5;28;01mawait\u001B[39;00m semaphore_gather(\n\u001B[1;32m    240\u001B[0m     \u001B[38;5;241m*\u001B[39m[\n\u001B[1;32m    241\u001B[0m         search(\n\u001B[1;32m    242\u001B[0m             clients\u001B[38;5;241m=\u001B[39mclients,\n\u001B[1;32m    243\u001B[0m             query\u001B[38;5;241m=\u001B[39mnode\u001B[38;5;241m.\u001B[39mname,\n\u001B[1;32m    244\u001B[0m             group_ids\u001B[38;5;241m=\u001B[39m[node\u001B[38;5;241m.\u001B[39mgroup_id],\n\u001B[1;32m    245\u001B[0m             search_filter\u001B[38;5;241m=\u001B[39mSearchFilters(),\n\u001B[1;32m    246\u001B[0m             config\u001B[38;5;241m=\u001B[39mNODE_HYBRID_SEARCH_RRF,\n\u001B[1;32m    247\u001B[0m         )\n\u001B[1;32m    248\u001B[0m         \u001B[38;5;28;01mfor\u001B[39;00m node \u001B[38;5;129;01min\u001B[39;00m extracted_nodes\n\u001B[1;32m    249\u001B[0m     ]\n\u001B[1;32m    250\u001B[0m )\n\u001B[1;32m    252\u001B[0m existing_nodes_dict: \u001B[38;5;28mdict\u001B[39m[\u001B[38;5;28mstr\u001B[39m, EntityNode] \u001B[38;5;241m=\u001B[39m {\n\u001B[1;32m    253\u001B[0m     node\u001B[38;5;241m.\u001B[39muuid: node \u001B[38;5;28;01mfor\u001B[39;00m result \u001B[38;5;129;01min\u001B[39;00m search_results \u001B[38;5;28;01mfor\u001B[39;00m node \u001B[38;5;129;01min\u001B[39;00m result\u001B[38;5;241m.\u001B[39mnodes\n\u001B[1;32m    254\u001B[0m }\n\u001B[1;32m    256\u001B[0m existing_nodes: \u001B[38;5;28mlist\u001B[39m[EntityNode] \u001B[38;5;241m=\u001B[39m \u001B[38;5;28mlist\u001B[39m(existing_nodes_dict\u001B[38;5;241m.\u001B[39mvalues())\n",
      "File \u001B[0;32m~/agent-with-graphiti/.venv/lib/python3.12/site-packages/graphiti_core/helpers.py:109\u001B[0m, in \u001B[0;36msemaphore_gather\u001B[0;34m(max_coroutines, *coroutines)\u001B[0m\n\u001B[1;32m    106\u001B[0m     \u001B[38;5;28;01masync\u001B[39;00m \u001B[38;5;28;01mwith\u001B[39;00m semaphore:\n\u001B[1;32m    107\u001B[0m         \u001B[38;5;28;01mreturn\u001B[39;00m \u001B[38;5;28;01mawait\u001B[39;00m coroutine\n\u001B[0;32m--> 109\u001B[0m \u001B[38;5;28;01mreturn\u001B[39;00m \u001B[38;5;28;01mawait\u001B[39;00m asyncio\u001B[38;5;241m.\u001B[39mgather(\u001B[38;5;241m*\u001B[39m(_wrap_coroutine(coroutine) \u001B[38;5;28;01mfor\u001B[39;00m coroutine \u001B[38;5;129;01min\u001B[39;00m coroutines))\n",
      "File \u001B[0;32m~/agent-with-graphiti/.venv/lib/python3.12/site-packages/graphiti_core/helpers.py:107\u001B[0m, in \u001B[0;36msemaphore_gather.<locals>._wrap_coroutine\u001B[0;34m(coroutine)\u001B[0m\n\u001B[1;32m    105\u001B[0m \u001B[38;5;28;01masync\u001B[39;00m \u001B[38;5;28;01mdef\u001B[39;00m\u001B[38;5;250m \u001B[39m\u001B[38;5;21m_wrap_coroutine\u001B[39m(coroutine):\n\u001B[1;32m    106\u001B[0m     \u001B[38;5;28;01masync\u001B[39;00m \u001B[38;5;28;01mwith\u001B[39;00m semaphore:\n\u001B[0;32m--> 107\u001B[0m         \u001B[38;5;28;01mreturn\u001B[39;00m \u001B[38;5;28;01mawait\u001B[39;00m coroutine\n",
      "File \u001B[0;32m~/agent-with-graphiti/.venv/lib/python3.12/site-packages/graphiti_core/search/search.py:97\u001B[0m, in \u001B[0;36msearch\u001B[0;34m(clients, query, group_ids, config, search_filter, center_node_uuid, bfs_origin_node_uuids, query_vector)\u001B[0m\n\u001B[1;32m     95\u001B[0m \u001B[38;5;66;03m# if group_ids is empty, set it to None\u001B[39;00m\n\u001B[1;32m     96\u001B[0m group_ids \u001B[38;5;241m=\u001B[39m group_ids \u001B[38;5;28;01mif\u001B[39;00m group_ids \u001B[38;5;129;01mand\u001B[39;00m group_ids \u001B[38;5;241m!=\u001B[39m [\u001B[38;5;124m'\u001B[39m\u001B[38;5;124m'\u001B[39m] \u001B[38;5;28;01melse\u001B[39;00m \u001B[38;5;28;01mNone\u001B[39;00m\n\u001B[0;32m---> 97\u001B[0m edges, nodes, episodes, communities \u001B[38;5;241m=\u001B[39m \u001B[38;5;28;01mawait\u001B[39;00m semaphore_gather(\n\u001B[1;32m     98\u001B[0m     edge_search(\n\u001B[1;32m     99\u001B[0m         driver,\n\u001B[1;32m    100\u001B[0m         cross_encoder,\n\u001B[1;32m    101\u001B[0m         query,\n\u001B[1;32m    102\u001B[0m         query_vector,\n\u001B[1;32m    103\u001B[0m         group_ids,\n\u001B[1;32m    104\u001B[0m         config\u001B[38;5;241m.\u001B[39medge_config,\n\u001B[1;32m    105\u001B[0m         search_filter,\n\u001B[1;32m    106\u001B[0m         center_node_uuid,\n\u001B[1;32m    107\u001B[0m         bfs_origin_node_uuids,\n\u001B[1;32m    108\u001B[0m         config\u001B[38;5;241m.\u001B[39mlimit,\n\u001B[1;32m    109\u001B[0m         config\u001B[38;5;241m.\u001B[39mreranker_min_score,\n\u001B[1;32m    110\u001B[0m     ),\n\u001B[1;32m    111\u001B[0m     node_search(\n\u001B[1;32m    112\u001B[0m         driver,\n\u001B[1;32m    113\u001B[0m         cross_encoder,\n\u001B[1;32m    114\u001B[0m         query,\n\u001B[1;32m    115\u001B[0m         query_vector,\n\u001B[1;32m    116\u001B[0m         group_ids,\n\u001B[1;32m    117\u001B[0m         config\u001B[38;5;241m.\u001B[39mnode_config,\n\u001B[1;32m    118\u001B[0m         search_filter,\n\u001B[1;32m    119\u001B[0m         center_node_uuid,\n\u001B[1;32m    120\u001B[0m         bfs_origin_node_uuids,\n\u001B[1;32m    121\u001B[0m         config\u001B[38;5;241m.\u001B[39mlimit,\n\u001B[1;32m    122\u001B[0m         config\u001B[38;5;241m.\u001B[39mreranker_min_score,\n\u001B[1;32m    123\u001B[0m     ),\n\u001B[1;32m    124\u001B[0m     episode_search(\n\u001B[1;32m    125\u001B[0m         driver,\n\u001B[1;32m    126\u001B[0m         cross_encoder,\n\u001B[1;32m    127\u001B[0m         query,\n\u001B[1;32m    128\u001B[0m         query_vector,\n\u001B[1;32m    129\u001B[0m         group_ids,\n\u001B[1;32m    130\u001B[0m         config\u001B[38;5;241m.\u001B[39mepisode_config,\n\u001B[1;32m    131\u001B[0m         search_filter,\n\u001B[1;32m    132\u001B[0m         config\u001B[38;5;241m.\u001B[39mlimit,\n\u001B[1;32m    133\u001B[0m         config\u001B[38;5;241m.\u001B[39mreranker_min_score,\n\u001B[1;32m    134\u001B[0m     ),\n\u001B[1;32m    135\u001B[0m     community_search(\n\u001B[1;32m    136\u001B[0m         driver,\n\u001B[1;32m    137\u001B[0m         cross_encoder,\n\u001B[1;32m    138\u001B[0m         query,\n\u001B[1;32m    139\u001B[0m         query_vector,\n\u001B[1;32m    140\u001B[0m         group_ids,\n\u001B[1;32m    141\u001B[0m         config\u001B[38;5;241m.\u001B[39mcommunity_config,\n\u001B[1;32m    142\u001B[0m         config\u001B[38;5;241m.\u001B[39mlimit,\n\u001B[1;32m    143\u001B[0m         config\u001B[38;5;241m.\u001B[39mreranker_min_score,\n\u001B[1;32m    144\u001B[0m     ),\n\u001B[1;32m    145\u001B[0m )\n\u001B[1;32m    147\u001B[0m results \u001B[38;5;241m=\u001B[39m SearchResults(\n\u001B[1;32m    148\u001B[0m     edges\u001B[38;5;241m=\u001B[39medges,\n\u001B[1;32m    149\u001B[0m     nodes\u001B[38;5;241m=\u001B[39mnodes,\n\u001B[1;32m    150\u001B[0m     episodes\u001B[38;5;241m=\u001B[39mepisodes,\n\u001B[1;32m    151\u001B[0m     communities\u001B[38;5;241m=\u001B[39mcommunities,\n\u001B[1;32m    152\u001B[0m )\n\u001B[1;32m    154\u001B[0m latency \u001B[38;5;241m=\u001B[39m (time() \u001B[38;5;241m-\u001B[39m start) \u001B[38;5;241m*\u001B[39m \u001B[38;5;241m1000\u001B[39m\n",
      "File \u001B[0;32m~/agent-with-graphiti/.venv/lib/python3.12/site-packages/graphiti_core/helpers.py:109\u001B[0m, in \u001B[0;36msemaphore_gather\u001B[0;34m(max_coroutines, *coroutines)\u001B[0m\n\u001B[1;32m    106\u001B[0m     \u001B[38;5;28;01masync\u001B[39;00m \u001B[38;5;28;01mwith\u001B[39;00m semaphore:\n\u001B[1;32m    107\u001B[0m         \u001B[38;5;28;01mreturn\u001B[39;00m \u001B[38;5;28;01mawait\u001B[39;00m coroutine\n\u001B[0;32m--> 109\u001B[0m \u001B[38;5;28;01mreturn\u001B[39;00m \u001B[38;5;28;01mawait\u001B[39;00m asyncio\u001B[38;5;241m.\u001B[39mgather(\u001B[38;5;241m*\u001B[39m(_wrap_coroutine(coroutine) \u001B[38;5;28;01mfor\u001B[39;00m coroutine \u001B[38;5;129;01min\u001B[39;00m coroutines))\n",
      "File \u001B[0;32m~/agent-with-graphiti/.venv/lib/python3.12/site-packages/graphiti_core/helpers.py:107\u001B[0m, in \u001B[0;36msemaphore_gather.<locals>._wrap_coroutine\u001B[0;34m(coroutine)\u001B[0m\n\u001B[1;32m    105\u001B[0m \u001B[38;5;28;01masync\u001B[39;00m \u001B[38;5;28;01mdef\u001B[39;00m\u001B[38;5;250m \u001B[39m\u001B[38;5;21m_wrap_coroutine\u001B[39m(coroutine):\n\u001B[1;32m    106\u001B[0m     \u001B[38;5;28;01masync\u001B[39;00m \u001B[38;5;28;01mwith\u001B[39;00m semaphore:\n\u001B[0;32m--> 107\u001B[0m         \u001B[38;5;28;01mreturn\u001B[39;00m \u001B[38;5;28;01mawait\u001B[39;00m coroutine\n",
      "File \u001B[0;32m~/agent-with-graphiti/.venv/lib/python3.12/site-packages/graphiti_core/search/search.py:277\u001B[0m, in \u001B[0;36mnode_search\u001B[0;34m(driver, cross_encoder, query, query_vector, group_ids, config, search_filter, center_node_uuid, bfs_origin_node_uuids, limit, reranker_min_score)\u001B[0m\n\u001B[1;32m    274\u001B[0m \u001B[38;5;28;01mif\u001B[39;00m config \u001B[38;5;129;01mis\u001B[39;00m \u001B[38;5;28;01mNone\u001B[39;00m:\n\u001B[1;32m    275\u001B[0m     \u001B[38;5;28;01mreturn\u001B[39;00m []\n\u001B[1;32m    276\u001B[0m search_results: \u001B[38;5;28mlist\u001B[39m[\u001B[38;5;28mlist\u001B[39m[EntityNode]] \u001B[38;5;241m=\u001B[39m \u001B[38;5;28mlist\u001B[39m(\n\u001B[0;32m--> 277\u001B[0m     \u001B[38;5;28;01mawait\u001B[39;00m semaphore_gather(\n\u001B[1;32m    278\u001B[0m         \u001B[38;5;241m*\u001B[39m[\n\u001B[1;32m    279\u001B[0m             node_fulltext_search(driver, query, search_filter, group_ids, \u001B[38;5;241m2\u001B[39m \u001B[38;5;241m*\u001B[39m limit),\n\u001B[1;32m    280\u001B[0m             node_similarity_search(\n\u001B[1;32m    281\u001B[0m                 driver, query_vector, search_filter, group_ids, \u001B[38;5;241m2\u001B[39m \u001B[38;5;241m*\u001B[39m limit, config\u001B[38;5;241m.\u001B[39msim_min_score\n\u001B[1;32m    282\u001B[0m             ),\n\u001B[1;32m    283\u001B[0m             node_bfs_search(\n\u001B[1;32m    284\u001B[0m                 driver, bfs_origin_node_uuids, search_filter, config\u001B[38;5;241m.\u001B[39mbfs_max_depth, \u001B[38;5;241m2\u001B[39m \u001B[38;5;241m*\u001B[39m limit\n\u001B[1;32m    285\u001B[0m             ),\n\u001B[1;32m    286\u001B[0m         ]\n\u001B[1;32m    287\u001B[0m     )\n\u001B[1;32m    288\u001B[0m )\n\u001B[1;32m    290\u001B[0m \u001B[38;5;28;01mif\u001B[39;00m NodeSearchMethod\u001B[38;5;241m.\u001B[39mbfs \u001B[38;5;129;01min\u001B[39;00m config\u001B[38;5;241m.\u001B[39msearch_methods \u001B[38;5;129;01mand\u001B[39;00m bfs_origin_node_uuids \u001B[38;5;129;01mis\u001B[39;00m \u001B[38;5;28;01mNone\u001B[39;00m:\n\u001B[1;32m    291\u001B[0m     origin_node_uuids \u001B[38;5;241m=\u001B[39m [node\u001B[38;5;241m.\u001B[39muuid \u001B[38;5;28;01mfor\u001B[39;00m result \u001B[38;5;129;01min\u001B[39;00m search_results \u001B[38;5;28;01mfor\u001B[39;00m node \u001B[38;5;129;01min\u001B[39;00m result]\n",
      "File \u001B[0;32m~/agent-with-graphiti/.venv/lib/python3.12/site-packages/graphiti_core/helpers.py:109\u001B[0m, in \u001B[0;36msemaphore_gather\u001B[0;34m(max_coroutines, *coroutines)\u001B[0m\n\u001B[1;32m    106\u001B[0m     \u001B[38;5;28;01masync\u001B[39;00m \u001B[38;5;28;01mwith\u001B[39;00m semaphore:\n\u001B[1;32m    107\u001B[0m         \u001B[38;5;28;01mreturn\u001B[39;00m \u001B[38;5;28;01mawait\u001B[39;00m coroutine\n\u001B[0;32m--> 109\u001B[0m \u001B[38;5;28;01mreturn\u001B[39;00m \u001B[38;5;28;01mawait\u001B[39;00m asyncio\u001B[38;5;241m.\u001B[39mgather(\u001B[38;5;241m*\u001B[39m(_wrap_coroutine(coroutine) \u001B[38;5;28;01mfor\u001B[39;00m coroutine \u001B[38;5;129;01min\u001B[39;00m coroutines))\n",
      "File \u001B[0;32m~/agent-with-graphiti/.venv/lib/python3.12/site-packages/graphiti_core/helpers.py:107\u001B[0m, in \u001B[0;36msemaphore_gather.<locals>._wrap_coroutine\u001B[0;34m(coroutine)\u001B[0m\n\u001B[1;32m    105\u001B[0m \u001B[38;5;28;01masync\u001B[39;00m \u001B[38;5;28;01mdef\u001B[39;00m\u001B[38;5;250m \u001B[39m\u001B[38;5;21m_wrap_coroutine\u001B[39m(coroutine):\n\u001B[1;32m    106\u001B[0m     \u001B[38;5;28;01masync\u001B[39;00m \u001B[38;5;28;01mwith\u001B[39;00m semaphore:\n\u001B[0;32m--> 107\u001B[0m         \u001B[38;5;28;01mreturn\u001B[39;00m \u001B[38;5;28;01mawait\u001B[39;00m coroutine\n",
      "File \u001B[0;32m~/agent-with-graphiti/.venv/lib/python3.12/site-packages/graphiti_core/search/search_utils.py:426\u001B[0m, in \u001B[0;36mnode_similarity_search\u001B[0;34m(driver, search_vector, search_filter, group_ids, limit, min_score)\u001B[0m\n\u001B[1;32m    405\u001B[0m query_params\u001B[38;5;241m.\u001B[39mupdate(filter_params)\n\u001B[1;32m    407\u001B[0m query \u001B[38;5;241m=\u001B[39m (\n\u001B[1;32m    408\u001B[0m     RUNTIME_QUERY\n\u001B[1;32m    409\u001B[0m     \u001B[38;5;241m+\u001B[39m \u001B[38;5;124m\"\"\"\u001B[39m\n\u001B[0;32m   (...)\u001B[0m\n\u001B[1;32m    423\u001B[0m \u001B[38;5;124m        \u001B[39m\u001B[38;5;124m\"\"\"\u001B[39m\n\u001B[1;32m    424\u001B[0m )\n\u001B[0;32m--> 426\u001B[0m records, header, _ \u001B[38;5;241m=\u001B[39m \u001B[38;5;28;01mawait\u001B[39;00m driver\u001B[38;5;241m.\u001B[39mexecute_query(\n\u001B[1;32m    427\u001B[0m     query,\n\u001B[1;32m    428\u001B[0m     params\u001B[38;5;241m=\u001B[39mquery_params,\n\u001B[1;32m    429\u001B[0m     search_vector\u001B[38;5;241m=\u001B[39msearch_vector,\n\u001B[1;32m    430\u001B[0m     group_ids\u001B[38;5;241m=\u001B[39mgroup_ids,\n\u001B[1;32m    431\u001B[0m     limit\u001B[38;5;241m=\u001B[39mlimit,\n\u001B[1;32m    432\u001B[0m     min_score\u001B[38;5;241m=\u001B[39mmin_score,\n\u001B[1;32m    433\u001B[0m     database_\u001B[38;5;241m=\u001B[39mDEFAULT_DATABASE,\n\u001B[1;32m    434\u001B[0m     routing_\u001B[38;5;241m=\u001B[39m\u001B[38;5;124m'\u001B[39m\u001B[38;5;124mr\u001B[39m\u001B[38;5;124m'\u001B[39m,\n\u001B[1;32m    435\u001B[0m )\n\u001B[1;32m    436\u001B[0m \u001B[38;5;28;01mif\u001B[39;00m driver\u001B[38;5;241m.\u001B[39mprovider \u001B[38;5;241m==\u001B[39m \u001B[38;5;124m'\u001B[39m\u001B[38;5;124mfalkordb\u001B[39m\u001B[38;5;124m'\u001B[39m:\n\u001B[1;32m    437\u001B[0m     records \u001B[38;5;241m=\u001B[39m [\u001B[38;5;28mdict\u001B[39m(\u001B[38;5;28mzip\u001B[39m(header, row, strict\u001B[38;5;241m=\u001B[39m\u001B[38;5;28;01mTrue\u001B[39;00m)) \u001B[38;5;28;01mfor\u001B[39;00m row \u001B[38;5;129;01min\u001B[39;00m records]\n",
      "File \u001B[0;32m~/agent-with-graphiti/.venv/lib/python3.12/site-packages/graphiti_core/driver/neo4j_driver.py:47\u001B[0m, in \u001B[0;36mNeo4jDriver.execute_query\u001B[0;34m(self, cypher_query_, **kwargs)\u001B[0m\n\u001B[1;32m     45\u001B[0m \u001B[38;5;28;01masync\u001B[39;00m \u001B[38;5;28;01mdef\u001B[39;00m\u001B[38;5;250m \u001B[39m\u001B[38;5;21mexecute_query\u001B[39m(\u001B[38;5;28mself\u001B[39m, cypher_query_: LiteralString, \u001B[38;5;241m*\u001B[39m\u001B[38;5;241m*\u001B[39mkwargs: Any) \u001B[38;5;241m-\u001B[39m\u001B[38;5;241m>\u001B[39m Coroutine:\n\u001B[1;32m     46\u001B[0m     params \u001B[38;5;241m=\u001B[39m kwargs\u001B[38;5;241m.\u001B[39mpop(\u001B[38;5;124m'\u001B[39m\u001B[38;5;124mparams\u001B[39m\u001B[38;5;124m'\u001B[39m, \u001B[38;5;28;01mNone\u001B[39;00m)\n\u001B[0;32m---> 47\u001B[0m     result \u001B[38;5;241m=\u001B[39m \u001B[38;5;28;01mawait\u001B[39;00m \u001B[38;5;28mself\u001B[39m\u001B[38;5;241m.\u001B[39mclient\u001B[38;5;241m.\u001B[39mexecute_query(cypher_query_, parameters_\u001B[38;5;241m=\u001B[39mparams, \u001B[38;5;241m*\u001B[39m\u001B[38;5;241m*\u001B[39mkwargs)\n\u001B[1;32m     49\u001B[0m     \u001B[38;5;28;01mreturn\u001B[39;00m result\n",
      "File \u001B[0;32m~/agent-with-graphiti/.venv/lib/python3.12/site-packages/neo4j/_async/driver.py:971\u001B[0m, in \u001B[0;36mAsyncDriver.execute_query\u001B[0;34m(self, query_, parameters_, routing_, database_, impersonated_user_, bookmark_manager_, auth_, result_transformer_, **kwargs)\u001B[0m\n\u001B[1;32m    967\u001B[0m     \u001B[38;5;28;01mraise\u001B[39;00m \u001B[38;5;167;01mValueError\u001B[39;00m(\n\u001B[1;32m    968\u001B[0m         \u001B[38;5;124mf\u001B[39m\u001B[38;5;124m\"\u001B[39m\u001B[38;5;124mInvalid routing control value: \u001B[39m\u001B[38;5;132;01m{\u001B[39;00mrouting_\u001B[38;5;132;01m!r}\u001B[39;00m\u001B[38;5;124m\"\u001B[39m\n\u001B[1;32m    969\u001B[0m     )\n\u001B[1;32m    970\u001B[0m \u001B[38;5;28;01mwith\u001B[39;00m session\u001B[38;5;241m.\u001B[39m_pipelined_begin:\n\u001B[0;32m--> 971\u001B[0m     \u001B[38;5;28;01mreturn\u001B[39;00m \u001B[38;5;28;01mawait\u001B[39;00m session\u001B[38;5;241m.\u001B[39m_run_transaction(\n\u001B[1;32m    972\u001B[0m         access_mode,\n\u001B[1;32m    973\u001B[0m         TelemetryAPI\u001B[38;5;241m.\u001B[39mDRIVER,\n\u001B[1;32m    974\u001B[0m         work,\n\u001B[1;32m    975\u001B[0m         (query_str, parameters, result_transformer_),\n\u001B[1;32m    976\u001B[0m         {},\n\u001B[1;32m    977\u001B[0m     )\n",
      "File \u001B[0;32m~/agent-with-graphiti/.venv/lib/python3.12/site-packages/neo4j/_async/work/session.py:583\u001B[0m, in \u001B[0;36mAsyncSession._run_transaction\u001B[0;34m(self, access_mode, api, transaction_function, args, kwargs)\u001B[0m\n\u001B[1;32m    581\u001B[0m tx \u001B[38;5;241m=\u001B[39m \u001B[38;5;28mself\u001B[39m\u001B[38;5;241m.\u001B[39m_transaction\n\u001B[1;32m    582\u001B[0m \u001B[38;5;28;01mtry\u001B[39;00m:\n\u001B[0;32m--> 583\u001B[0m     result \u001B[38;5;241m=\u001B[39m \u001B[38;5;28;01mawait\u001B[39;00m transaction_function(tx, \u001B[38;5;241m*\u001B[39margs, \u001B[38;5;241m*\u001B[39m\u001B[38;5;241m*\u001B[39mkwargs)\n\u001B[1;32m    584\u001B[0m \u001B[38;5;28;01mexcept\u001B[39;00m asyncio\u001B[38;5;241m.\u001B[39mCancelledError:\n\u001B[1;32m    585\u001B[0m     \u001B[38;5;66;03m# if cancellation callback has not been called yet:\u001B[39;00m\n\u001B[1;32m    586\u001B[0m     \u001B[38;5;28;01mif\u001B[39;00m \u001B[38;5;28mself\u001B[39m\u001B[38;5;241m.\u001B[39m_transaction \u001B[38;5;129;01mis\u001B[39;00m \u001B[38;5;129;01mnot\u001B[39;00m \u001B[38;5;28;01mNone\u001B[39;00m:\n",
      "File \u001B[0;32m~/agent-with-graphiti/.venv/lib/python3.12/site-packages/neo4j/_async/driver.py:1307\u001B[0m, in \u001B[0;36m_work\u001B[0;34m(tx, query, parameters, transformer)\u001B[0m\n\u001B[1;32m   1301\u001B[0m \u001B[38;5;28;01masync\u001B[39;00m \u001B[38;5;28;01mdef\u001B[39;00m\u001B[38;5;250m \u001B[39m\u001B[38;5;21m_work\u001B[39m(\n\u001B[1;32m   1302\u001B[0m     tx: AsyncManagedTransaction,\n\u001B[1;32m   1303\u001B[0m     query: te\u001B[38;5;241m.\u001B[39mLiteralString,\n\u001B[1;32m   1304\u001B[0m     parameters: \u001B[38;5;28mdict\u001B[39m[\u001B[38;5;28mstr\u001B[39m, t\u001B[38;5;241m.\u001B[39mAny],\n\u001B[1;32m   1305\u001B[0m     transformer: t\u001B[38;5;241m.\u001B[39mCallable[[AsyncResult], t\u001B[38;5;241m.\u001B[39mAwaitable[_T]],\n\u001B[1;32m   1306\u001B[0m ) \u001B[38;5;241m-\u001B[39m\u001B[38;5;241m>\u001B[39m _T:\n\u001B[0;32m-> 1307\u001B[0m     res \u001B[38;5;241m=\u001B[39m \u001B[38;5;28;01mawait\u001B[39;00m tx\u001B[38;5;241m.\u001B[39mrun(query, parameters)\n\u001B[1;32m   1308\u001B[0m     \u001B[38;5;28;01mreturn\u001B[39;00m \u001B[38;5;28;01mawait\u001B[39;00m transformer(res)\n",
      "File \u001B[0;32m~/agent-with-graphiti/.venv/lib/python3.12/site-packages/neo4j/_async/work/transaction.py:206\u001B[0m, in \u001B[0;36mAsyncTransactionBase.run\u001B[0;34m(self, query, parameters, **kwparameters)\u001B[0m\n\u001B[1;32m    203\u001B[0m \u001B[38;5;28mself\u001B[39m\u001B[38;5;241m.\u001B[39m_results\u001B[38;5;241m.\u001B[39mappend(result)\n\u001B[1;32m    205\u001B[0m parameters \u001B[38;5;241m=\u001B[39m \u001B[38;5;28mdict\u001B[39m(parameters \u001B[38;5;129;01mor\u001B[39;00m {}, \u001B[38;5;241m*\u001B[39m\u001B[38;5;241m*\u001B[39mkwparameters)\n\u001B[0;32m--> 206\u001B[0m \u001B[38;5;28;01mawait\u001B[39;00m result\u001B[38;5;241m.\u001B[39m_tx_ready_run(query, parameters)\n\u001B[1;32m    208\u001B[0m \u001B[38;5;28;01mreturn\u001B[39;00m result\n",
      "File \u001B[0;32m~/agent-with-graphiti/.venv/lib/python3.12/site-packages/neo4j/_async/work/result.py:177\u001B[0m, in \u001B[0;36mAsyncResult._tx_ready_run\u001B[0;34m(self, query, parameters)\u001B[0m\n\u001B[1;32m    173\u001B[0m \u001B[38;5;28;01masync\u001B[39;00m \u001B[38;5;28;01mdef\u001B[39;00m\u001B[38;5;250m \u001B[39m\u001B[38;5;21m_tx_ready_run\u001B[39m(\u001B[38;5;28mself\u001B[39m, query, parameters):\n\u001B[1;32m    174\u001B[0m     \u001B[38;5;66;03m# BEGIN+RUN does not carry any extra on the RUN message.\u001B[39;00m\n\u001B[1;32m    175\u001B[0m     \u001B[38;5;66;03m# BEGIN {extra}\u001B[39;00m\n\u001B[1;32m    176\u001B[0m     \u001B[38;5;66;03m# RUN \"query\" {parameters} {extra}\u001B[39;00m\n\u001B[0;32m--> 177\u001B[0m     \u001B[38;5;28;01mawait\u001B[39;00m \u001B[38;5;28mself\u001B[39m\u001B[38;5;241m.\u001B[39m_run(query, parameters, \u001B[38;5;28;01mNone\u001B[39;00m, \u001B[38;5;28;01mNone\u001B[39;00m, \u001B[38;5;28;01mNone\u001B[39;00m, \u001B[38;5;28;01mNone\u001B[39;00m, \u001B[38;5;28;01mNone\u001B[39;00m, \u001B[38;5;28;01mNone\u001B[39;00m)\n",
      "File \u001B[0;32m~/agent-with-graphiti/.venv/lib/python3.12/site-packages/neo4j/_async/work/result.py:236\u001B[0m, in \u001B[0;36mAsyncResult._run\u001B[0;34m(self, query, parameters, db, imp_user, access_mode, bookmarks, notifications_min_severity, notifications_disabled_classifications)\u001B[0m\n\u001B[1;32m    234\u001B[0m \u001B[38;5;28mself\u001B[39m\u001B[38;5;241m.\u001B[39m_pull()\n\u001B[1;32m    235\u001B[0m \u001B[38;5;28;01mawait\u001B[39;00m \u001B[38;5;28mself\u001B[39m\u001B[38;5;241m.\u001B[39m_connection\u001B[38;5;241m.\u001B[39msend_all()\n\u001B[0;32m--> 236\u001B[0m \u001B[38;5;28;01mawait\u001B[39;00m \u001B[38;5;28mself\u001B[39m\u001B[38;5;241m.\u001B[39m_attach()\n",
      "File \u001B[0;32m~/agent-with-graphiti/.venv/lib/python3.12/site-packages/neo4j/_async/work/result.py:430\u001B[0m, in \u001B[0;36mAsyncResult._attach\u001B[0;34m(self)\u001B[0m\n\u001B[1;32m    428\u001B[0m \u001B[38;5;28;01mif\u001B[39;00m \u001B[38;5;28mself\u001B[39m\u001B[38;5;241m.\u001B[39m_exhausted \u001B[38;5;129;01mis\u001B[39;00m \u001B[38;5;28;01mFalse\u001B[39;00m:\n\u001B[1;32m    429\u001B[0m     \u001B[38;5;28;01mwhile\u001B[39;00m \u001B[38;5;28mself\u001B[39m\u001B[38;5;241m.\u001B[39m_attached \u001B[38;5;129;01mis\u001B[39;00m \u001B[38;5;28;01mFalse\u001B[39;00m:\n\u001B[0;32m--> 430\u001B[0m         \u001B[38;5;28;01mawait\u001B[39;00m \u001B[38;5;28mself\u001B[39m\u001B[38;5;241m.\u001B[39m_connection\u001B[38;5;241m.\u001B[39mfetch_message()\n",
      "File \u001B[0;32m~/agent-with-graphiti/.venv/lib/python3.12/site-packages/neo4j/_async/io/_common.py:195\u001B[0m, in \u001B[0;36mConnectionErrorHandler.__getattr__.<locals>.outer_async.<locals>.inner\u001B[0;34m(*args, **kwargs)\u001B[0m\n\u001B[1;32m    193\u001B[0m \u001B[38;5;28;01masync\u001B[39;00m \u001B[38;5;28;01mdef\u001B[39;00m\u001B[38;5;250m \u001B[39m\u001B[38;5;21minner\u001B[39m(\u001B[38;5;241m*\u001B[39margs, \u001B[38;5;241m*\u001B[39m\u001B[38;5;241m*\u001B[39mkwargs):\n\u001B[1;32m    194\u001B[0m     \u001B[38;5;28;01mtry\u001B[39;00m:\n\u001B[0;32m--> 195\u001B[0m         \u001B[38;5;28;01mawait\u001B[39;00m coroutine_func(\u001B[38;5;241m*\u001B[39margs, \u001B[38;5;241m*\u001B[39m\u001B[38;5;241m*\u001B[39mkwargs)\n\u001B[1;32m    196\u001B[0m     \u001B[38;5;28;01mexcept\u001B[39;00m (\n\u001B[1;32m    197\u001B[0m         Neo4jError,\n\u001B[1;32m    198\u001B[0m         ServiceUnavailable,\n\u001B[1;32m    199\u001B[0m         SessionExpired,\n\u001B[1;32m    200\u001B[0m         asyncio\u001B[38;5;241m.\u001B[39mCancelledError,\n\u001B[1;32m    201\u001B[0m     ) \u001B[38;5;28;01mas\u001B[39;00m exc:\n\u001B[1;32m    202\u001B[0m         \u001B[38;5;28;01mawait\u001B[39;00m AsyncUtil\u001B[38;5;241m.\u001B[39mcallback(\u001B[38;5;28mself\u001B[39m\u001B[38;5;241m.\u001B[39m__on_error, exc)\n",
      "File \u001B[0;32m~/agent-with-graphiti/.venv/lib/python3.12/site-packages/neo4j/_async/io/_bolt.py:864\u001B[0m, in \u001B[0;36mAsyncBolt.fetch_message\u001B[0;34m(self)\u001B[0m\n\u001B[1;32m    860\u001B[0m \u001B[38;5;66;03m# Receive exactly one message\u001B[39;00m\n\u001B[1;32m    861\u001B[0m tag, fields \u001B[38;5;241m=\u001B[39m \u001B[38;5;28;01mawait\u001B[39;00m \u001B[38;5;28mself\u001B[39m\u001B[38;5;241m.\u001B[39minbox\u001B[38;5;241m.\u001B[39mpop(\n\u001B[1;32m    862\u001B[0m     hydration_hooks\u001B[38;5;241m=\u001B[39m\u001B[38;5;28mself\u001B[39m\u001B[38;5;241m.\u001B[39mresponses[\u001B[38;5;241m0\u001B[39m]\u001B[38;5;241m.\u001B[39mhydration_hooks\n\u001B[1;32m    863\u001B[0m )\n\u001B[0;32m--> 864\u001B[0m res \u001B[38;5;241m=\u001B[39m \u001B[38;5;28;01mawait\u001B[39;00m \u001B[38;5;28mself\u001B[39m\u001B[38;5;241m.\u001B[39m_process_message(tag, fields)\n\u001B[1;32m    865\u001B[0m \u001B[38;5;28mself\u001B[39m\u001B[38;5;241m.\u001B[39midle_since \u001B[38;5;241m=\u001B[39m monotonic()\n\u001B[1;32m    866\u001B[0m \u001B[38;5;28;01mreturn\u001B[39;00m res\n",
      "File \u001B[0;32m~/agent-with-graphiti/.venv/lib/python3.12/site-packages/neo4j/_async/io/_bolt5.py:500\u001B[0m, in \u001B[0;36mAsyncBolt5x0._process_message\u001B[0;34m(self, tag, fields)\u001B[0m\n\u001B[1;32m    498\u001B[0m \u001B[38;5;28mself\u001B[39m\u001B[38;5;241m.\u001B[39m_server_state_manager\u001B[38;5;241m.\u001B[39mstate \u001B[38;5;241m=\u001B[39m \u001B[38;5;28mself\u001B[39m\u001B[38;5;241m.\u001B[39mbolt_states\u001B[38;5;241m.\u001B[39mFAILED\n\u001B[1;32m    499\u001B[0m \u001B[38;5;28;01mtry\u001B[39;00m:\n\u001B[0;32m--> 500\u001B[0m     \u001B[38;5;28;01mawait\u001B[39;00m response\u001B[38;5;241m.\u001B[39mon_failure(summary_metadata \u001B[38;5;129;01mor\u001B[39;00m {})\n\u001B[1;32m    501\u001B[0m \u001B[38;5;28;01mexcept\u001B[39;00m (ServiceUnavailable, DatabaseUnavailable):\n\u001B[1;32m    502\u001B[0m     \u001B[38;5;28;01mif\u001B[39;00m \u001B[38;5;28mself\u001B[39m\u001B[38;5;241m.\u001B[39mpool:\n",
      "File \u001B[0;32m~/agent-with-graphiti/.venv/lib/python3.12/site-packages/neo4j/_async/io/_common.py:254\u001B[0m, in \u001B[0;36mResponse.on_failure\u001B[0;34m(self, metadata)\u001B[0m\n\u001B[1;32m    252\u001B[0m handler \u001B[38;5;241m=\u001B[39m \u001B[38;5;28mself\u001B[39m\u001B[38;5;241m.\u001B[39mhandlers\u001B[38;5;241m.\u001B[39mget(\u001B[38;5;124m\"\u001B[39m\u001B[38;5;124mon_summary\u001B[39m\u001B[38;5;124m\"\u001B[39m)\n\u001B[1;32m    253\u001B[0m \u001B[38;5;28;01mawait\u001B[39;00m AsyncUtil\u001B[38;5;241m.\u001B[39mcallback(handler)\n\u001B[0;32m--> 254\u001B[0m \u001B[38;5;28;01mraise\u001B[39;00m \u001B[38;5;28mself\u001B[39m\u001B[38;5;241m.\u001B[39m_hydrate_error(metadata)\n",
      "\u001B[0;31mCypherSyntaxError\u001B[0m: {code: Neo.ClientError.Statement.SyntaxError} {message: Unknown function 'vector.similarity.cosine' (line 4, column 17 (offset: 79))\n\"        WITH n, vector.similarity.cosine(n.name_embedding, $search_vector) AS score\"\n                 ^}"
     ]
    }
   ],
   "execution_count": 9
  },
  {
   "metadata": {
    "ExecuteTime": {
     "end_time": "2025-07-03T19:45:58.977120Z",
     "start_time": "2025-07-03T19:45:56.113896Z"
    }
   },
   "cell_type": "code",
   "source": [
    "print(\"\\nSearching for: 'Who was the California Attorney General?'\")\n",
    "results = await graphiti.search('Who was the California Attorney General?')\n",
    "\n",
    "# Print search results\n",
    "print('\\nSearch Results:')\n",
    "for result in results:\n",
    "    print(f'UUID: {result.uuid}')\n",
    "    print(f'Fact: {result.fact}')\n",
    "    if hasattr(result, 'valid_at') and result.valid_at:\n",
    "        print(f'Valid from: {result.valid_at}')\n",
    "    if hasattr(result, 'invalid_at') and result.invalid_at:\n",
    "        print(f'Valid until: {result.invalid_at}')\n",
    "    print('---')\n"
   ],
   "id": "4d7ecb3f1b69c98e",
   "outputs": [
    {
     "name": "stdout",
     "output_type": "stream",
     "text": [
      "\n",
      "Searching for: 'Who was the California Attorney General?'\n"
     ]
    },
    {
     "name": "stderr",
     "output_type": "stream",
     "text": [
      "2025-07-03 23:45:58 - httpx - INFO - HTTP Request: POST https://api.openai.com/v1/embeddings \"HTTP/1.1 200 OK\"\n",
      "Exception ignored in: <coroutine object main at 0x130ddcd50>\n",
      "Traceback (most recent call last):\n",
      "  File \"<string>\", line 1, in <lambda>\n",
      "KeyError: '__import__'\n",
      "Exception ignored in: <coroutine object main at 0x130ddcd50>\n",
      "Traceback (most recent call last):\n",
      "  File \"<string>\", line 1, in <lambda>\n",
      "KeyError: '__import__'\n"
     ]
    },
    {
     "ename": "CypherSyntaxError",
     "evalue": "{code: Neo.ClientError.Statement.SyntaxError} {message: Unknown function 'vector.similarity.cosine' (line 4, column 26 (offset: 115))\n\"        WITH DISTINCT r, vector.similarity.cosine(r.fact_embedding, $search_vector) AS score\"\n                          ^}",
     "output_type": "error",
     "traceback": [
      "\u001B[0;31m---------------------------------------------------------------------------\u001B[0m",
      "\u001B[0;31mCypherSyntaxError\u001B[0m                         Traceback (most recent call last)",
      "Cell \u001B[0;32mIn[10], line 3\u001B[0m\n\u001B[1;32m      1\u001B[0m \u001B[38;5;66;03m# Perform a hybrid search combining semantic similarity and BM25 retrieval\u001B[39;00m\n\u001B[1;32m      2\u001B[0m \u001B[38;5;28mprint\u001B[39m(\u001B[38;5;124m\"\u001B[39m\u001B[38;5;130;01m\\n\u001B[39;00m\u001B[38;5;124mSearching for: \u001B[39m\u001B[38;5;124m'\u001B[39m\u001B[38;5;124mWho was the California Attorney General?\u001B[39m\u001B[38;5;124m'\u001B[39m\u001B[38;5;124m\"\u001B[39m)\n\u001B[0;32m----> 3\u001B[0m results \u001B[38;5;241m=\u001B[39m \u001B[38;5;28;01mawait\u001B[39;00m graphiti\u001B[38;5;241m.\u001B[39msearch(\u001B[38;5;124m'\u001B[39m\u001B[38;5;124mWho was the California Attorney General?\u001B[39m\u001B[38;5;124m'\u001B[39m)\n\u001B[1;32m      5\u001B[0m \u001B[38;5;66;03m# Print search results\u001B[39;00m\n\u001B[1;32m      6\u001B[0m \u001B[38;5;28mprint\u001B[39m(\u001B[38;5;124m'\u001B[39m\u001B[38;5;130;01m\\n\u001B[39;00m\u001B[38;5;124mSearch Results:\u001B[39m\u001B[38;5;124m'\u001B[39m)\n",
      "File \u001B[0;32m~/agent-with-graphiti/.venv/lib/python3.12/site-packages/graphiti_core/graphiti.py:740\u001B[0m, in \u001B[0;36mGraphiti.search\u001B[0;34m(self, query, center_node_uuid, group_ids, num_results, search_filter)\u001B[0m\n\u001B[1;32m    734\u001B[0m search_config \u001B[38;5;241m=\u001B[39m (\n\u001B[1;32m    735\u001B[0m     EDGE_HYBRID_SEARCH_RRF \u001B[38;5;28;01mif\u001B[39;00m center_node_uuid \u001B[38;5;129;01mis\u001B[39;00m \u001B[38;5;28;01mNone\u001B[39;00m \u001B[38;5;28;01melse\u001B[39;00m EDGE_HYBRID_SEARCH_NODE_DISTANCE\n\u001B[1;32m    736\u001B[0m )\n\u001B[1;32m    737\u001B[0m search_config\u001B[38;5;241m.\u001B[39mlimit \u001B[38;5;241m=\u001B[39m num_results\n\u001B[1;32m    739\u001B[0m edges \u001B[38;5;241m=\u001B[39m (\n\u001B[0;32m--> 740\u001B[0m     \u001B[38;5;28;01mawait\u001B[39;00m search(\n\u001B[1;32m    741\u001B[0m         \u001B[38;5;28mself\u001B[39m\u001B[38;5;241m.\u001B[39mclients,\n\u001B[1;32m    742\u001B[0m         query,\n\u001B[1;32m    743\u001B[0m         group_ids,\n\u001B[1;32m    744\u001B[0m         search_config,\n\u001B[1;32m    745\u001B[0m         search_filter \u001B[38;5;28;01mif\u001B[39;00m search_filter \u001B[38;5;129;01mis\u001B[39;00m \u001B[38;5;129;01mnot\u001B[39;00m \u001B[38;5;28;01mNone\u001B[39;00m \u001B[38;5;28;01melse\u001B[39;00m SearchFilters(),\n\u001B[1;32m    746\u001B[0m         center_node_uuid,\n\u001B[1;32m    747\u001B[0m     )\n\u001B[1;32m    748\u001B[0m )\u001B[38;5;241m.\u001B[39medges\n\u001B[1;32m    750\u001B[0m \u001B[38;5;28;01mreturn\u001B[39;00m edges\n",
      "File \u001B[0;32m~/agent-with-graphiti/.venv/lib/python3.12/site-packages/graphiti_core/search/search.py:97\u001B[0m, in \u001B[0;36msearch\u001B[0;34m(clients, query, group_ids, config, search_filter, center_node_uuid, bfs_origin_node_uuids, query_vector)\u001B[0m\n\u001B[1;32m     95\u001B[0m \u001B[38;5;66;03m# if group_ids is empty, set it to None\u001B[39;00m\n\u001B[1;32m     96\u001B[0m group_ids \u001B[38;5;241m=\u001B[39m group_ids \u001B[38;5;28;01mif\u001B[39;00m group_ids \u001B[38;5;129;01mand\u001B[39;00m group_ids \u001B[38;5;241m!=\u001B[39m [\u001B[38;5;124m'\u001B[39m\u001B[38;5;124m'\u001B[39m] \u001B[38;5;28;01melse\u001B[39;00m \u001B[38;5;28;01mNone\u001B[39;00m\n\u001B[0;32m---> 97\u001B[0m edges, nodes, episodes, communities \u001B[38;5;241m=\u001B[39m \u001B[38;5;28;01mawait\u001B[39;00m semaphore_gather(\n\u001B[1;32m     98\u001B[0m     edge_search(\n\u001B[1;32m     99\u001B[0m         driver,\n\u001B[1;32m    100\u001B[0m         cross_encoder,\n\u001B[1;32m    101\u001B[0m         query,\n\u001B[1;32m    102\u001B[0m         query_vector,\n\u001B[1;32m    103\u001B[0m         group_ids,\n\u001B[1;32m    104\u001B[0m         config\u001B[38;5;241m.\u001B[39medge_config,\n\u001B[1;32m    105\u001B[0m         search_filter,\n\u001B[1;32m    106\u001B[0m         center_node_uuid,\n\u001B[1;32m    107\u001B[0m         bfs_origin_node_uuids,\n\u001B[1;32m    108\u001B[0m         config\u001B[38;5;241m.\u001B[39mlimit,\n\u001B[1;32m    109\u001B[0m         config\u001B[38;5;241m.\u001B[39mreranker_min_score,\n\u001B[1;32m    110\u001B[0m     ),\n\u001B[1;32m    111\u001B[0m     node_search(\n\u001B[1;32m    112\u001B[0m         driver,\n\u001B[1;32m    113\u001B[0m         cross_encoder,\n\u001B[1;32m    114\u001B[0m         query,\n\u001B[1;32m    115\u001B[0m         query_vector,\n\u001B[1;32m    116\u001B[0m         group_ids,\n\u001B[1;32m    117\u001B[0m         config\u001B[38;5;241m.\u001B[39mnode_config,\n\u001B[1;32m    118\u001B[0m         search_filter,\n\u001B[1;32m    119\u001B[0m         center_node_uuid,\n\u001B[1;32m    120\u001B[0m         bfs_origin_node_uuids,\n\u001B[1;32m    121\u001B[0m         config\u001B[38;5;241m.\u001B[39mlimit,\n\u001B[1;32m    122\u001B[0m         config\u001B[38;5;241m.\u001B[39mreranker_min_score,\n\u001B[1;32m    123\u001B[0m     ),\n\u001B[1;32m    124\u001B[0m     episode_search(\n\u001B[1;32m    125\u001B[0m         driver,\n\u001B[1;32m    126\u001B[0m         cross_encoder,\n\u001B[1;32m    127\u001B[0m         query,\n\u001B[1;32m    128\u001B[0m         query_vector,\n\u001B[1;32m    129\u001B[0m         group_ids,\n\u001B[1;32m    130\u001B[0m         config\u001B[38;5;241m.\u001B[39mepisode_config,\n\u001B[1;32m    131\u001B[0m         search_filter,\n\u001B[1;32m    132\u001B[0m         config\u001B[38;5;241m.\u001B[39mlimit,\n\u001B[1;32m    133\u001B[0m         config\u001B[38;5;241m.\u001B[39mreranker_min_score,\n\u001B[1;32m    134\u001B[0m     ),\n\u001B[1;32m    135\u001B[0m     community_search(\n\u001B[1;32m    136\u001B[0m         driver,\n\u001B[1;32m    137\u001B[0m         cross_encoder,\n\u001B[1;32m    138\u001B[0m         query,\n\u001B[1;32m    139\u001B[0m         query_vector,\n\u001B[1;32m    140\u001B[0m         group_ids,\n\u001B[1;32m    141\u001B[0m         config\u001B[38;5;241m.\u001B[39mcommunity_config,\n\u001B[1;32m    142\u001B[0m         config\u001B[38;5;241m.\u001B[39mlimit,\n\u001B[1;32m    143\u001B[0m         config\u001B[38;5;241m.\u001B[39mreranker_min_score,\n\u001B[1;32m    144\u001B[0m     ),\n\u001B[1;32m    145\u001B[0m )\n\u001B[1;32m    147\u001B[0m results \u001B[38;5;241m=\u001B[39m SearchResults(\n\u001B[1;32m    148\u001B[0m     edges\u001B[38;5;241m=\u001B[39medges,\n\u001B[1;32m    149\u001B[0m     nodes\u001B[38;5;241m=\u001B[39mnodes,\n\u001B[1;32m    150\u001B[0m     episodes\u001B[38;5;241m=\u001B[39mepisodes,\n\u001B[1;32m    151\u001B[0m     communities\u001B[38;5;241m=\u001B[39mcommunities,\n\u001B[1;32m    152\u001B[0m )\n\u001B[1;32m    154\u001B[0m latency \u001B[38;5;241m=\u001B[39m (time() \u001B[38;5;241m-\u001B[39m start) \u001B[38;5;241m*\u001B[39m \u001B[38;5;241m1000\u001B[39m\n",
      "File \u001B[0;32m~/agent-with-graphiti/.venv/lib/python3.12/site-packages/graphiti_core/helpers.py:109\u001B[0m, in \u001B[0;36msemaphore_gather\u001B[0;34m(max_coroutines, *coroutines)\u001B[0m\n\u001B[1;32m    106\u001B[0m     \u001B[38;5;28;01masync\u001B[39;00m \u001B[38;5;28;01mwith\u001B[39;00m semaphore:\n\u001B[1;32m    107\u001B[0m         \u001B[38;5;28;01mreturn\u001B[39;00m \u001B[38;5;28;01mawait\u001B[39;00m coroutine\n\u001B[0;32m--> 109\u001B[0m \u001B[38;5;28;01mreturn\u001B[39;00m \u001B[38;5;28;01mawait\u001B[39;00m asyncio\u001B[38;5;241m.\u001B[39mgather(\u001B[38;5;241m*\u001B[39m(_wrap_coroutine(coroutine) \u001B[38;5;28;01mfor\u001B[39;00m coroutine \u001B[38;5;129;01min\u001B[39;00m coroutines))\n",
      "File \u001B[0;32m~/agent-with-graphiti/.venv/lib/python3.12/site-packages/graphiti_core/helpers.py:107\u001B[0m, in \u001B[0;36msemaphore_gather.<locals>._wrap_coroutine\u001B[0;34m(coroutine)\u001B[0m\n\u001B[1;32m    105\u001B[0m \u001B[38;5;28;01masync\u001B[39;00m \u001B[38;5;28;01mdef\u001B[39;00m\u001B[38;5;250m \u001B[39m\u001B[38;5;21m_wrap_coroutine\u001B[39m(coroutine):\n\u001B[1;32m    106\u001B[0m     \u001B[38;5;28;01masync\u001B[39;00m \u001B[38;5;28;01mwith\u001B[39;00m semaphore:\n\u001B[0;32m--> 107\u001B[0m         \u001B[38;5;28;01mreturn\u001B[39;00m \u001B[38;5;28;01mawait\u001B[39;00m coroutine\n",
      "File \u001B[0;32m~/agent-with-graphiti/.venv/lib/python3.12/site-packages/graphiti_core/search/search.py:177\u001B[0m, in \u001B[0;36medge_search\u001B[0;34m(driver, cross_encoder, query, query_vector, group_ids, config, search_filter, center_node_uuid, bfs_origin_node_uuids, limit, reranker_min_score)\u001B[0m\n\u001B[1;32m    174\u001B[0m \u001B[38;5;28;01mif\u001B[39;00m config \u001B[38;5;129;01mis\u001B[39;00m \u001B[38;5;28;01mNone\u001B[39;00m:\n\u001B[1;32m    175\u001B[0m     \u001B[38;5;28;01mreturn\u001B[39;00m []\n\u001B[1;32m    176\u001B[0m search_results: \u001B[38;5;28mlist\u001B[39m[\u001B[38;5;28mlist\u001B[39m[EntityEdge]] \u001B[38;5;241m=\u001B[39m \u001B[38;5;28mlist\u001B[39m(\n\u001B[0;32m--> 177\u001B[0m     \u001B[38;5;28;01mawait\u001B[39;00m semaphore_gather(\n\u001B[1;32m    178\u001B[0m         \u001B[38;5;241m*\u001B[39m[\n\u001B[1;32m    179\u001B[0m             edge_fulltext_search(driver, query, search_filter, group_ids, \u001B[38;5;241m2\u001B[39m \u001B[38;5;241m*\u001B[39m limit),\n\u001B[1;32m    180\u001B[0m             edge_similarity_search(\n\u001B[1;32m    181\u001B[0m                 driver,\n\u001B[1;32m    182\u001B[0m                 query_vector,\n\u001B[1;32m    183\u001B[0m                 \u001B[38;5;28;01mNone\u001B[39;00m,\n\u001B[1;32m    184\u001B[0m                 \u001B[38;5;28;01mNone\u001B[39;00m,\n\u001B[1;32m    185\u001B[0m                 search_filter,\n\u001B[1;32m    186\u001B[0m                 group_ids,\n\u001B[1;32m    187\u001B[0m                 \u001B[38;5;241m2\u001B[39m \u001B[38;5;241m*\u001B[39m limit,\n\u001B[1;32m    188\u001B[0m                 config\u001B[38;5;241m.\u001B[39msim_min_score,\n\u001B[1;32m    189\u001B[0m             ),\n\u001B[1;32m    190\u001B[0m             edge_bfs_search(\n\u001B[1;32m    191\u001B[0m                 driver, bfs_origin_node_uuids, config\u001B[38;5;241m.\u001B[39mbfs_max_depth, search_filter, \u001B[38;5;241m2\u001B[39m \u001B[38;5;241m*\u001B[39m limit\n\u001B[1;32m    192\u001B[0m             ),\n\u001B[1;32m    193\u001B[0m         ]\n\u001B[1;32m    194\u001B[0m     )\n\u001B[1;32m    195\u001B[0m )\n\u001B[1;32m    197\u001B[0m \u001B[38;5;28;01mif\u001B[39;00m EdgeSearchMethod\u001B[38;5;241m.\u001B[39mbfs \u001B[38;5;129;01min\u001B[39;00m config\u001B[38;5;241m.\u001B[39msearch_methods \u001B[38;5;129;01mand\u001B[39;00m bfs_origin_node_uuids \u001B[38;5;129;01mis\u001B[39;00m \u001B[38;5;28;01mNone\u001B[39;00m:\n\u001B[1;32m    198\u001B[0m     source_node_uuids \u001B[38;5;241m=\u001B[39m [edge\u001B[38;5;241m.\u001B[39msource_node_uuid \u001B[38;5;28;01mfor\u001B[39;00m result \u001B[38;5;129;01min\u001B[39;00m search_results \u001B[38;5;28;01mfor\u001B[39;00m edge \u001B[38;5;129;01min\u001B[39;00m result]\n",
      "File \u001B[0;32m~/agent-with-graphiti/.venv/lib/python3.12/site-packages/graphiti_core/helpers.py:109\u001B[0m, in \u001B[0;36msemaphore_gather\u001B[0;34m(max_coroutines, *coroutines)\u001B[0m\n\u001B[1;32m    106\u001B[0m     \u001B[38;5;28;01masync\u001B[39;00m \u001B[38;5;28;01mwith\u001B[39;00m semaphore:\n\u001B[1;32m    107\u001B[0m         \u001B[38;5;28;01mreturn\u001B[39;00m \u001B[38;5;28;01mawait\u001B[39;00m coroutine\n\u001B[0;32m--> 109\u001B[0m \u001B[38;5;28;01mreturn\u001B[39;00m \u001B[38;5;28;01mawait\u001B[39;00m asyncio\u001B[38;5;241m.\u001B[39mgather(\u001B[38;5;241m*\u001B[39m(_wrap_coroutine(coroutine) \u001B[38;5;28;01mfor\u001B[39;00m coroutine \u001B[38;5;129;01min\u001B[39;00m coroutines))\n",
      "File \u001B[0;32m~/agent-with-graphiti/.venv/lib/python3.12/site-packages/graphiti_core/helpers.py:107\u001B[0m, in \u001B[0;36msemaphore_gather.<locals>._wrap_coroutine\u001B[0;34m(coroutine)\u001B[0m\n\u001B[1;32m    105\u001B[0m \u001B[38;5;28;01masync\u001B[39;00m \u001B[38;5;28;01mdef\u001B[39;00m\u001B[38;5;250m \u001B[39m\u001B[38;5;21m_wrap_coroutine\u001B[39m(coroutine):\n\u001B[1;32m    106\u001B[0m     \u001B[38;5;28;01masync\u001B[39;00m \u001B[38;5;28;01mwith\u001B[39;00m semaphore:\n\u001B[0;32m--> 107\u001B[0m         \u001B[38;5;28;01mreturn\u001B[39;00m \u001B[38;5;28;01mawait\u001B[39;00m coroutine\n",
      "File \u001B[0;32m~/agent-with-graphiti/.venv/lib/python3.12/site-packages/graphiti_core/search/search_utils.py:268\u001B[0m, in \u001B[0;36medge_similarity_search\u001B[0;34m(driver, search_vector, source_node_uuid, target_node_uuid, search_filter, group_ids, limit, min_score)\u001B[0m\n\u001B[1;32m    237\u001B[0m         group_filter_query \u001B[38;5;241m+\u001B[39m\u001B[38;5;241m=\u001B[39m \u001B[38;5;124m'\u001B[39m\u001B[38;5;130;01m\\n\u001B[39;00m\u001B[38;5;124mAND (m.uuid IN [$source_uuid, $target_uuid])\u001B[39m\u001B[38;5;124m'\u001B[39m\n\u001B[1;32m    239\u001B[0m query \u001B[38;5;241m=\u001B[39m (\n\u001B[1;32m    240\u001B[0m     RUNTIME_QUERY\n\u001B[1;32m    241\u001B[0m     \u001B[38;5;241m+\u001B[39m \u001B[38;5;124m\"\"\"\u001B[39m\n\u001B[0;32m   (...)\u001B[0m\n\u001B[1;32m    266\u001B[0m \u001B[38;5;124m    \u001B[39m\u001B[38;5;124m\"\"\"\u001B[39m\n\u001B[1;32m    267\u001B[0m )\n\u001B[0;32m--> 268\u001B[0m records, header, _ \u001B[38;5;241m=\u001B[39m \u001B[38;5;28;01mawait\u001B[39;00m driver\u001B[38;5;241m.\u001B[39mexecute_query(\n\u001B[1;32m    269\u001B[0m     query,\n\u001B[1;32m    270\u001B[0m     params\u001B[38;5;241m=\u001B[39mquery_params,\n\u001B[1;32m    271\u001B[0m     search_vector\u001B[38;5;241m=\u001B[39msearch_vector,\n\u001B[1;32m    272\u001B[0m     source_uuid\u001B[38;5;241m=\u001B[39msource_node_uuid,\n\u001B[1;32m    273\u001B[0m     target_uuid\u001B[38;5;241m=\u001B[39mtarget_node_uuid,\n\u001B[1;32m    274\u001B[0m     group_ids\u001B[38;5;241m=\u001B[39mgroup_ids,\n\u001B[1;32m    275\u001B[0m     limit\u001B[38;5;241m=\u001B[39mlimit,\n\u001B[1;32m    276\u001B[0m     min_score\u001B[38;5;241m=\u001B[39mmin_score,\n\u001B[1;32m    277\u001B[0m     database_\u001B[38;5;241m=\u001B[39mDEFAULT_DATABASE,\n\u001B[1;32m    278\u001B[0m     routing_\u001B[38;5;241m=\u001B[39m\u001B[38;5;124m'\u001B[39m\u001B[38;5;124mr\u001B[39m\u001B[38;5;124m'\u001B[39m,\n\u001B[1;32m    279\u001B[0m )\n\u001B[1;32m    281\u001B[0m \u001B[38;5;28;01mif\u001B[39;00m driver\u001B[38;5;241m.\u001B[39mprovider \u001B[38;5;241m==\u001B[39m \u001B[38;5;124m'\u001B[39m\u001B[38;5;124mfalkordb\u001B[39m\u001B[38;5;124m'\u001B[39m:\n\u001B[1;32m    282\u001B[0m     records \u001B[38;5;241m=\u001B[39m [\u001B[38;5;28mdict\u001B[39m(\u001B[38;5;28mzip\u001B[39m(header, row, strict\u001B[38;5;241m=\u001B[39m\u001B[38;5;28;01mTrue\u001B[39;00m)) \u001B[38;5;28;01mfor\u001B[39;00m row \u001B[38;5;129;01min\u001B[39;00m records]\n",
      "File \u001B[0;32m~/agent-with-graphiti/.venv/lib/python3.12/site-packages/graphiti_core/driver/neo4j_driver.py:47\u001B[0m, in \u001B[0;36mNeo4jDriver.execute_query\u001B[0;34m(self, cypher_query_, **kwargs)\u001B[0m\n\u001B[1;32m     45\u001B[0m \u001B[38;5;28;01masync\u001B[39;00m \u001B[38;5;28;01mdef\u001B[39;00m\u001B[38;5;250m \u001B[39m\u001B[38;5;21mexecute_query\u001B[39m(\u001B[38;5;28mself\u001B[39m, cypher_query_: LiteralString, \u001B[38;5;241m*\u001B[39m\u001B[38;5;241m*\u001B[39mkwargs: Any) \u001B[38;5;241m-\u001B[39m\u001B[38;5;241m>\u001B[39m Coroutine:\n\u001B[1;32m     46\u001B[0m     params \u001B[38;5;241m=\u001B[39m kwargs\u001B[38;5;241m.\u001B[39mpop(\u001B[38;5;124m'\u001B[39m\u001B[38;5;124mparams\u001B[39m\u001B[38;5;124m'\u001B[39m, \u001B[38;5;28;01mNone\u001B[39;00m)\n\u001B[0;32m---> 47\u001B[0m     result \u001B[38;5;241m=\u001B[39m \u001B[38;5;28;01mawait\u001B[39;00m \u001B[38;5;28mself\u001B[39m\u001B[38;5;241m.\u001B[39mclient\u001B[38;5;241m.\u001B[39mexecute_query(cypher_query_, parameters_\u001B[38;5;241m=\u001B[39mparams, \u001B[38;5;241m*\u001B[39m\u001B[38;5;241m*\u001B[39mkwargs)\n\u001B[1;32m     49\u001B[0m     \u001B[38;5;28;01mreturn\u001B[39;00m result\n",
      "File \u001B[0;32m~/agent-with-graphiti/.venv/lib/python3.12/site-packages/neo4j/_async/driver.py:971\u001B[0m, in \u001B[0;36mAsyncDriver.execute_query\u001B[0;34m(self, query_, parameters_, routing_, database_, impersonated_user_, bookmark_manager_, auth_, result_transformer_, **kwargs)\u001B[0m\n\u001B[1;32m    967\u001B[0m     \u001B[38;5;28;01mraise\u001B[39;00m \u001B[38;5;167;01mValueError\u001B[39;00m(\n\u001B[1;32m    968\u001B[0m         \u001B[38;5;124mf\u001B[39m\u001B[38;5;124m\"\u001B[39m\u001B[38;5;124mInvalid routing control value: \u001B[39m\u001B[38;5;132;01m{\u001B[39;00mrouting_\u001B[38;5;132;01m!r}\u001B[39;00m\u001B[38;5;124m\"\u001B[39m\n\u001B[1;32m    969\u001B[0m     )\n\u001B[1;32m    970\u001B[0m \u001B[38;5;28;01mwith\u001B[39;00m session\u001B[38;5;241m.\u001B[39m_pipelined_begin:\n\u001B[0;32m--> 971\u001B[0m     \u001B[38;5;28;01mreturn\u001B[39;00m \u001B[38;5;28;01mawait\u001B[39;00m session\u001B[38;5;241m.\u001B[39m_run_transaction(\n\u001B[1;32m    972\u001B[0m         access_mode,\n\u001B[1;32m    973\u001B[0m         TelemetryAPI\u001B[38;5;241m.\u001B[39mDRIVER,\n\u001B[1;32m    974\u001B[0m         work,\n\u001B[1;32m    975\u001B[0m         (query_str, parameters, result_transformer_),\n\u001B[1;32m    976\u001B[0m         {},\n\u001B[1;32m    977\u001B[0m     )\n",
      "File \u001B[0;32m~/agent-with-graphiti/.venv/lib/python3.12/site-packages/neo4j/_async/work/session.py:583\u001B[0m, in \u001B[0;36mAsyncSession._run_transaction\u001B[0;34m(self, access_mode, api, transaction_function, args, kwargs)\u001B[0m\n\u001B[1;32m    581\u001B[0m tx \u001B[38;5;241m=\u001B[39m \u001B[38;5;28mself\u001B[39m\u001B[38;5;241m.\u001B[39m_transaction\n\u001B[1;32m    582\u001B[0m \u001B[38;5;28;01mtry\u001B[39;00m:\n\u001B[0;32m--> 583\u001B[0m     result \u001B[38;5;241m=\u001B[39m \u001B[38;5;28;01mawait\u001B[39;00m transaction_function(tx, \u001B[38;5;241m*\u001B[39margs, \u001B[38;5;241m*\u001B[39m\u001B[38;5;241m*\u001B[39mkwargs)\n\u001B[1;32m    584\u001B[0m \u001B[38;5;28;01mexcept\u001B[39;00m asyncio\u001B[38;5;241m.\u001B[39mCancelledError:\n\u001B[1;32m    585\u001B[0m     \u001B[38;5;66;03m# if cancellation callback has not been called yet:\u001B[39;00m\n\u001B[1;32m    586\u001B[0m     \u001B[38;5;28;01mif\u001B[39;00m \u001B[38;5;28mself\u001B[39m\u001B[38;5;241m.\u001B[39m_transaction \u001B[38;5;129;01mis\u001B[39;00m \u001B[38;5;129;01mnot\u001B[39;00m \u001B[38;5;28;01mNone\u001B[39;00m:\n",
      "File \u001B[0;32m~/agent-with-graphiti/.venv/lib/python3.12/site-packages/neo4j/_async/driver.py:1307\u001B[0m, in \u001B[0;36m_work\u001B[0;34m(tx, query, parameters, transformer)\u001B[0m\n\u001B[1;32m   1301\u001B[0m \u001B[38;5;28;01masync\u001B[39;00m \u001B[38;5;28;01mdef\u001B[39;00m\u001B[38;5;250m \u001B[39m\u001B[38;5;21m_work\u001B[39m(\n\u001B[1;32m   1302\u001B[0m     tx: AsyncManagedTransaction,\n\u001B[1;32m   1303\u001B[0m     query: te\u001B[38;5;241m.\u001B[39mLiteralString,\n\u001B[1;32m   1304\u001B[0m     parameters: \u001B[38;5;28mdict\u001B[39m[\u001B[38;5;28mstr\u001B[39m, t\u001B[38;5;241m.\u001B[39mAny],\n\u001B[1;32m   1305\u001B[0m     transformer: t\u001B[38;5;241m.\u001B[39mCallable[[AsyncResult], t\u001B[38;5;241m.\u001B[39mAwaitable[_T]],\n\u001B[1;32m   1306\u001B[0m ) \u001B[38;5;241m-\u001B[39m\u001B[38;5;241m>\u001B[39m _T:\n\u001B[0;32m-> 1307\u001B[0m     res \u001B[38;5;241m=\u001B[39m \u001B[38;5;28;01mawait\u001B[39;00m tx\u001B[38;5;241m.\u001B[39mrun(query, parameters)\n\u001B[1;32m   1308\u001B[0m     \u001B[38;5;28;01mreturn\u001B[39;00m \u001B[38;5;28;01mawait\u001B[39;00m transformer(res)\n",
      "File \u001B[0;32m~/agent-with-graphiti/.venv/lib/python3.12/site-packages/neo4j/_async/work/transaction.py:206\u001B[0m, in \u001B[0;36mAsyncTransactionBase.run\u001B[0;34m(self, query, parameters, **kwparameters)\u001B[0m\n\u001B[1;32m    203\u001B[0m \u001B[38;5;28mself\u001B[39m\u001B[38;5;241m.\u001B[39m_results\u001B[38;5;241m.\u001B[39mappend(result)\n\u001B[1;32m    205\u001B[0m parameters \u001B[38;5;241m=\u001B[39m \u001B[38;5;28mdict\u001B[39m(parameters \u001B[38;5;129;01mor\u001B[39;00m {}, \u001B[38;5;241m*\u001B[39m\u001B[38;5;241m*\u001B[39mkwparameters)\n\u001B[0;32m--> 206\u001B[0m \u001B[38;5;28;01mawait\u001B[39;00m result\u001B[38;5;241m.\u001B[39m_tx_ready_run(query, parameters)\n\u001B[1;32m    208\u001B[0m \u001B[38;5;28;01mreturn\u001B[39;00m result\n",
      "File \u001B[0;32m~/agent-with-graphiti/.venv/lib/python3.12/site-packages/neo4j/_async/work/result.py:177\u001B[0m, in \u001B[0;36mAsyncResult._tx_ready_run\u001B[0;34m(self, query, parameters)\u001B[0m\n\u001B[1;32m    173\u001B[0m \u001B[38;5;28;01masync\u001B[39;00m \u001B[38;5;28;01mdef\u001B[39;00m\u001B[38;5;250m \u001B[39m\u001B[38;5;21m_tx_ready_run\u001B[39m(\u001B[38;5;28mself\u001B[39m, query, parameters):\n\u001B[1;32m    174\u001B[0m     \u001B[38;5;66;03m# BEGIN+RUN does not carry any extra on the RUN message.\u001B[39;00m\n\u001B[1;32m    175\u001B[0m     \u001B[38;5;66;03m# BEGIN {extra}\u001B[39;00m\n\u001B[1;32m    176\u001B[0m     \u001B[38;5;66;03m# RUN \"query\" {parameters} {extra}\u001B[39;00m\n\u001B[0;32m--> 177\u001B[0m     \u001B[38;5;28;01mawait\u001B[39;00m \u001B[38;5;28mself\u001B[39m\u001B[38;5;241m.\u001B[39m_run(query, parameters, \u001B[38;5;28;01mNone\u001B[39;00m, \u001B[38;5;28;01mNone\u001B[39;00m, \u001B[38;5;28;01mNone\u001B[39;00m, \u001B[38;5;28;01mNone\u001B[39;00m, \u001B[38;5;28;01mNone\u001B[39;00m, \u001B[38;5;28;01mNone\u001B[39;00m)\n",
      "File \u001B[0;32m~/agent-with-graphiti/.venv/lib/python3.12/site-packages/neo4j/_async/work/result.py:236\u001B[0m, in \u001B[0;36mAsyncResult._run\u001B[0;34m(self, query, parameters, db, imp_user, access_mode, bookmarks, notifications_min_severity, notifications_disabled_classifications)\u001B[0m\n\u001B[1;32m    234\u001B[0m \u001B[38;5;28mself\u001B[39m\u001B[38;5;241m.\u001B[39m_pull()\n\u001B[1;32m    235\u001B[0m \u001B[38;5;28;01mawait\u001B[39;00m \u001B[38;5;28mself\u001B[39m\u001B[38;5;241m.\u001B[39m_connection\u001B[38;5;241m.\u001B[39msend_all()\n\u001B[0;32m--> 236\u001B[0m \u001B[38;5;28;01mawait\u001B[39;00m \u001B[38;5;28mself\u001B[39m\u001B[38;5;241m.\u001B[39m_attach()\n",
      "File \u001B[0;32m~/agent-with-graphiti/.venv/lib/python3.12/site-packages/neo4j/_async/work/result.py:430\u001B[0m, in \u001B[0;36mAsyncResult._attach\u001B[0;34m(self)\u001B[0m\n\u001B[1;32m    428\u001B[0m \u001B[38;5;28;01mif\u001B[39;00m \u001B[38;5;28mself\u001B[39m\u001B[38;5;241m.\u001B[39m_exhausted \u001B[38;5;129;01mis\u001B[39;00m \u001B[38;5;28;01mFalse\u001B[39;00m:\n\u001B[1;32m    429\u001B[0m     \u001B[38;5;28;01mwhile\u001B[39;00m \u001B[38;5;28mself\u001B[39m\u001B[38;5;241m.\u001B[39m_attached \u001B[38;5;129;01mis\u001B[39;00m \u001B[38;5;28;01mFalse\u001B[39;00m:\n\u001B[0;32m--> 430\u001B[0m         \u001B[38;5;28;01mawait\u001B[39;00m \u001B[38;5;28mself\u001B[39m\u001B[38;5;241m.\u001B[39m_connection\u001B[38;5;241m.\u001B[39mfetch_message()\n",
      "File \u001B[0;32m~/agent-with-graphiti/.venv/lib/python3.12/site-packages/neo4j/_async/io/_common.py:195\u001B[0m, in \u001B[0;36mConnectionErrorHandler.__getattr__.<locals>.outer_async.<locals>.inner\u001B[0;34m(*args, **kwargs)\u001B[0m\n\u001B[1;32m    193\u001B[0m \u001B[38;5;28;01masync\u001B[39;00m \u001B[38;5;28;01mdef\u001B[39;00m\u001B[38;5;250m \u001B[39m\u001B[38;5;21minner\u001B[39m(\u001B[38;5;241m*\u001B[39margs, \u001B[38;5;241m*\u001B[39m\u001B[38;5;241m*\u001B[39mkwargs):\n\u001B[1;32m    194\u001B[0m     \u001B[38;5;28;01mtry\u001B[39;00m:\n\u001B[0;32m--> 195\u001B[0m         \u001B[38;5;28;01mawait\u001B[39;00m coroutine_func(\u001B[38;5;241m*\u001B[39margs, \u001B[38;5;241m*\u001B[39m\u001B[38;5;241m*\u001B[39mkwargs)\n\u001B[1;32m    196\u001B[0m     \u001B[38;5;28;01mexcept\u001B[39;00m (\n\u001B[1;32m    197\u001B[0m         Neo4jError,\n\u001B[1;32m    198\u001B[0m         ServiceUnavailable,\n\u001B[1;32m    199\u001B[0m         SessionExpired,\n\u001B[1;32m    200\u001B[0m         asyncio\u001B[38;5;241m.\u001B[39mCancelledError,\n\u001B[1;32m    201\u001B[0m     ) \u001B[38;5;28;01mas\u001B[39;00m exc:\n\u001B[1;32m    202\u001B[0m         \u001B[38;5;28;01mawait\u001B[39;00m AsyncUtil\u001B[38;5;241m.\u001B[39mcallback(\u001B[38;5;28mself\u001B[39m\u001B[38;5;241m.\u001B[39m__on_error, exc)\n",
      "File \u001B[0;32m~/agent-with-graphiti/.venv/lib/python3.12/site-packages/neo4j/_async/io/_bolt.py:864\u001B[0m, in \u001B[0;36mAsyncBolt.fetch_message\u001B[0;34m(self)\u001B[0m\n\u001B[1;32m    860\u001B[0m \u001B[38;5;66;03m# Receive exactly one message\u001B[39;00m\n\u001B[1;32m    861\u001B[0m tag, fields \u001B[38;5;241m=\u001B[39m \u001B[38;5;28;01mawait\u001B[39;00m \u001B[38;5;28mself\u001B[39m\u001B[38;5;241m.\u001B[39minbox\u001B[38;5;241m.\u001B[39mpop(\n\u001B[1;32m    862\u001B[0m     hydration_hooks\u001B[38;5;241m=\u001B[39m\u001B[38;5;28mself\u001B[39m\u001B[38;5;241m.\u001B[39mresponses[\u001B[38;5;241m0\u001B[39m]\u001B[38;5;241m.\u001B[39mhydration_hooks\n\u001B[1;32m    863\u001B[0m )\n\u001B[0;32m--> 864\u001B[0m res \u001B[38;5;241m=\u001B[39m \u001B[38;5;28;01mawait\u001B[39;00m \u001B[38;5;28mself\u001B[39m\u001B[38;5;241m.\u001B[39m_process_message(tag, fields)\n\u001B[1;32m    865\u001B[0m \u001B[38;5;28mself\u001B[39m\u001B[38;5;241m.\u001B[39midle_since \u001B[38;5;241m=\u001B[39m monotonic()\n\u001B[1;32m    866\u001B[0m \u001B[38;5;28;01mreturn\u001B[39;00m res\n",
      "File \u001B[0;32m~/agent-with-graphiti/.venv/lib/python3.12/site-packages/neo4j/_async/io/_bolt5.py:500\u001B[0m, in \u001B[0;36mAsyncBolt5x0._process_message\u001B[0;34m(self, tag, fields)\u001B[0m\n\u001B[1;32m    498\u001B[0m \u001B[38;5;28mself\u001B[39m\u001B[38;5;241m.\u001B[39m_server_state_manager\u001B[38;5;241m.\u001B[39mstate \u001B[38;5;241m=\u001B[39m \u001B[38;5;28mself\u001B[39m\u001B[38;5;241m.\u001B[39mbolt_states\u001B[38;5;241m.\u001B[39mFAILED\n\u001B[1;32m    499\u001B[0m \u001B[38;5;28;01mtry\u001B[39;00m:\n\u001B[0;32m--> 500\u001B[0m     \u001B[38;5;28;01mawait\u001B[39;00m response\u001B[38;5;241m.\u001B[39mon_failure(summary_metadata \u001B[38;5;129;01mor\u001B[39;00m {})\n\u001B[1;32m    501\u001B[0m \u001B[38;5;28;01mexcept\u001B[39;00m (ServiceUnavailable, DatabaseUnavailable):\n\u001B[1;32m    502\u001B[0m     \u001B[38;5;28;01mif\u001B[39;00m \u001B[38;5;28mself\u001B[39m\u001B[38;5;241m.\u001B[39mpool:\n",
      "File \u001B[0;32m~/agent-with-graphiti/.venv/lib/python3.12/site-packages/neo4j/_async/io/_common.py:254\u001B[0m, in \u001B[0;36mResponse.on_failure\u001B[0;34m(self, metadata)\u001B[0m\n\u001B[1;32m    252\u001B[0m handler \u001B[38;5;241m=\u001B[39m \u001B[38;5;28mself\u001B[39m\u001B[38;5;241m.\u001B[39mhandlers\u001B[38;5;241m.\u001B[39mget(\u001B[38;5;124m\"\u001B[39m\u001B[38;5;124mon_summary\u001B[39m\u001B[38;5;124m\"\u001B[39m)\n\u001B[1;32m    253\u001B[0m \u001B[38;5;28;01mawait\u001B[39;00m AsyncUtil\u001B[38;5;241m.\u001B[39mcallback(handler)\n\u001B[0;32m--> 254\u001B[0m \u001B[38;5;28;01mraise\u001B[39;00m \u001B[38;5;28mself\u001B[39m\u001B[38;5;241m.\u001B[39m_hydrate_error(metadata)\n",
      "\u001B[0;31mCypherSyntaxError\u001B[0m: {code: Neo.ClientError.Statement.SyntaxError} {message: Unknown function 'vector.similarity.cosine' (line 4, column 26 (offset: 115))\n\"        WITH DISTINCT r, vector.similarity.cosine(r.fact_embedding, $search_vector) AS score\"\n                          ^}"
     ]
    }
   ],
   "execution_count": 10
  },
  {
   "metadata": {},
   "cell_type": "code",
   "outputs": [],
   "execution_count": null,
   "source": [
    "if results and len(results) > 0:\n",
    "\n",
    "    center_node_uuid = results[0].source_node_uuid\n",
    "\n",
    "    print('\\nReranking search results based on graph distance:')\n",
    "    print(f'Using center node UUID: {center_node_uuid}')\n",
    "\n",
    "    reranked_results = await graphiti.search(\n",
    "        'Who was the California Attorney General?', center_node_uuid=center_node_uuid\n",
    "    )\n",
    "\n",
    "    print('\\nReranked Search Results:')\n",
    "    for result in reranked_results:\n",
    "        print(f'UUID: {result.uuid}')\n",
    "        print(f'Fact: {result.fact}')\n",
    "        if hasattr(result, 'valid_at') and result.valid_at:\n",
    "            print(f'Valid from: {result.valid_at}')\n",
    "        if hasattr(result, 'invalid_at') and result.invalid_at:\n",
    "            print(f'Valid until: {result.invalid_at}')\n",
    "        print('---')\n",
    "else:\n",
    "    print('No results found in the initial search to use as center node.')\n"
   ],
   "id": "4da58f7d0867cc9a"
  },
  {
   "metadata": {},
   "cell_type": "code",
   "outputs": [],
   "execution_count": null,
   "source": [
    "# Example: Perform a node search using _search method with standard recipes\n",
    "print(\n",
    "    '\\nPerforming node search using _search method with standard recipe NODE_HYBRID_SEARCH_RRF:'\n",
    ")\n",
    "\n",
    "# Use a predefined search configuration recipe and modify its limit\n",
    "node_search_config = NODE_HYBRID_SEARCH_RRF.model_copy(deep=True)\n",
    "node_search_config.limit = 5  # Limit to 5 results\n",
    "\n",
    "# Execute the node search\n",
    "node_search_results = await graphiti._search(\n",
    "    query='California Governor',\n",
    "    config=node_search_config,\n",
    ")\n",
    "\n",
    "# Print node search results\n",
    "print('\\nNode Search Results:')\n",
    "for node in node_search_results.nodes:\n",
    "    print(f'Node UUID: {node.uuid}')\n",
    "    print(f'Node Name: {node.name}')\n",
    "    node_summary = node.summary[:100] + '...' if len(node.summary) > 100 else node.summary\n",
    "    print(f'Content Summary: {node_summary}')\n",
    "    print(f\"Node Labels: {', '.join(node.labels)}\")\n",
    "    print(f'Created At: {node.created_at}')\n",
    "    if hasattr(node, 'attributes') and node.attributes:\n",
    "        print('Attributes:')\n",
    "        for key, value in node.attributes.items():\n",
    "            print(f'  {key}: {value}')\n",
    "    print('---')\n"
   ],
   "id": "43da01286b5e8296"
  },
  {
   "cell_type": "code",
   "execution_count": 3,
   "id": "44449c05",
   "metadata": {
    "ExecuteTime": {
     "end_time": "2025-07-03T10:30:37.113698Z",
     "start_time": "2025-07-03T10:30:37.110709Z"
    }
   },
   "outputs": [
    {
     "name": "stdout",
     "output_type": "stream",
     "text": [
      "[<EpisodeType.message: 'message'>, <EpisodeType.json: 'json'>, <EpisodeType.text: 'text'>]\n"
     ]
    }
   ],
   "source": [
    "from graphiti_core.nodes import EpisodeType\n",
    "\n",
    "print([e for e in EpisodeType])\n"
   ]
  },
  {
   "cell_type": "code",
   "execution_count": 5,
   "id": "b2558111",
   "metadata": {
    "ExecuteTime": {
     "end_time": "2025-07-03T10:30:39.469479Z",
     "start_time": "2025-07-03T10:30:39.466454Z"
    }
   },
   "outputs": [
    {
     "name": "stdout",
     "output_type": "stream",
     "text": [
      "(self, name: str, episode_body: str, source_description: str, reference_time: datetime.datetime, source: graphiti_core.nodes.EpisodeType = <EpisodeType.message: 'message'>, group_id: str = '', uuid: str | None = None, update_communities: bool = False, entity_types: dict[str, pydantic.main.BaseModel] | None = None, excluded_entity_types: list[str] | None = None, previous_episode_uuids: list[str] | None = None, edge_types: dict[str, pydantic.main.BaseModel] | None = None, edge_type_map: dict[tuple[str, str], list[str]] | None = None) -> graphiti_core.graphiti.AddEpisodeResults\n"
     ]
    }
   ],
   "source": [
    "import inspect\n",
    "print(inspect.signature(Graphiti.add_episode))"
   ]
  },
  {
   "cell_type": "code",
   "execution_count": null,
   "id": "7e6f0bb2f8ffeda8",
   "metadata": {},
   "outputs": [],
   "source": [
    "1/0"
   ]
  },
  {
   "cell_type": "code",
   "execution_count": null,
   "id": "41195a74acb284c4",
   "metadata": {},
   "outputs": [],
   "source": [
    "class ChatMemory:\n",
    "    def __init__(self, uri, user, password):\n",
    "        self.driver = AsyncGraphDatabase.driver(uri, auth=(user, password))\n",
    "        self.graphiti = Graphiti(uri=uri, user=user, password=password)\n",
    "\n",
    "    async def save_message_as_episode(self, user_id: str, text: str, sender: str):\n",
    "        timestamp = datetime.now(timezone.utc)\n",
    "\n",
    "        await self.graphiti.add_episode(\n",
    "            name=f\"{user_id}_{sender}_{timestamp.isoformat()}\",\n",
    "            episode_body=text,\n",
    "            source=EpisodeType.text,\n",
    "            source_description=f\"chat message from {sender}\",\n",
    "            reference_time=timestamp\n",
    "        )\n",
    "\n",
    "\n",
    "async def run_conversation():\n",
    "    memory = ChatMemory(neo4j_uri, neo4j_user, neo4j_password)\n",
    "\n",
    "    user_id = \"user-123\"\n",
    "    user_input = \"I need help with my order\"\n",
    "\n",
    "    await memory.save_message_as_episode(user_id, user_input, sender=\"user\")\n",
    "\n",
    "    response = gemini_model.generate_content(user_input)\n",
    "    reply = response.text.strip()\n",
    "\n",
    "    await memory.save_message_as_episode(user_id, reply, sender=\"agent\")\n",
    "\n",
    "    print(\"Gemini Reply:\", reply)\n",
    "    return response\n",
    "\n",
    "\n",
    "response = await run_conversation()\n",
    "print(response)"
   ]
  },
  {
   "metadata": {},
   "cell_type": "code",
   "outputs": [],
   "execution_count": null,
   "source": "",
   "id": "e2e34aa8da3832f5"
  }
 ],
 "metadata": {
  "kernelspec": {
   "display_name": ".venv",
   "language": "python",
   "name": "python3"
  },
  "language_info": {
   "codemirror_mode": {
    "name": "ipython",
    "version": 3
   },
   "file_extension": ".py",
   "mimetype": "text/x-python",
   "name": "python",
   "nbconvert_exporter": "python",
   "pygments_lexer": "ipython3",
   "version": "3.12.4"
  }
 },
 "nbformat": 4,
 "nbformat_minor": 5
}
