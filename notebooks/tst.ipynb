{
 "cells": [
  {
   "metadata": {
    "jupyter": {
     "is_executing": true
    },
    "ExecuteTime": {
     "start_time": "2025-07-08T08:37:06.074047Z"
    }
   },
   "cell_type": "code",
   "source": [
    "import os\n",
    "import datetime\n",
    "import nest_asyncio\n",
    "from dotenv import load_dotenv\n",
    "from graphiti_core import Graphiti\n",
    "from graphiti_core.llm_client.gemini_client import GeminiClient, LLMConfig\n",
    "from graphiti_core.embedder.gemini import GeminiEmbedder, GeminiEmbedderConfig\n",
    "from graphiti_core.utils.bulk_utils import EpisodeType\n",
    "nest_asyncio.apply()\n",
    "load_dotenv()\n",
    "\n",
    "GOOGLE_API_KEY = os.getenv(\"GOOGLE_API_KEY\")\n",
    "NEO4J_URI = os.getenv(\"NEO4J_URI\")\n",
    "NEO4J_USERNAME = os.getenv(\"NEO4J_USERNAME\")\n",
    "NEO4J_PASSWORD = os.getenv(\"NEO4J_PASSWORD\")\n",
    "NEO4J_DATABASE = os.getenv(\"NEO4J_DATABASE\")\n",
    "\n",
    "\n",
    "if not GOOGLE_API_KEY:\n",
    "    raise ValueError(\"GOOGLE_API_KEY not set in .env\")\n",
    "\n",
    "if not NEO4J_PASSWORD:\n",
    "    raise ValueError(\"NEO4J_PASSWORD not set in .env\")\n",
    "\n",
    "async def simple_graphiti_gemini_example():\n",
    "    \"\"\"\n",
    "    Simple example showing how to use Graphiti with Gemini\n",
    "    \"\"\"\n",
    "\n",
    "    gemini_llm_client = GeminiClient(\n",
    "        config=LLMConfig(\n",
    "            api_key=GOOGLE_API_KEY,\n",
    "            model=\"gemini-2.5-flash\"\n",
    "        )\n",
    "    )\n",
    "\n",
    "    gemini_embedder = GeminiEmbedder(\n",
    "        config=GeminiEmbedderConfig(\n",
    "            api_key=GOOGLE_API_KEY,\n",
    "            embedding_model=\"text-embedding-004\"\n",
    "        )\n",
    "    )\n",
    "\n",
    "    graphiti = Graphiti(\n",
    "        NEO4J_URI,\n",
    "        NEO4J_USERNAME,\n",
    "        NEO4J_PASSWORD,\n",
    "        llm_client=gemini_llm_client,\n",
    "        embedder=gemini_embedder\n",
    "    )\n",
    "\n",
    "    print(\" Graphiti initialized with Gemini!\")\n",
    "\n",
    "    await graphiti.build_indices_and_constraints()\n",
    "    print(\" Database schema initialized!\")\n",
    "\n",
    "    episodes = [\n",
    "        \"user033 is Omani always buy Apple brand less than 500 OMR.\",\n",
    "        \"user005 always ask about latest new products from Apple, and ordered 3 Apple smart watches.\",\n",
    "        \"user001 like same brand as user033. He makes new order every friday.\",\n",
    "        \"user005 recently looking for a new smart watches from Samsung and no more likes Apple brand.\",\n",
    "        \"user001 preferences are iphone 15 pro, Apple Watch Ultra 2, and Airpods 3X pro\"\n",
    "    ]\n",
    "\n",
    "    print(\"\\n Adding episodes to knowledge graph...\")\n",
    "    for i, episode in enumerate(episodes, 1):\n",
    "        await graphiti.add_episode(\n",
    "            name=f\"episode_{i}\",\n",
    "            episode_body=episode,\n",
    "            source=EpisodeType.text,\n",
    "            source_description=\"User preferences\",\n",
    "            reference_time=datetime.datetime.now()\n",
    "        )\n",
    "        print(f\" Added episode {i}\")\n",
    "\n",
    "    print(\"\\n Querying the knowledge graph...\")\n",
    "\n",
    "    queries = [\n",
    "        \"what's the preferred brand for user005?\"\n",
    "    ]\n",
    "\n",
    "    for query in queries:\n",
    "        results = await graphiti.search(query=query, num_results=3)\n",
    "        print(f\"\\n Results for query: {query}\")\n",
    "        for i, result in enumerate(results, 1):\n",
    "            print(f\"   {i}. {result}\")\n",
    "\n",
    "\n",
    "\n",
    "await simple_graphiti_gemini_example()\n"
   ],
   "id": "e2e34aa8da3832f5",
   "outputs": [
    {
     "name": "stdout",
     "output_type": "stream",
     "text": [
      " Graphiti initialized with Gemini!\n",
      " Database schema initialized!\n",
      "\n",
      " Adding episodes to knowledge graph...\n"
     ]
    }
   ],
   "execution_count": null
  },
  {
   "metadata": {},
   "cell_type": "code",
   "outputs": [],
   "execution_count": null,
   "source": "",
   "id": "adad52d5fb3dcf22"
  }
 ],
 "metadata": {
  "kernelspec": {
   "display_name": ".venv",
   "language": "python",
   "name": "python3"
  },
  "language_info": {
   "codemirror_mode": {
    "name": "ipython",
    "version": 3
   },
   "file_extension": ".py",
   "mimetype": "text/x-python",
   "name": "python",
   "nbconvert_exporter": "python",
   "pygments_lexer": "ipython3",
   "version": "3.12.4"
  }
 },
 "nbformat": 4,
 "nbformat_minor": 5
}
