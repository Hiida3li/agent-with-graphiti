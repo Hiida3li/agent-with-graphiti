{
 "cells": [
  {
   "metadata": {
    "ExecuteTime": {
     "end_time": "2025-07-07T10:03:34.635338Z",
     "start_time": "2025-07-07T10:03:33.480840Z"
    }
   },
   "cell_type": "code",
   "source": [
    "import os\n",
    "import nest_asyncio\n",
    "from dotenv import load_dotenv\n",
    "from graphiti_core import Graphiti\n",
    "from graphiti_core.llm_client.gemini_client import GeminiClient, LLMConfig\n",
    "from graphiti_core.embedder.gemini import GeminiEmbedder, GeminiEmbedderConfig\n",
    "from graphiti_core.utils.bulk_utils import EpisodeType  # Add this import\n",
    "nest_asyncio.apply()\n",
    "load_dotenv()\n",
    "\n",
    "GOOGLE_API_KEY = os.getenv(\"GOOGLE_API_KEY\")\n",
    "NEO4J_URI = os.getenv(\"NEO4J_URI\", \"bolt://localhost:7687\")\n",
    "NEO4J_USER = os.getenv(\"NEO4J_USER\", \"neo4j\")\n",
    "NEO4J_PASSWORD = os.getenv(\"NEO4J_PASSWORD\")\n",
    "\n",
    "if not GOOGLE_API_KEY:\n",
    "    raise ValueError(\"GOOGLE_API_KEY not set in .env\")\n",
    "\n",
    "if not NEO4J_PASSWORD:\n",
    "    raise ValueError(\"NEO4J_PASSWORD not set in .env\")\n",
    "\n",
    "async def simple_graphiti_gemini_example():\n",
    "    \"\"\"\n",
    "    Simple example showing how to use Graphiti with Gemini\n",
    "    \"\"\"\n",
    "\n",
    "    gemini_llm_client = GeminiClient(\n",
    "        config=LLMConfig(\n",
    "            api_key=GOOGLE_API_KEY,\n",
    "            model=\"gemini-2.5-flash\"\n",
    "        )\n",
    "    )\n",
    "\n",
    "    gemini_embedder = GeminiEmbedder(\n",
    "        config=GeminiEmbedderConfig(\n",
    "            api_key=GOOGLE_API_KEY,\n",
    "            embedding_model=\"text-embedding-004\"\n",
    "        )\n",
    "    )\n",
    "\n",
    "    graphiti = Graphiti(\n",
    "        \"bolt://localhost:7687\",\n",
    "        \"neo4j\",\n",
    "        \"password\",\n",
    "        llm_client=gemini_llm_client,\n",
    "        embedder=gemini_embedder\n",
    "    )\n",
    "\n",
    "    print(\" Graphiti initialized with Gemini!\")\n",
    "\n",
    "    episodes = [\n",
    "        \"user033 is Omani always buy Apple brand less than 500 OMR.\",\n",
    "        \"user005 always ask about latest new products from Apple, and ordered 3 Apple smart watches.\",\n",
    "        \"user001 like same brand as user033. He makes new order every friday.\",\n",
    "        \"user005 recently looking for a new smart watches from Samsung and no more likes Apple brand.\",\n",
    "        \"user001 preferences are iphone 15 pro, Apple Watch Ultra 2, and Airpods 3X pro\"\n",
    "    ]\n",
    "\n",
    "    print(\"\\n Adding episodes to knowledge graph...\")\n",
    "    for i, episode in enumerate(episodes, 1):\n",
    "        await graphiti.add_episode(\n",
    "            name=f\"episode_{i}\",\n",
    "            episode_body=episode,\n",
    "            source=EpisodeType.text,\n",
    "            source_description=\"User conversation\"\n",
    "        )\n",
    "        print(f\" Added episode {i}\")\n",
    "\n",
    "    print(\"\\n Querying the knowledge graph...\")\n",
    "\n",
    "    queries = [\n",
    "        \"what's the preferred brand for user005?\"\n",
    "    ]\n",
    "\n",
    "    for query in queries:\n",
    "        results = await graphiti.search(query=query, limit=3)\n",
    "        print(f\"\\n Results for query: {query}\")\n",
    "        for i, result in enumerate(results, 1):\n",
    "            print(f\"   {i}. {result}\")\n",
    "\n",
    "await simple_graphiti_gemini_example()\n"
   ],
   "id": "e2e34aa8da3832f5",
   "outputs": [
    {
     "name": "stdout",
     "output_type": "stream",
     "text": [
      " Graphiti initialized with Gemini!\n",
      "\n",
      " Adding episodes to knowledge graph...\n"
     ]
    },
    {
     "ename": "TypeError",
     "evalue": "Graphiti.add_episode() missing 1 required positional argument: 'reference_time'",
     "output_type": "error",
     "traceback": [
      "\u001B[0;31m---------------------------------------------------------------------------\u001B[0m",
      "\u001B[0;31mTypeError\u001B[0m                                 Traceback (most recent call last)",
      "Cell \u001B[0;32mIn[2], line 81\u001B[0m\n\u001B[1;32m     78\u001B[0m         \u001B[38;5;28;01mfor\u001B[39;00m i, result \u001B[38;5;129;01min\u001B[39;00m \u001B[38;5;28menumerate\u001B[39m(results, \u001B[38;5;241m1\u001B[39m):\n\u001B[1;32m     79\u001B[0m             \u001B[38;5;28mprint\u001B[39m(\u001B[38;5;124mf\u001B[39m\u001B[38;5;124m\"\u001B[39m\u001B[38;5;124m   \u001B[39m\u001B[38;5;132;01m{\u001B[39;00mi\u001B[38;5;132;01m}\u001B[39;00m\u001B[38;5;124m. \u001B[39m\u001B[38;5;132;01m{\u001B[39;00mresult\u001B[38;5;132;01m}\u001B[39;00m\u001B[38;5;124m\"\u001B[39m)\n\u001B[0;32m---> 81\u001B[0m \u001B[38;5;28;01mawait\u001B[39;00m simple_graphiti_gemini_example()\n",
      "Cell \u001B[0;32mIn[2], line 61\u001B[0m, in \u001B[0;36msimple_graphiti_gemini_example\u001B[0;34m()\u001B[0m\n\u001B[1;32m     59\u001B[0m \u001B[38;5;28mprint\u001B[39m(\u001B[38;5;124m\"\u001B[39m\u001B[38;5;130;01m\\n\u001B[39;00m\u001B[38;5;124m Adding episodes to knowledge graph...\u001B[39m\u001B[38;5;124m\"\u001B[39m)\n\u001B[1;32m     60\u001B[0m \u001B[38;5;28;01mfor\u001B[39;00m i, episode \u001B[38;5;129;01min\u001B[39;00m \u001B[38;5;28menumerate\u001B[39m(episodes, \u001B[38;5;241m1\u001B[39m):\n\u001B[0;32m---> 61\u001B[0m     \u001B[38;5;28;01mawait\u001B[39;00m \u001B[43mgraphiti\u001B[49m\u001B[38;5;241;43m.\u001B[39;49m\u001B[43madd_episode\u001B[49m\u001B[43m(\u001B[49m\n\u001B[1;32m     62\u001B[0m \u001B[43m        \u001B[49m\u001B[43mname\u001B[49m\u001B[38;5;241;43m=\u001B[39;49m\u001B[38;5;124;43mf\u001B[39;49m\u001B[38;5;124;43m\"\u001B[39;49m\u001B[38;5;124;43mepisode_\u001B[39;49m\u001B[38;5;132;43;01m{\u001B[39;49;00m\u001B[43mi\u001B[49m\u001B[38;5;132;43;01m}\u001B[39;49;00m\u001B[38;5;124;43m\"\u001B[39;49m\u001B[43m,\u001B[49m\n\u001B[1;32m     63\u001B[0m \u001B[43m        \u001B[49m\u001B[43mepisode_body\u001B[49m\u001B[38;5;241;43m=\u001B[39;49m\u001B[43mepisode\u001B[49m\u001B[43m,\u001B[49m\n\u001B[1;32m     64\u001B[0m \u001B[43m        \u001B[49m\u001B[43msource\u001B[49m\u001B[38;5;241;43m=\u001B[39;49m\u001B[43mEpisodeType\u001B[49m\u001B[38;5;241;43m.\u001B[39;49m\u001B[43mtext\u001B[49m\u001B[43m,\u001B[49m\n\u001B[1;32m     65\u001B[0m \u001B[43m        \u001B[49m\u001B[43msource_description\u001B[49m\u001B[38;5;241;43m=\u001B[39;49m\u001B[38;5;124;43m\"\u001B[39;49m\u001B[38;5;124;43mUser conversation\u001B[39;49m\u001B[38;5;124;43m\"\u001B[39;49m\n\u001B[1;32m     66\u001B[0m \u001B[43m    \u001B[49m\u001B[43m)\u001B[49m\n\u001B[1;32m     67\u001B[0m     \u001B[38;5;28mprint\u001B[39m(\u001B[38;5;124mf\u001B[39m\u001B[38;5;124m\"\u001B[39m\u001B[38;5;124m Added episode \u001B[39m\u001B[38;5;132;01m{\u001B[39;00mi\u001B[38;5;132;01m}\u001B[39;00m\u001B[38;5;124m\"\u001B[39m)\n\u001B[1;32m     69\u001B[0m \u001B[38;5;28mprint\u001B[39m(\u001B[38;5;124m\"\u001B[39m\u001B[38;5;130;01m\\n\u001B[39;00m\u001B[38;5;124m Querying the knowledge graph...\u001B[39m\u001B[38;5;124m\"\u001B[39m)\n",
      "\u001B[0;31mTypeError\u001B[0m: Graphiti.add_episode() missing 1 required positional argument: 'reference_time'"
     ]
    }
   ],
   "execution_count": 2
  },
  {
   "metadata": {},
   "cell_type": "code",
   "outputs": [],
   "execution_count": null,
   "source": "",
   "id": "4611c8e21845e875"
  }
 ],
 "metadata": {
  "kernelspec": {
   "display_name": ".venv",
   "language": "python",
   "name": "python3"
  },
  "language_info": {
   "codemirror_mode": {
    "name": "ipython",
    "version": 3
   },
   "file_extension": ".py",
   "mimetype": "text/x-python",
   "name": "python",
   "nbconvert_exporter": "python",
   "pygments_lexer": "ipython3",
   "version": "3.12.4"
  }
 },
 "nbformat": 4,
 "nbformat_minor": 5
}
