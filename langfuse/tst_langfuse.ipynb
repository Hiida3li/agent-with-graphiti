{
 "cells": [
  {
   "metadata": {
    "ExecuteTime": {
     "end_time": "2025-07-05T10:06:08.825003Z",
     "start_time": "2025-07-05T10:06:07.763981Z"
    }
   },
   "cell_type": "code",
   "source": "!pip install langfuse google-generativeai",
   "id": "c8959225de1d3895",
   "outputs": [
    {
     "name": "stdout",
     "output_type": "stream",
     "text": [
      "Requirement already satisfied: langfuse in /Users/mahmoud/agent-with-graphiti/.venv/lib/python3.12/site-packages (3.1.2)\r\n",
      "Requirement already satisfied: google-generativeai in /Users/mahmoud/agent-with-graphiti/.venv/lib/python3.12/site-packages (0.8.5)\r\n",
      "Requirement already satisfied: backoff>=1.10.0 in /Users/mahmoud/agent-with-graphiti/.venv/lib/python3.12/site-packages (from langfuse) (2.2.1)\r\n",
      "Requirement already satisfied: httpx<1.0,>=0.15.4 in /Users/mahmoud/agent-with-graphiti/.venv/lib/python3.12/site-packages (from langfuse) (0.28.1)\r\n",
      "Requirement already satisfied: opentelemetry-api<2.0.0,>=1.33.1 in /Users/mahmoud/agent-with-graphiti/.venv/lib/python3.12/site-packages (from langfuse) (1.34.1)\r\n",
      "Requirement already satisfied: opentelemetry-exporter-otlp<2.0.0,>=1.33.1 in /Users/mahmoud/agent-with-graphiti/.venv/lib/python3.12/site-packages (from langfuse) (1.34.1)\r\n",
      "Requirement already satisfied: opentelemetry-sdk<2.0.0,>=1.33.1 in /Users/mahmoud/agent-with-graphiti/.venv/lib/python3.12/site-packages (from langfuse) (1.34.1)\r\n",
      "Requirement already satisfied: packaging<25.0,>=23.2 in /Users/mahmoud/agent-with-graphiti/.venv/lib/python3.12/site-packages (from langfuse) (24.2)\r\n",
      "Requirement already satisfied: pydantic<3.0,>=1.10.7 in /Users/mahmoud/agent-with-graphiti/.venv/lib/python3.12/site-packages (from langfuse) (2.11.7)\r\n",
      "Requirement already satisfied: requests<3,>=2 in /Users/mahmoud/agent-with-graphiti/.venv/lib/python3.12/site-packages (from langfuse) (2.32.4)\r\n",
      "Requirement already satisfied: wrapt<2.0,>=1.14 in /Users/mahmoud/agent-with-graphiti/.venv/lib/python3.12/site-packages (from langfuse) (1.17.2)\r\n",
      "Requirement already satisfied: google-ai-generativelanguage==0.6.15 in /Users/mahmoud/agent-with-graphiti/.venv/lib/python3.12/site-packages (from google-generativeai) (0.6.15)\r\n",
      "Requirement already satisfied: google-api-core in /Users/mahmoud/agent-with-graphiti/.venv/lib/python3.12/site-packages (from google-generativeai) (2.25.1)\r\n",
      "Requirement already satisfied: google-api-python-client in /Users/mahmoud/agent-with-graphiti/.venv/lib/python3.12/site-packages (from google-generativeai) (2.174.0)\r\n",
      "Requirement already satisfied: google-auth>=2.15.0 in /Users/mahmoud/agent-with-graphiti/.venv/lib/python3.12/site-packages (from google-generativeai) (2.40.3)\r\n",
      "Requirement already satisfied: protobuf in /Users/mahmoud/agent-with-graphiti/.venv/lib/python3.12/site-packages (from google-generativeai) (5.29.5)\r\n",
      "Requirement already satisfied: tqdm in /Users/mahmoud/agent-with-graphiti/.venv/lib/python3.12/site-packages (from google-generativeai) (4.67.1)\r\n",
      "Requirement already satisfied: typing-extensions in /Users/mahmoud/agent-with-graphiti/.venv/lib/python3.12/site-packages (from google-generativeai) (4.14.0)\r\n",
      "Requirement already satisfied: proto-plus<2.0.0dev,>=1.22.3 in /Users/mahmoud/agent-with-graphiti/.venv/lib/python3.12/site-packages (from google-ai-generativelanguage==0.6.15->google-generativeai) (1.26.1)\r\n",
      "Requirement already satisfied: cachetools<6.0,>=2.0.0 in /Users/mahmoud/agent-with-graphiti/.venv/lib/python3.12/site-packages (from google-auth>=2.15.0->google-generativeai) (5.5.2)\r\n",
      "Requirement already satisfied: pyasn1-modules>=0.2.1 in /Users/mahmoud/agent-with-graphiti/.venv/lib/python3.12/site-packages (from google-auth>=2.15.0->google-generativeai) (0.4.2)\r\n",
      "Requirement already satisfied: rsa<5,>=3.1.4 in /Users/mahmoud/agent-with-graphiti/.venv/lib/python3.12/site-packages (from google-auth>=2.15.0->google-generativeai) (4.9.1)\r\n",
      "Requirement already satisfied: anyio in /Users/mahmoud/agent-with-graphiti/.venv/lib/python3.12/site-packages (from httpx<1.0,>=0.15.4->langfuse) (4.9.0)\r\n",
      "Requirement already satisfied: certifi in /Users/mahmoud/agent-with-graphiti/.venv/lib/python3.12/site-packages (from httpx<1.0,>=0.15.4->langfuse) (2025.6.15)\r\n",
      "Requirement already satisfied: httpcore==1.* in /Users/mahmoud/agent-with-graphiti/.venv/lib/python3.12/site-packages (from httpx<1.0,>=0.15.4->langfuse) (1.0.9)\r\n",
      "Requirement already satisfied: idna in /Users/mahmoud/agent-with-graphiti/.venv/lib/python3.12/site-packages (from httpx<1.0,>=0.15.4->langfuse) (3.10)\r\n",
      "Requirement already satisfied: h11>=0.16 in /Users/mahmoud/agent-with-graphiti/.venv/lib/python3.12/site-packages (from httpcore==1.*->httpx<1.0,>=0.15.4->langfuse) (0.16.0)\r\n",
      "Requirement already satisfied: importlib-metadata<8.8.0,>=6.0 in /Users/mahmoud/agent-with-graphiti/.venv/lib/python3.12/site-packages (from opentelemetry-api<2.0.0,>=1.33.1->langfuse) (8.7.0)\r\n",
      "Requirement already satisfied: opentelemetry-exporter-otlp-proto-grpc==1.34.1 in /Users/mahmoud/agent-with-graphiti/.venv/lib/python3.12/site-packages (from opentelemetry-exporter-otlp<2.0.0,>=1.33.1->langfuse) (1.34.1)\r\n",
      "Requirement already satisfied: opentelemetry-exporter-otlp-proto-http==1.34.1 in /Users/mahmoud/agent-with-graphiti/.venv/lib/python3.12/site-packages (from opentelemetry-exporter-otlp<2.0.0,>=1.33.1->langfuse) (1.34.1)\r\n",
      "Requirement already satisfied: googleapis-common-protos~=1.52 in /Users/mahmoud/agent-with-graphiti/.venv/lib/python3.12/site-packages (from opentelemetry-exporter-otlp-proto-grpc==1.34.1->opentelemetry-exporter-otlp<2.0.0,>=1.33.1->langfuse) (1.70.0)\r\n",
      "Requirement already satisfied: grpcio<2.0.0,>=1.63.2 in /Users/mahmoud/agent-with-graphiti/.venv/lib/python3.12/site-packages (from opentelemetry-exporter-otlp-proto-grpc==1.34.1->opentelemetry-exporter-otlp<2.0.0,>=1.33.1->langfuse) (1.73.1)\r\n",
      "Requirement already satisfied: opentelemetry-exporter-otlp-proto-common==1.34.1 in /Users/mahmoud/agent-with-graphiti/.venv/lib/python3.12/site-packages (from opentelemetry-exporter-otlp-proto-grpc==1.34.1->opentelemetry-exporter-otlp<2.0.0,>=1.33.1->langfuse) (1.34.1)\r\n",
      "Requirement already satisfied: opentelemetry-proto==1.34.1 in /Users/mahmoud/agent-with-graphiti/.venv/lib/python3.12/site-packages (from opentelemetry-exporter-otlp-proto-grpc==1.34.1->opentelemetry-exporter-otlp<2.0.0,>=1.33.1->langfuse) (1.34.1)\r\n",
      "Requirement already satisfied: opentelemetry-semantic-conventions==0.55b1 in /Users/mahmoud/agent-with-graphiti/.venv/lib/python3.12/site-packages (from opentelemetry-sdk<2.0.0,>=1.33.1->langfuse) (0.55b1)\r\n",
      "Requirement already satisfied: annotated-types>=0.6.0 in /Users/mahmoud/agent-with-graphiti/.venv/lib/python3.12/site-packages (from pydantic<3.0,>=1.10.7->langfuse) (0.7.0)\r\n",
      "Requirement already satisfied: pydantic-core==2.33.2 in /Users/mahmoud/agent-with-graphiti/.venv/lib/python3.12/site-packages (from pydantic<3.0,>=1.10.7->langfuse) (2.33.2)\r\n",
      "Requirement already satisfied: typing-inspection>=0.4.0 in /Users/mahmoud/agent-with-graphiti/.venv/lib/python3.12/site-packages (from pydantic<3.0,>=1.10.7->langfuse) (0.4.1)\r\n",
      "Requirement already satisfied: charset_normalizer<4,>=2 in /Users/mahmoud/agent-with-graphiti/.venv/lib/python3.12/site-packages (from requests<3,>=2->langfuse) (3.4.2)\r\n",
      "Requirement already satisfied: urllib3<3,>=1.21.1 in /Users/mahmoud/agent-with-graphiti/.venv/lib/python3.12/site-packages (from requests<3,>=2->langfuse) (2.5.0)\r\n",
      "Requirement already satisfied: httplib2<1.0.0,>=0.19.0 in /Users/mahmoud/agent-with-graphiti/.venv/lib/python3.12/site-packages (from google-api-python-client->google-generativeai) (0.22.0)\r\n",
      "Requirement already satisfied: google-auth-httplib2<1.0.0,>=0.2.0 in /Users/mahmoud/agent-with-graphiti/.venv/lib/python3.12/site-packages (from google-api-python-client->google-generativeai) (0.2.0)\r\n",
      "Requirement already satisfied: uritemplate<5,>=3.0.1 in /Users/mahmoud/agent-with-graphiti/.venv/lib/python3.12/site-packages (from google-api-python-client->google-generativeai) (4.2.0)\r\n",
      "Requirement already satisfied: grpcio-status<2.0.0,>=1.33.2 in /Users/mahmoud/agent-with-graphiti/.venv/lib/python3.12/site-packages (from google-api-core->google-generativeai) (1.71.2)\r\n",
      "Requirement already satisfied: pyparsing!=3.0.0,!=3.0.1,!=3.0.2,!=3.0.3,<4,>=2.4.2 in /Users/mahmoud/agent-with-graphiti/.venv/lib/python3.12/site-packages (from httplib2<1.0.0,>=0.19.0->google-api-python-client->google-generativeai) (3.2.3)\r\n",
      "Requirement already satisfied: zipp>=3.20 in /Users/mahmoud/agent-with-graphiti/.venv/lib/python3.12/site-packages (from importlib-metadata<8.8.0,>=6.0->opentelemetry-api<2.0.0,>=1.33.1->langfuse) (3.23.0)\r\n",
      "Requirement already satisfied: pyasn1<0.7.0,>=0.6.1 in /Users/mahmoud/agent-with-graphiti/.venv/lib/python3.12/site-packages (from pyasn1-modules>=0.2.1->google-auth>=2.15.0->google-generativeai) (0.6.1)\r\n",
      "Requirement already satisfied: sniffio>=1.1 in /Users/mahmoud/agent-with-graphiti/.venv/lib/python3.12/site-packages (from anyio->httpx<1.0,>=0.15.4->langfuse) (1.3.1)\r\n",
      "\r\n",
      "\u001B[1m[\u001B[0m\u001B[34;49mnotice\u001B[0m\u001B[1;39;49m]\u001B[0m\u001B[39;49m A new release of pip is available: \u001B[0m\u001B[31;49m23.2.1\u001B[0m\u001B[39;49m -> \u001B[0m\u001B[32;49m25.1.1\u001B[0m\r\n",
      "\u001B[1m[\u001B[0m\u001B[34;49mnotice\u001B[0m\u001B[1;39;49m]\u001B[0m\u001B[39;49m To update, run: \u001B[0m\u001B[32;49mpip install --upgrade pip\u001B[0m\r\n"
     ]
    }
   ],
   "execution_count": 2
  },
  {
   "metadata": {
    "collapsed": true,
    "ExecuteTime": {
     "end_time": "2025-07-05T10:13:22.091948Z",
     "start_time": "2025-07-05T10:13:21.037490Z"
    }
   },
   "cell_type": "code",
   "source": [
    "import os\n",
    "import google.generativeai as genai\n",
    "from langfuse import observe\n",
    "\n",
    "os.environ[\"LANGFUSE_PUBLIC_KEY\"] = \"LANGFUSE_PUBLIC_KEY\"\n",
    "os.environ[\"LANGFUSE_SECRET_KEY\"] = \"LANGFUSE_SECRET_KEY\"\n",
    "os.environ[\"GOOGLE_API_KEY\"] = \"GOOGLE_API_KEY2\"\n",
    "\n",
    "genai.configure(api_key=os.environ[\"GOOGLE_API_KEY\"])\n",
    "\n",
    "@observe\n",
    "def generate_character_bio(topic):\n",
    "  \"\"\"Generates a character biography using Gemini.\"\"\"\n",
    "  model = genai.GenerativeModel('gemini-2.5-flash')\n",
    "\n",
    "  # The Langfuse decorator automatically captures this call\n",
    "  response = model.generate_content(\n",
    "      f\"Create a short, compelling character biography for: {topic}\"\n",
    "  )\n",
    "\n",
    "  return response.text\n",
    "\n",
    "# Run the function\n",
    "if __name__ == \"__main__\":\n",
    "  character_topic = \"a reclusive lighthouse keeper who finds a mysterious map\"\n",
    "  bio = generate_character_bio(character_topic)\n",
    "  print(bio)"
   ],
   "id": "initial_id",
   "outputs": [
    {
     "ename": "InvalidArgument",
     "evalue": "400 API key not valid. Please pass a valid API key. [reason: \"API_KEY_INVALID\"\ndomain: \"googleapis.com\"\nmetadata {\n  key: \"service\"\n  value: \"generativelanguage.googleapis.com\"\n}\n, locale: \"en-US\"\nmessage: \"API key not valid. Please pass a valid API key.\"\n]",
     "output_type": "error",
     "traceback": [
      "\u001B[0;31m---------------------------------------------------------------------------\u001B[0m",
      "\u001B[0;31mInvalidArgument\u001B[0m                           Traceback (most recent call last)",
      "Cell \u001B[0;32mIn[4], line 26\u001B[0m\n\u001B[1;32m     24\u001B[0m \u001B[38;5;28;01mif\u001B[39;00m \u001B[38;5;18m__name__\u001B[39m \u001B[38;5;241m==\u001B[39m \u001B[38;5;124m\"\u001B[39m\u001B[38;5;124m__main__\u001B[39m\u001B[38;5;124m\"\u001B[39m:\n\u001B[1;32m     25\u001B[0m   character_topic \u001B[38;5;241m=\u001B[39m \u001B[38;5;124m\"\u001B[39m\u001B[38;5;124ma reclusive lighthouse keeper who finds a mysterious map\u001B[39m\u001B[38;5;124m\"\u001B[39m\n\u001B[0;32m---> 26\u001B[0m   bio \u001B[38;5;241m=\u001B[39m \u001B[43mgenerate_character_bio\u001B[49m\u001B[43m(\u001B[49m\u001B[43mcharacter_topic\u001B[49m\u001B[43m)\u001B[49m\n\u001B[1;32m     27\u001B[0m   \u001B[38;5;28mprint\u001B[39m(bio)\n",
      "File \u001B[0;32m~/agent-with-graphiti/.venv/lib/python3.12/site-packages/langfuse/_client/observe.py:367\u001B[0m, in \u001B[0;36mLangfuseDecorator._sync_observe.<locals>.sync_wrapper\u001B[0;34m(*args, **kwargs)\u001B[0m\n\u001B[1;32m    362\u001B[0m \u001B[38;5;28;01mexcept\u001B[39;00m \u001B[38;5;167;01mException\u001B[39;00m \u001B[38;5;28;01mas\u001B[39;00m e:\n\u001B[1;32m    363\u001B[0m     langfuse_span_or_generation\u001B[38;5;241m.\u001B[39mupdate(\n\u001B[1;32m    364\u001B[0m         level\u001B[38;5;241m=\u001B[39m\u001B[38;5;124m\"\u001B[39m\u001B[38;5;124mERROR\u001B[39m\u001B[38;5;124m\"\u001B[39m, status_message\u001B[38;5;241m=\u001B[39m\u001B[38;5;28mstr\u001B[39m(e)\n\u001B[1;32m    365\u001B[0m     )\n\u001B[0;32m--> 367\u001B[0m     \u001B[38;5;28;01mraise\u001B[39;00m e\n\u001B[1;32m    368\u001B[0m \u001B[38;5;28;01mfinally\u001B[39;00m:\n\u001B[1;32m    369\u001B[0m     \u001B[38;5;28;01mif\u001B[39;00m \u001B[38;5;129;01mnot\u001B[39;00m is_return_type_generator:\n",
      "File \u001B[0;32m~/agent-with-graphiti/.venv/lib/python3.12/site-packages/langfuse/_client/observe.py:347\u001B[0m, in \u001B[0;36mLangfuseDecorator._sync_observe.<locals>.sync_wrapper\u001B[0;34m(*args, **kwargs)\u001B[0m\n\u001B[1;32m    344\u001B[0m is_return_type_generator \u001B[38;5;241m=\u001B[39m \u001B[38;5;28;01mFalse\u001B[39;00m\n\u001B[1;32m    346\u001B[0m \u001B[38;5;28;01mtry\u001B[39;00m:\n\u001B[0;32m--> 347\u001B[0m     result \u001B[38;5;241m=\u001B[39m \u001B[43mfunc\u001B[49m\u001B[43m(\u001B[49m\u001B[38;5;241;43m*\u001B[39;49m\u001B[43margs\u001B[49m\u001B[43m,\u001B[49m\u001B[43m \u001B[49m\u001B[38;5;241;43m*\u001B[39;49m\u001B[38;5;241;43m*\u001B[39;49m\u001B[43mkwargs\u001B[49m\u001B[43m)\u001B[49m\n\u001B[1;32m    349\u001B[0m     \u001B[38;5;28;01mif\u001B[39;00m capture_output \u001B[38;5;129;01mis\u001B[39;00m \u001B[38;5;28;01mTrue\u001B[39;00m:\n\u001B[1;32m    350\u001B[0m         \u001B[38;5;28;01mif\u001B[39;00m inspect\u001B[38;5;241m.\u001B[39misgenerator(result):\n",
      "Cell \u001B[0;32mIn[4], line 17\u001B[0m, in \u001B[0;36mgenerate_character_bio\u001B[0;34m(topic)\u001B[0m\n\u001B[1;32m     14\u001B[0m model \u001B[38;5;241m=\u001B[39m genai\u001B[38;5;241m.\u001B[39mGenerativeModel(\u001B[38;5;124m'\u001B[39m\u001B[38;5;124mgemini-2.5-flash\u001B[39m\u001B[38;5;124m'\u001B[39m)\n\u001B[1;32m     16\u001B[0m \u001B[38;5;66;03m# The Langfuse decorator automatically captures this call\u001B[39;00m\n\u001B[0;32m---> 17\u001B[0m response \u001B[38;5;241m=\u001B[39m \u001B[43mmodel\u001B[49m\u001B[38;5;241;43m.\u001B[39;49m\u001B[43mgenerate_content\u001B[49m\u001B[43m(\u001B[49m\n\u001B[1;32m     18\u001B[0m \u001B[43m    \u001B[49m\u001B[38;5;124;43mf\u001B[39;49m\u001B[38;5;124;43m\"\u001B[39;49m\u001B[38;5;124;43mCreate a short, compelling character biography for: \u001B[39;49m\u001B[38;5;132;43;01m{\u001B[39;49;00m\u001B[43mtopic\u001B[49m\u001B[38;5;132;43;01m}\u001B[39;49;00m\u001B[38;5;124;43m\"\u001B[39;49m\n\u001B[1;32m     19\u001B[0m \u001B[43m\u001B[49m\u001B[43m)\u001B[49m\n\u001B[1;32m     21\u001B[0m \u001B[38;5;28;01mreturn\u001B[39;00m response\u001B[38;5;241m.\u001B[39mtext\n",
      "File \u001B[0;32m~/agent-with-graphiti/.venv/lib/python3.12/site-packages/google/generativeai/generative_models.py:331\u001B[0m, in \u001B[0;36mGenerativeModel.generate_content\u001B[0;34m(self, contents, generation_config, safety_settings, stream, tools, tool_config, request_options)\u001B[0m\n\u001B[1;32m    329\u001B[0m         \u001B[38;5;28;01mreturn\u001B[39;00m generation_types\u001B[38;5;241m.\u001B[39mGenerateContentResponse\u001B[38;5;241m.\u001B[39mfrom_iterator(iterator)\n\u001B[1;32m    330\u001B[0m     \u001B[38;5;28;01melse\u001B[39;00m:\n\u001B[0;32m--> 331\u001B[0m         response \u001B[38;5;241m=\u001B[39m \u001B[38;5;28;43mself\u001B[39;49m\u001B[38;5;241;43m.\u001B[39;49m\u001B[43m_client\u001B[49m\u001B[38;5;241;43m.\u001B[39;49m\u001B[43mgenerate_content\u001B[49m\u001B[43m(\u001B[49m\n\u001B[1;32m    332\u001B[0m \u001B[43m            \u001B[49m\u001B[43mrequest\u001B[49m\u001B[43m,\u001B[49m\n\u001B[1;32m    333\u001B[0m \u001B[43m            \u001B[49m\u001B[38;5;241;43m*\u001B[39;49m\u001B[38;5;241;43m*\u001B[39;49m\u001B[43mrequest_options\u001B[49m\u001B[43m,\u001B[49m\n\u001B[1;32m    334\u001B[0m \u001B[43m        \u001B[49m\u001B[43m)\u001B[49m\n\u001B[1;32m    335\u001B[0m         \u001B[38;5;28;01mreturn\u001B[39;00m generation_types\u001B[38;5;241m.\u001B[39mGenerateContentResponse\u001B[38;5;241m.\u001B[39mfrom_response(response)\n\u001B[1;32m    336\u001B[0m \u001B[38;5;28;01mexcept\u001B[39;00m google\u001B[38;5;241m.\u001B[39mapi_core\u001B[38;5;241m.\u001B[39mexceptions\u001B[38;5;241m.\u001B[39mInvalidArgument \u001B[38;5;28;01mas\u001B[39;00m e:\n",
      "File \u001B[0;32m~/agent-with-graphiti/.venv/lib/python3.12/site-packages/google/ai/generativelanguage_v1beta/services/generative_service/client.py:835\u001B[0m, in \u001B[0;36mGenerativeServiceClient.generate_content\u001B[0;34m(self, request, model, contents, retry, timeout, metadata)\u001B[0m\n\u001B[1;32m    832\u001B[0m \u001B[38;5;28mself\u001B[39m\u001B[38;5;241m.\u001B[39m_validate_universe_domain()\n\u001B[1;32m    834\u001B[0m \u001B[38;5;66;03m# Send the request.\u001B[39;00m\n\u001B[0;32m--> 835\u001B[0m response \u001B[38;5;241m=\u001B[39m \u001B[43mrpc\u001B[49m\u001B[43m(\u001B[49m\n\u001B[1;32m    836\u001B[0m \u001B[43m    \u001B[49m\u001B[43mrequest\u001B[49m\u001B[43m,\u001B[49m\n\u001B[1;32m    837\u001B[0m \u001B[43m    \u001B[49m\u001B[43mretry\u001B[49m\u001B[38;5;241;43m=\u001B[39;49m\u001B[43mretry\u001B[49m\u001B[43m,\u001B[49m\n\u001B[1;32m    838\u001B[0m \u001B[43m    \u001B[49m\u001B[43mtimeout\u001B[49m\u001B[38;5;241;43m=\u001B[39;49m\u001B[43mtimeout\u001B[49m\u001B[43m,\u001B[49m\n\u001B[1;32m    839\u001B[0m \u001B[43m    \u001B[49m\u001B[43mmetadata\u001B[49m\u001B[38;5;241;43m=\u001B[39;49m\u001B[43mmetadata\u001B[49m\u001B[43m,\u001B[49m\n\u001B[1;32m    840\u001B[0m \u001B[43m\u001B[49m\u001B[43m)\u001B[49m\n\u001B[1;32m    842\u001B[0m \u001B[38;5;66;03m# Done; return the response.\u001B[39;00m\n\u001B[1;32m    843\u001B[0m \u001B[38;5;28;01mreturn\u001B[39;00m response\n",
      "File \u001B[0;32m~/agent-with-graphiti/.venv/lib/python3.12/site-packages/google/api_core/gapic_v1/method.py:131\u001B[0m, in \u001B[0;36m_GapicCallable.__call__\u001B[0;34m(self, timeout, retry, compression, *args, **kwargs)\u001B[0m\n\u001B[1;32m    128\u001B[0m \u001B[38;5;28;01mif\u001B[39;00m \u001B[38;5;28mself\u001B[39m\u001B[38;5;241m.\u001B[39m_compression \u001B[38;5;129;01mis\u001B[39;00m \u001B[38;5;129;01mnot\u001B[39;00m \u001B[38;5;28;01mNone\u001B[39;00m:\n\u001B[1;32m    129\u001B[0m     kwargs[\u001B[38;5;124m\"\u001B[39m\u001B[38;5;124mcompression\u001B[39m\u001B[38;5;124m\"\u001B[39m] \u001B[38;5;241m=\u001B[39m compression\n\u001B[0;32m--> 131\u001B[0m \u001B[38;5;28;01mreturn\u001B[39;00m \u001B[43mwrapped_func\u001B[49m\u001B[43m(\u001B[49m\u001B[38;5;241;43m*\u001B[39;49m\u001B[43margs\u001B[49m\u001B[43m,\u001B[49m\u001B[43m \u001B[49m\u001B[38;5;241;43m*\u001B[39;49m\u001B[38;5;241;43m*\u001B[39;49m\u001B[43mkwargs\u001B[49m\u001B[43m)\u001B[49m\n",
      "File \u001B[0;32m~/agent-with-graphiti/.venv/lib/python3.12/site-packages/google/api_core/retry/retry_unary.py:294\u001B[0m, in \u001B[0;36mRetry.__call__.<locals>.retry_wrapped_func\u001B[0;34m(*args, **kwargs)\u001B[0m\n\u001B[1;32m    290\u001B[0m target \u001B[38;5;241m=\u001B[39m functools\u001B[38;5;241m.\u001B[39mpartial(func, \u001B[38;5;241m*\u001B[39margs, \u001B[38;5;241m*\u001B[39m\u001B[38;5;241m*\u001B[39mkwargs)\n\u001B[1;32m    291\u001B[0m sleep_generator \u001B[38;5;241m=\u001B[39m exponential_sleep_generator(\n\u001B[1;32m    292\u001B[0m     \u001B[38;5;28mself\u001B[39m\u001B[38;5;241m.\u001B[39m_initial, \u001B[38;5;28mself\u001B[39m\u001B[38;5;241m.\u001B[39m_maximum, multiplier\u001B[38;5;241m=\u001B[39m\u001B[38;5;28mself\u001B[39m\u001B[38;5;241m.\u001B[39m_multiplier\n\u001B[1;32m    293\u001B[0m )\n\u001B[0;32m--> 294\u001B[0m \u001B[38;5;28;01mreturn\u001B[39;00m \u001B[43mretry_target\u001B[49m\u001B[43m(\u001B[49m\n\u001B[1;32m    295\u001B[0m \u001B[43m    \u001B[49m\u001B[43mtarget\u001B[49m\u001B[43m,\u001B[49m\n\u001B[1;32m    296\u001B[0m \u001B[43m    \u001B[49m\u001B[38;5;28;43mself\u001B[39;49m\u001B[38;5;241;43m.\u001B[39;49m\u001B[43m_predicate\u001B[49m\u001B[43m,\u001B[49m\n\u001B[1;32m    297\u001B[0m \u001B[43m    \u001B[49m\u001B[43msleep_generator\u001B[49m\u001B[43m,\u001B[49m\n\u001B[1;32m    298\u001B[0m \u001B[43m    \u001B[49m\u001B[43mtimeout\u001B[49m\u001B[38;5;241;43m=\u001B[39;49m\u001B[38;5;28;43mself\u001B[39;49m\u001B[38;5;241;43m.\u001B[39;49m\u001B[43m_timeout\u001B[49m\u001B[43m,\u001B[49m\n\u001B[1;32m    299\u001B[0m \u001B[43m    \u001B[49m\u001B[43mon_error\u001B[49m\u001B[38;5;241;43m=\u001B[39;49m\u001B[43mon_error\u001B[49m\u001B[43m,\u001B[49m\n\u001B[1;32m    300\u001B[0m \u001B[43m\u001B[49m\u001B[43m)\u001B[49m\n",
      "File \u001B[0;32m~/agent-with-graphiti/.venv/lib/python3.12/site-packages/google/api_core/retry/retry_unary.py:156\u001B[0m, in \u001B[0;36mretry_target\u001B[0;34m(target, predicate, sleep_generator, timeout, on_error, exception_factory, **kwargs)\u001B[0m\n\u001B[1;32m    152\u001B[0m \u001B[38;5;66;03m# pylint: disable=broad-except\u001B[39;00m\n\u001B[1;32m    153\u001B[0m \u001B[38;5;66;03m# This function explicitly must deal with broad exceptions.\u001B[39;00m\n\u001B[1;32m    154\u001B[0m \u001B[38;5;28;01mexcept\u001B[39;00m \u001B[38;5;167;01mException\u001B[39;00m \u001B[38;5;28;01mas\u001B[39;00m exc:\n\u001B[1;32m    155\u001B[0m     \u001B[38;5;66;03m# defer to shared logic for handling errors\u001B[39;00m\n\u001B[0;32m--> 156\u001B[0m     next_sleep \u001B[38;5;241m=\u001B[39m \u001B[43m_retry_error_helper\u001B[49m\u001B[43m(\u001B[49m\n\u001B[1;32m    157\u001B[0m \u001B[43m        \u001B[49m\u001B[43mexc\u001B[49m\u001B[43m,\u001B[49m\n\u001B[1;32m    158\u001B[0m \u001B[43m        \u001B[49m\u001B[43mdeadline\u001B[49m\u001B[43m,\u001B[49m\n\u001B[1;32m    159\u001B[0m \u001B[43m        \u001B[49m\u001B[43msleep_iter\u001B[49m\u001B[43m,\u001B[49m\n\u001B[1;32m    160\u001B[0m \u001B[43m        \u001B[49m\u001B[43merror_list\u001B[49m\u001B[43m,\u001B[49m\n\u001B[1;32m    161\u001B[0m \u001B[43m        \u001B[49m\u001B[43mpredicate\u001B[49m\u001B[43m,\u001B[49m\n\u001B[1;32m    162\u001B[0m \u001B[43m        \u001B[49m\u001B[43mon_error\u001B[49m\u001B[43m,\u001B[49m\n\u001B[1;32m    163\u001B[0m \u001B[43m        \u001B[49m\u001B[43mexception_factory\u001B[49m\u001B[43m,\u001B[49m\n\u001B[1;32m    164\u001B[0m \u001B[43m        \u001B[49m\u001B[43mtimeout\u001B[49m\u001B[43m,\u001B[49m\n\u001B[1;32m    165\u001B[0m \u001B[43m    \u001B[49m\u001B[43m)\u001B[49m\n\u001B[1;32m    166\u001B[0m     \u001B[38;5;66;03m# if exception not raised, sleep before next attempt\u001B[39;00m\n\u001B[1;32m    167\u001B[0m     time\u001B[38;5;241m.\u001B[39msleep(next_sleep)\n",
      "File \u001B[0;32m~/agent-with-graphiti/.venv/lib/python3.12/site-packages/google/api_core/retry/retry_base.py:214\u001B[0m, in \u001B[0;36m_retry_error_helper\u001B[0;34m(exc, deadline, sleep_iterator, error_list, predicate_fn, on_error_fn, exc_factory_fn, original_timeout)\u001B[0m\n\u001B[1;32m    208\u001B[0m \u001B[38;5;28;01mif\u001B[39;00m \u001B[38;5;129;01mnot\u001B[39;00m predicate_fn(exc):\n\u001B[1;32m    209\u001B[0m     final_exc, source_exc \u001B[38;5;241m=\u001B[39m exc_factory_fn(\n\u001B[1;32m    210\u001B[0m         error_list,\n\u001B[1;32m    211\u001B[0m         RetryFailureReason\u001B[38;5;241m.\u001B[39mNON_RETRYABLE_ERROR,\n\u001B[1;32m    212\u001B[0m         original_timeout,\n\u001B[1;32m    213\u001B[0m     )\n\u001B[0;32m--> 214\u001B[0m     \u001B[38;5;28;01mraise\u001B[39;00m final_exc \u001B[38;5;28;01mfrom\u001B[39;00m\u001B[38;5;250m \u001B[39m\u001B[38;5;21;01msource_exc\u001B[39;00m\n\u001B[1;32m    215\u001B[0m \u001B[38;5;28;01mif\u001B[39;00m on_error_fn \u001B[38;5;129;01mis\u001B[39;00m \u001B[38;5;129;01mnot\u001B[39;00m \u001B[38;5;28;01mNone\u001B[39;00m:\n\u001B[1;32m    216\u001B[0m     on_error_fn(exc)\n",
      "File \u001B[0;32m~/agent-with-graphiti/.venv/lib/python3.12/site-packages/google/api_core/retry/retry_unary.py:147\u001B[0m, in \u001B[0;36mretry_target\u001B[0;34m(target, predicate, sleep_generator, timeout, on_error, exception_factory, **kwargs)\u001B[0m\n\u001B[1;32m    145\u001B[0m \u001B[38;5;28;01mwhile\u001B[39;00m \u001B[38;5;28;01mTrue\u001B[39;00m:\n\u001B[1;32m    146\u001B[0m     \u001B[38;5;28;01mtry\u001B[39;00m:\n\u001B[0;32m--> 147\u001B[0m         result \u001B[38;5;241m=\u001B[39m \u001B[43mtarget\u001B[49m\u001B[43m(\u001B[49m\u001B[43m)\u001B[49m\n\u001B[1;32m    148\u001B[0m         \u001B[38;5;28;01mif\u001B[39;00m inspect\u001B[38;5;241m.\u001B[39misawaitable(result):\n\u001B[1;32m    149\u001B[0m             warnings\u001B[38;5;241m.\u001B[39mwarn(_ASYNC_RETRY_WARNING)\n",
      "File \u001B[0;32m~/agent-with-graphiti/.venv/lib/python3.12/site-packages/google/api_core/timeout.py:130\u001B[0m, in \u001B[0;36mTimeToDeadlineTimeout.__call__.<locals>.func_with_timeout\u001B[0;34m(*args, **kwargs)\u001B[0m\n\u001B[1;32m    126\u001B[0m         remaining_timeout \u001B[38;5;241m=\u001B[39m \u001B[38;5;28mself\u001B[39m\u001B[38;5;241m.\u001B[39m_timeout\n\u001B[1;32m    128\u001B[0m     kwargs[\u001B[38;5;124m\"\u001B[39m\u001B[38;5;124mtimeout\u001B[39m\u001B[38;5;124m\"\u001B[39m] \u001B[38;5;241m=\u001B[39m remaining_timeout\n\u001B[0;32m--> 130\u001B[0m \u001B[38;5;28;01mreturn\u001B[39;00m \u001B[43mfunc\u001B[49m\u001B[43m(\u001B[49m\u001B[38;5;241;43m*\u001B[39;49m\u001B[43margs\u001B[49m\u001B[43m,\u001B[49m\u001B[43m \u001B[49m\u001B[38;5;241;43m*\u001B[39;49m\u001B[38;5;241;43m*\u001B[39;49m\u001B[43mkwargs\u001B[49m\u001B[43m)\u001B[49m\n",
      "File \u001B[0;32m~/agent-with-graphiti/.venv/lib/python3.12/site-packages/google/api_core/grpc_helpers.py:78\u001B[0m, in \u001B[0;36m_wrap_unary_errors.<locals>.error_remapped_callable\u001B[0;34m(*args, **kwargs)\u001B[0m\n\u001B[1;32m     76\u001B[0m     \u001B[38;5;28;01mreturn\u001B[39;00m callable_(\u001B[38;5;241m*\u001B[39margs, \u001B[38;5;241m*\u001B[39m\u001B[38;5;241m*\u001B[39mkwargs)\n\u001B[1;32m     77\u001B[0m \u001B[38;5;28;01mexcept\u001B[39;00m grpc\u001B[38;5;241m.\u001B[39mRpcError \u001B[38;5;28;01mas\u001B[39;00m exc:\n\u001B[0;32m---> 78\u001B[0m     \u001B[38;5;28;01mraise\u001B[39;00m exceptions\u001B[38;5;241m.\u001B[39mfrom_grpc_error(exc) \u001B[38;5;28;01mfrom\u001B[39;00m\u001B[38;5;250m \u001B[39m\u001B[38;5;21;01mexc\u001B[39;00m\n",
      "\u001B[0;31mInvalidArgument\u001B[0m: 400 API key not valid. Please pass a valid API key. [reason: \"API_KEY_INVALID\"\ndomain: \"googleapis.com\"\nmetadata {\n  key: \"service\"\n  value: \"generativelanguage.googleapis.com\"\n}\n, locale: \"en-US\"\nmessage: \"API key not valid. Please pass a valid API key.\"\n]"
     ]
    }
   ],
   "execution_count": 4
  }
 ],
 "metadata": {
  "kernelspec": {
   "display_name": "Python 3",
   "language": "python",
   "name": "python3"
  },
  "language_info": {
   "codemirror_mode": {
    "name": "ipython",
    "version": 2
   },
   "file_extension": ".py",
   "mimetype": "text/x-python",
   "name": "python",
   "nbconvert_exporter": "python",
   "pygments_lexer": "ipython2",
   "version": "2.7.6"
  }
 },
 "nbformat": 4,
 "nbformat_minor": 5
}
