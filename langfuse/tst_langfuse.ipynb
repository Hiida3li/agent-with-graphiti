{
 "cells": [
  {
   "metadata": {},
   "cell_type": "code",
   "outputs": [],
   "execution_count": null,
   "source": "!pip install langfuse openai",
   "id": "c8959225de1d3895"
  },
  {
   "metadata": {
    "collapsed": true
   },
   "cell_type": "code",
   "outputs": [],
   "execution_count": null,
   "source": [
    "import os\n",
    "from langfuse import observe\n",
    "from openai import OpenAI\n",
    "\n",
    "# Set your Langfuse and OpenAI API keys\n",
    "os.environ[\"LANGFUSE_PUBLIC_KEY\"] = \"YOUR_LANGFUSE_PUBLIC_KEY\"\n",
    "os.environ[\"LANGFUSE_SECRET_KEY\"] = \"YOUR_LANGFUSE_SECRET_KEY\"\n",
    "os.environ[\"OPENAI_API_KEY\"] = \"YOUR_OPENAI_API_KEY\"\n",
    "\n",
    "# Initialize the OpenAI client\n",
    "client = OpenAI()\n",
    "\n",
    "@observe\n",
    "def generate_story(topic):\n",
    "  \"\"\"Generates a short story based on a given topic.\"\"\"\n",
    "  return client.chat.completions.create(\n",
    "      model=\"gpt-3.5-turbo\",\n",
    "      messages=[\n",
    "          {\"role\": \"system\", \"content\": \"You are a helpful assistant that writes engaging short stories.\"},\n",
    "          {\"role\": \"user\", \"content\": f\"Write a short story about: {topic}\"}\n",
    "      ]\n",
    "  ).choices[0].message.content\n",
    "\n",
    "# Run the function\n",
    "if __name__ == \"__main__\":\n",
    "  story_topic = \"a robot who discovers music\"\n",
    "  generated_story = generate_story(story_topic)\n",
    "  print(generated_story)"
   ],
   "id": "initial_id"
  }
 ],
 "metadata": {
  "kernelspec": {
   "display_name": "Python 3",
   "language": "python",
   "name": "python3"
  },
  "language_info": {
   "codemirror_mode": {
    "name": "ipython",
    "version": 2
   },
   "file_extension": ".py",
   "mimetype": "text/x-python",
   "name": "python",
   "nbconvert_exporter": "python",
   "pygments_lexer": "ipython2",
   "version": "2.7.6"
  }
 },
 "nbformat": 4,
 "nbformat_minor": 5
}
