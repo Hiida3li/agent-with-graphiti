{
 "cells": [
  {
   "metadata": {
    "ExecuteTime": {
     "end_time": "2025-07-05T10:06:08.825003Z",
     "start_time": "2025-07-05T10:06:07.763981Z"
    }
   },
   "cell_type": "code",
   "source": "!pip install langfuse google-generativeai",
   "id": "c8959225de1d3895",
   "outputs": [
    {
     "name": "stdout",
     "output_type": "stream",
     "text": [
      "Requirement already satisfied: langfuse in /Users/mahmoud/agent-with-graphiti/.venv/lib/python3.12/site-packages (3.1.2)\r\n",
      "Requirement already satisfied: google-generativeai in /Users/mahmoud/agent-with-graphiti/.venv/lib/python3.12/site-packages (0.8.5)\r\n",
      "Requirement already satisfied: backoff>=1.10.0 in /Users/mahmoud/agent-with-graphiti/.venv/lib/python3.12/site-packages (from langfuse) (2.2.1)\r\n",
      "Requirement already satisfied: httpx<1.0,>=0.15.4 in /Users/mahmoud/agent-with-graphiti/.venv/lib/python3.12/site-packages (from langfuse) (0.28.1)\r\n",
      "Requirement already satisfied: opentelemetry-api<2.0.0,>=1.33.1 in /Users/mahmoud/agent-with-graphiti/.venv/lib/python3.12/site-packages (from langfuse) (1.34.1)\r\n",
      "Requirement already satisfied: opentelemetry-exporter-otlp<2.0.0,>=1.33.1 in /Users/mahmoud/agent-with-graphiti/.venv/lib/python3.12/site-packages (from langfuse) (1.34.1)\r\n",
      "Requirement already satisfied: opentelemetry-sdk<2.0.0,>=1.33.1 in /Users/mahmoud/agent-with-graphiti/.venv/lib/python3.12/site-packages (from langfuse) (1.34.1)\r\n",
      "Requirement already satisfied: packaging<25.0,>=23.2 in /Users/mahmoud/agent-with-graphiti/.venv/lib/python3.12/site-packages (from langfuse) (24.2)\r\n",
      "Requirement already satisfied: pydantic<3.0,>=1.10.7 in /Users/mahmoud/agent-with-graphiti/.venv/lib/python3.12/site-packages (from langfuse) (2.11.7)\r\n",
      "Requirement already satisfied: requests<3,>=2 in /Users/mahmoud/agent-with-graphiti/.venv/lib/python3.12/site-packages (from langfuse) (2.32.4)\r\n",
      "Requirement already satisfied: wrapt<2.0,>=1.14 in /Users/mahmoud/agent-with-graphiti/.venv/lib/python3.12/site-packages (from langfuse) (1.17.2)\r\n",
      "Requirement already satisfied: google-ai-generativelanguage==0.6.15 in /Users/mahmoud/agent-with-graphiti/.venv/lib/python3.12/site-packages (from google-generativeai) (0.6.15)\r\n",
      "Requirement already satisfied: google-api-core in /Users/mahmoud/agent-with-graphiti/.venv/lib/python3.12/site-packages (from google-generativeai) (2.25.1)\r\n",
      "Requirement already satisfied: google-api-python-client in /Users/mahmoud/agent-with-graphiti/.venv/lib/python3.12/site-packages (from google-generativeai) (2.174.0)\r\n",
      "Requirement already satisfied: google-auth>=2.15.0 in /Users/mahmoud/agent-with-graphiti/.venv/lib/python3.12/site-packages (from google-generativeai) (2.40.3)\r\n",
      "Requirement already satisfied: protobuf in /Users/mahmoud/agent-with-graphiti/.venv/lib/python3.12/site-packages (from google-generativeai) (5.29.5)\r\n",
      "Requirement already satisfied: tqdm in /Users/mahmoud/agent-with-graphiti/.venv/lib/python3.12/site-packages (from google-generativeai) (4.67.1)\r\n",
      "Requirement already satisfied: typing-extensions in /Users/mahmoud/agent-with-graphiti/.venv/lib/python3.12/site-packages (from google-generativeai) (4.14.0)\r\n",
      "Requirement already satisfied: proto-plus<2.0.0dev,>=1.22.3 in /Users/mahmoud/agent-with-graphiti/.venv/lib/python3.12/site-packages (from google-ai-generativelanguage==0.6.15->google-generativeai) (1.26.1)\r\n",
      "Requirement already satisfied: cachetools<6.0,>=2.0.0 in /Users/mahmoud/agent-with-graphiti/.venv/lib/python3.12/site-packages (from google-auth>=2.15.0->google-generativeai) (5.5.2)\r\n",
      "Requirement already satisfied: pyasn1-modules>=0.2.1 in /Users/mahmoud/agent-with-graphiti/.venv/lib/python3.12/site-packages (from google-auth>=2.15.0->google-generativeai) (0.4.2)\r\n",
      "Requirement already satisfied: rsa<5,>=3.1.4 in /Users/mahmoud/agent-with-graphiti/.venv/lib/python3.12/site-packages (from google-auth>=2.15.0->google-generativeai) (4.9.1)\r\n",
      "Requirement already satisfied: anyio in /Users/mahmoud/agent-with-graphiti/.venv/lib/python3.12/site-packages (from httpx<1.0,>=0.15.4->langfuse) (4.9.0)\r\n",
      "Requirement already satisfied: certifi in /Users/mahmoud/agent-with-graphiti/.venv/lib/python3.12/site-packages (from httpx<1.0,>=0.15.4->langfuse) (2025.6.15)\r\n",
      "Requirement already satisfied: httpcore==1.* in /Users/mahmoud/agent-with-graphiti/.venv/lib/python3.12/site-packages (from httpx<1.0,>=0.15.4->langfuse) (1.0.9)\r\n",
      "Requirement already satisfied: idna in /Users/mahmoud/agent-with-graphiti/.venv/lib/python3.12/site-packages (from httpx<1.0,>=0.15.4->langfuse) (3.10)\r\n",
      "Requirement already satisfied: h11>=0.16 in /Users/mahmoud/agent-with-graphiti/.venv/lib/python3.12/site-packages (from httpcore==1.*->httpx<1.0,>=0.15.4->langfuse) (0.16.0)\r\n",
      "Requirement already satisfied: importlib-metadata<8.8.0,>=6.0 in /Users/mahmoud/agent-with-graphiti/.venv/lib/python3.12/site-packages (from opentelemetry-api<2.0.0,>=1.33.1->langfuse) (8.7.0)\r\n",
      "Requirement already satisfied: opentelemetry-exporter-otlp-proto-grpc==1.34.1 in /Users/mahmoud/agent-with-graphiti/.venv/lib/python3.12/site-packages (from opentelemetry-exporter-otlp<2.0.0,>=1.33.1->langfuse) (1.34.1)\r\n",
      "Requirement already satisfied: opentelemetry-exporter-otlp-proto-http==1.34.1 in /Users/mahmoud/agent-with-graphiti/.venv/lib/python3.12/site-packages (from opentelemetry-exporter-otlp<2.0.0,>=1.33.1->langfuse) (1.34.1)\r\n",
      "Requirement already satisfied: googleapis-common-protos~=1.52 in /Users/mahmoud/agent-with-graphiti/.venv/lib/python3.12/site-packages (from opentelemetry-exporter-otlp-proto-grpc==1.34.1->opentelemetry-exporter-otlp<2.0.0,>=1.33.1->langfuse) (1.70.0)\r\n",
      "Requirement already satisfied: grpcio<2.0.0,>=1.63.2 in /Users/mahmoud/agent-with-graphiti/.venv/lib/python3.12/site-packages (from opentelemetry-exporter-otlp-proto-grpc==1.34.1->opentelemetry-exporter-otlp<2.0.0,>=1.33.1->langfuse) (1.73.1)\r\n",
      "Requirement already satisfied: opentelemetry-exporter-otlp-proto-common==1.34.1 in /Users/mahmoud/agent-with-graphiti/.venv/lib/python3.12/site-packages (from opentelemetry-exporter-otlp-proto-grpc==1.34.1->opentelemetry-exporter-otlp<2.0.0,>=1.33.1->langfuse) (1.34.1)\r\n",
      "Requirement already satisfied: opentelemetry-proto==1.34.1 in /Users/mahmoud/agent-with-graphiti/.venv/lib/python3.12/site-packages (from opentelemetry-exporter-otlp-proto-grpc==1.34.1->opentelemetry-exporter-otlp<2.0.0,>=1.33.1->langfuse) (1.34.1)\r\n",
      "Requirement already satisfied: opentelemetry-semantic-conventions==0.55b1 in /Users/mahmoud/agent-with-graphiti/.venv/lib/python3.12/site-packages (from opentelemetry-sdk<2.0.0,>=1.33.1->langfuse) (0.55b1)\r\n",
      "Requirement already satisfied: annotated-types>=0.6.0 in /Users/mahmoud/agent-with-graphiti/.venv/lib/python3.12/site-packages (from pydantic<3.0,>=1.10.7->langfuse) (0.7.0)\r\n",
      "Requirement already satisfied: pydantic-core==2.33.2 in /Users/mahmoud/agent-with-graphiti/.venv/lib/python3.12/site-packages (from pydantic<3.0,>=1.10.7->langfuse) (2.33.2)\r\n",
      "Requirement already satisfied: typing-inspection>=0.4.0 in /Users/mahmoud/agent-with-graphiti/.venv/lib/python3.12/site-packages (from pydantic<3.0,>=1.10.7->langfuse) (0.4.1)\r\n",
      "Requirement already satisfied: charset_normalizer<4,>=2 in /Users/mahmoud/agent-with-graphiti/.venv/lib/python3.12/site-packages (from requests<3,>=2->langfuse) (3.4.2)\r\n",
      "Requirement already satisfied: urllib3<3,>=1.21.1 in /Users/mahmoud/agent-with-graphiti/.venv/lib/python3.12/site-packages (from requests<3,>=2->langfuse) (2.5.0)\r\n",
      "Requirement already satisfied: httplib2<1.0.0,>=0.19.0 in /Users/mahmoud/agent-with-graphiti/.venv/lib/python3.12/site-packages (from google-api-python-client->google-generativeai) (0.22.0)\r\n",
      "Requirement already satisfied: google-auth-httplib2<1.0.0,>=0.2.0 in /Users/mahmoud/agent-with-graphiti/.venv/lib/python3.12/site-packages (from google-api-python-client->google-generativeai) (0.2.0)\r\n",
      "Requirement already satisfied: uritemplate<5,>=3.0.1 in /Users/mahmoud/agent-with-graphiti/.venv/lib/python3.12/site-packages (from google-api-python-client->google-generativeai) (4.2.0)\r\n",
      "Requirement already satisfied: grpcio-status<2.0.0,>=1.33.2 in /Users/mahmoud/agent-with-graphiti/.venv/lib/python3.12/site-packages (from google-api-core->google-generativeai) (1.71.2)\r\n",
      "Requirement already satisfied: pyparsing!=3.0.0,!=3.0.1,!=3.0.2,!=3.0.3,<4,>=2.4.2 in /Users/mahmoud/agent-with-graphiti/.venv/lib/python3.12/site-packages (from httplib2<1.0.0,>=0.19.0->google-api-python-client->google-generativeai) (3.2.3)\r\n",
      "Requirement already satisfied: zipp>=3.20 in /Users/mahmoud/agent-with-graphiti/.venv/lib/python3.12/site-packages (from importlib-metadata<8.8.0,>=6.0->opentelemetry-api<2.0.0,>=1.33.1->langfuse) (3.23.0)\r\n",
      "Requirement already satisfied: pyasn1<0.7.0,>=0.6.1 in /Users/mahmoud/agent-with-graphiti/.venv/lib/python3.12/site-packages (from pyasn1-modules>=0.2.1->google-auth>=2.15.0->google-generativeai) (0.6.1)\r\n",
      "Requirement already satisfied: sniffio>=1.1 in /Users/mahmoud/agent-with-graphiti/.venv/lib/python3.12/site-packages (from anyio->httpx<1.0,>=0.15.4->langfuse) (1.3.1)\r\n",
      "\r\n",
      "\u001B[1m[\u001B[0m\u001B[34;49mnotice\u001B[0m\u001B[1;39;49m]\u001B[0m\u001B[39;49m A new release of pip is available: \u001B[0m\u001B[31;49m23.2.1\u001B[0m\u001B[39;49m -> \u001B[0m\u001B[32;49m25.1.1\u001B[0m\r\n",
      "\u001B[1m[\u001B[0m\u001B[34;49mnotice\u001B[0m\u001B[1;39;49m]\u001B[0m\u001B[39;49m To update, run: \u001B[0m\u001B[32;49mpip install --upgrade pip\u001B[0m\r\n"
     ]
    }
   ],
   "execution_count": 2
  },
  {
   "metadata": {
    "collapsed": true
   },
   "cell_type": "code",
   "outputs": [],
   "execution_count": null,
   "source": [
    "import os\n",
    "import google.generativeai as genai\n",
    "from langfuse import observe\n",
    "\n",
    "os.environ[\"LANGFUSE_PUBLIC_KEY\"] = \"LANGFUSE_PUBLIC_KEY\"\n",
    "os.environ[\"LANGFUSE_SECRET_KEY\"] = \"LANGFUSE_SECRET_KEY\"\n",
    "os.environ[\"GOOGLE_API_KEY\"] = \"GOOGLE_API_KEY\"\n",
    "\n",
    "\n",
    "# 2. Configure the Gemini client\n",
    "genai.configure(api_key=os.environ[\"GOOGLE_API_KEY\"])\n",
    "\n",
    "@observe\n",
    "def generate_character_bio(topic):\n",
    "  \"\"\"Generates a character biography using Gemini.\"\"\"\n",
    "  model = genai.GenerativeModel('gemini-1.5-flash') # Or another Gemini model\n",
    "\n",
    "  # 3. The Langfuse decorator automatically captures this call\n",
    "  response = model.generate_content(\n",
    "      f\"Create a short, compelling character biography for: {topic}\"\n",
    "  )\n",
    "\n",
    "  return response.text\n",
    "\n",
    "# 4. Run the function\n",
    "if __name__ == \"__main__\":\n",
    "  character_topic = \"a reclusive lighthouse keeper who finds a mysterious map\"\n",
    "  bio = generate_character_bio(character_topic)\n",
    "  print(bio)"
   ],
   "id": "initial_id"
  }
 ],
 "metadata": {
  "kernelspec": {
   "display_name": "Python 3",
   "language": "python",
   "name": "python3"
  },
  "language_info": {
   "codemirror_mode": {
    "name": "ipython",
    "version": 2
   },
   "file_extension": ".py",
   "mimetype": "text/x-python",
   "name": "python",
   "nbconvert_exporter": "python",
   "pygments_lexer": "ipython2",
   "version": "2.7.6"
  }
 },
 "nbformat": 4,
 "nbformat_minor": 5
}
