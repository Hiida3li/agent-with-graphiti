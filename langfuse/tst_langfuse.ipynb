{
 "cells": [
  {
   "cell_type": "code",
   "execution_count": 2,
   "id": "c8959225de1d3895",
   "metadata": {
    "ExecuteTime": {
     "end_time": "2025-07-05T10:06:08.825003Z",
     "start_time": "2025-07-05T10:06:07.763981Z"
    }
   },
   "outputs": [
    {
     "name": "stdout",
     "output_type": "stream",
     "text": [
      "Requirement already satisfied: langfuse in /Users/mahmoud/agent-with-graphiti/.venv/lib/python3.12/site-packages (3.1.2)\r\n",
      "Requirement already satisfied: google-generativeai in /Users/mahmoud/agent-with-graphiti/.venv/lib/python3.12/site-packages (0.8.5)\r\n",
      "Requirement already satisfied: backoff>=1.10.0 in /Users/mahmoud/agent-with-graphiti/.venv/lib/python3.12/site-packages (from langfuse) (2.2.1)\r\n",
      "Requirement already satisfied: httpx<1.0,>=0.15.4 in /Users/mahmoud/agent-with-graphiti/.venv/lib/python3.12/site-packages (from langfuse) (0.28.1)\r\n",
      "Requirement already satisfied: opentelemetry-api<2.0.0,>=1.33.1 in /Users/mahmoud/agent-with-graphiti/.venv/lib/python3.12/site-packages (from langfuse) (1.34.1)\r\n",
      "Requirement already satisfied: opentelemetry-exporter-otlp<2.0.0,>=1.33.1 in /Users/mahmoud/agent-with-graphiti/.venv/lib/python3.12/site-packages (from langfuse) (1.34.1)\r\n",
      "Requirement already satisfied: opentelemetry-sdk<2.0.0,>=1.33.1 in /Users/mahmoud/agent-with-graphiti/.venv/lib/python3.12/site-packages (from langfuse) (1.34.1)\r\n",
      "Requirement already satisfied: packaging<25.0,>=23.2 in /Users/mahmoud/agent-with-graphiti/.venv/lib/python3.12/site-packages (from langfuse) (24.2)\r\n",
      "Requirement already satisfied: pydantic<3.0,>=1.10.7 in /Users/mahmoud/agent-with-graphiti/.venv/lib/python3.12/site-packages (from langfuse) (2.11.7)\r\n",
      "Requirement already satisfied: requests<3,>=2 in /Users/mahmoud/agent-with-graphiti/.venv/lib/python3.12/site-packages (from langfuse) (2.32.4)\r\n",
      "Requirement already satisfied: wrapt<2.0,>=1.14 in /Users/mahmoud/agent-with-graphiti/.venv/lib/python3.12/site-packages (from langfuse) (1.17.2)\r\n",
      "Requirement already satisfied: google-ai-generativelanguage==0.6.15 in /Users/mahmoud/agent-with-graphiti/.venv/lib/python3.12/site-packages (from google-generativeai) (0.6.15)\r\n",
      "Requirement already satisfied: google-api-core in /Users/mahmoud/agent-with-graphiti/.venv/lib/python3.12/site-packages (from google-generativeai) (2.25.1)\r\n",
      "Requirement already satisfied: google-api-python-client in /Users/mahmoud/agent-with-graphiti/.venv/lib/python3.12/site-packages (from google-generativeai) (2.174.0)\r\n",
      "Requirement already satisfied: google-auth>=2.15.0 in /Users/mahmoud/agent-with-graphiti/.venv/lib/python3.12/site-packages (from google-generativeai) (2.40.3)\r\n",
      "Requirement already satisfied: protobuf in /Users/mahmoud/agent-with-graphiti/.venv/lib/python3.12/site-packages (from google-generativeai) (5.29.5)\r\n",
      "Requirement already satisfied: tqdm in /Users/mahmoud/agent-with-graphiti/.venv/lib/python3.12/site-packages (from google-generativeai) (4.67.1)\r\n",
      "Requirement already satisfied: typing-extensions in /Users/mahmoud/agent-with-graphiti/.venv/lib/python3.12/site-packages (from google-generativeai) (4.14.0)\r\n",
      "Requirement already satisfied: proto-plus<2.0.0dev,>=1.22.3 in /Users/mahmoud/agent-with-graphiti/.venv/lib/python3.12/site-packages (from google-ai-generativelanguage==0.6.15->google-generativeai) (1.26.1)\r\n",
      "Requirement already satisfied: cachetools<6.0,>=2.0.0 in /Users/mahmoud/agent-with-graphiti/.venv/lib/python3.12/site-packages (from google-auth>=2.15.0->google-generativeai) (5.5.2)\r\n",
      "Requirement already satisfied: pyasn1-modules>=0.2.1 in /Users/mahmoud/agent-with-graphiti/.venv/lib/python3.12/site-packages (from google-auth>=2.15.0->google-generativeai) (0.4.2)\r\n",
      "Requirement already satisfied: rsa<5,>=3.1.4 in /Users/mahmoud/agent-with-graphiti/.venv/lib/python3.12/site-packages (from google-auth>=2.15.0->google-generativeai) (4.9.1)\r\n",
      "Requirement already satisfied: anyio in /Users/mahmoud/agent-with-graphiti/.venv/lib/python3.12/site-packages (from httpx<1.0,>=0.15.4->langfuse) (4.9.0)\r\n",
      "Requirement already satisfied: certifi in /Users/mahmoud/agent-with-graphiti/.venv/lib/python3.12/site-packages (from httpx<1.0,>=0.15.4->langfuse) (2025.6.15)\r\n",
      "Requirement already satisfied: httpcore==1.* in /Users/mahmoud/agent-with-graphiti/.venv/lib/python3.12/site-packages (from httpx<1.0,>=0.15.4->langfuse) (1.0.9)\r\n",
      "Requirement already satisfied: idna in /Users/mahmoud/agent-with-graphiti/.venv/lib/python3.12/site-packages (from httpx<1.0,>=0.15.4->langfuse) (3.10)\r\n",
      "Requirement already satisfied: h11>=0.16 in /Users/mahmoud/agent-with-graphiti/.venv/lib/python3.12/site-packages (from httpcore==1.*->httpx<1.0,>=0.15.4->langfuse) (0.16.0)\r\n",
      "Requirement already satisfied: importlib-metadata<8.8.0,>=6.0 in /Users/mahmoud/agent-with-graphiti/.venv/lib/python3.12/site-packages (from opentelemetry-api<2.0.0,>=1.33.1->langfuse) (8.7.0)\r\n",
      "Requirement already satisfied: opentelemetry-exporter-otlp-proto-grpc==1.34.1 in /Users/mahmoud/agent-with-graphiti/.venv/lib/python3.12/site-packages (from opentelemetry-exporter-otlp<2.0.0,>=1.33.1->langfuse) (1.34.1)\r\n",
      "Requirement already satisfied: opentelemetry-exporter-otlp-proto-http==1.34.1 in /Users/mahmoud/agent-with-graphiti/.venv/lib/python3.12/site-packages (from opentelemetry-exporter-otlp<2.0.0,>=1.33.1->langfuse) (1.34.1)\r\n",
      "Requirement already satisfied: googleapis-common-protos~=1.52 in /Users/mahmoud/agent-with-graphiti/.venv/lib/python3.12/site-packages (from opentelemetry-exporter-otlp-proto-grpc==1.34.1->opentelemetry-exporter-otlp<2.0.0,>=1.33.1->langfuse) (1.70.0)\r\n",
      "Requirement already satisfied: grpcio<2.0.0,>=1.63.2 in /Users/mahmoud/agent-with-graphiti/.venv/lib/python3.12/site-packages (from opentelemetry-exporter-otlp-proto-grpc==1.34.1->opentelemetry-exporter-otlp<2.0.0,>=1.33.1->langfuse) (1.73.1)\r\n",
      "Requirement already satisfied: opentelemetry-exporter-otlp-proto-common==1.34.1 in /Users/mahmoud/agent-with-graphiti/.venv/lib/python3.12/site-packages (from opentelemetry-exporter-otlp-proto-grpc==1.34.1->opentelemetry-exporter-otlp<2.0.0,>=1.33.1->langfuse) (1.34.1)\r\n",
      "Requirement already satisfied: opentelemetry-proto==1.34.1 in /Users/mahmoud/agent-with-graphiti/.venv/lib/python3.12/site-packages (from opentelemetry-exporter-otlp-proto-grpc==1.34.1->opentelemetry-exporter-otlp<2.0.0,>=1.33.1->langfuse) (1.34.1)\r\n",
      "Requirement already satisfied: opentelemetry-semantic-conventions==0.55b1 in /Users/mahmoud/agent-with-graphiti/.venv/lib/python3.12/site-packages (from opentelemetry-sdk<2.0.0,>=1.33.1->langfuse) (0.55b1)\r\n",
      "Requirement already satisfied: annotated-types>=0.6.0 in /Users/mahmoud/agent-with-graphiti/.venv/lib/python3.12/site-packages (from pydantic<3.0,>=1.10.7->langfuse) (0.7.0)\r\n",
      "Requirement already satisfied: pydantic-core==2.33.2 in /Users/mahmoud/agent-with-graphiti/.venv/lib/python3.12/site-packages (from pydantic<3.0,>=1.10.7->langfuse) (2.33.2)\r\n",
      "Requirement already satisfied: typing-inspection>=0.4.0 in /Users/mahmoud/agent-with-graphiti/.venv/lib/python3.12/site-packages (from pydantic<3.0,>=1.10.7->langfuse) (0.4.1)\r\n",
      "Requirement already satisfied: charset_normalizer<4,>=2 in /Users/mahmoud/agent-with-graphiti/.venv/lib/python3.12/site-packages (from requests<3,>=2->langfuse) (3.4.2)\r\n",
      "Requirement already satisfied: urllib3<3,>=1.21.1 in /Users/mahmoud/agent-with-graphiti/.venv/lib/python3.12/site-packages (from requests<3,>=2->langfuse) (2.5.0)\r\n",
      "Requirement already satisfied: httplib2<1.0.0,>=0.19.0 in /Users/mahmoud/agent-with-graphiti/.venv/lib/python3.12/site-packages (from google-api-python-client->google-generativeai) (0.22.0)\r\n",
      "Requirement already satisfied: google-auth-httplib2<1.0.0,>=0.2.0 in /Users/mahmoud/agent-with-graphiti/.venv/lib/python3.12/site-packages (from google-api-python-client->google-generativeai) (0.2.0)\r\n",
      "Requirement already satisfied: uritemplate<5,>=3.0.1 in /Users/mahmoud/agent-with-graphiti/.venv/lib/python3.12/site-packages (from google-api-python-client->google-generativeai) (4.2.0)\r\n",
      "Requirement already satisfied: grpcio-status<2.0.0,>=1.33.2 in /Users/mahmoud/agent-with-graphiti/.venv/lib/python3.12/site-packages (from google-api-core->google-generativeai) (1.71.2)\r\n",
      "Requirement already satisfied: pyparsing!=3.0.0,!=3.0.1,!=3.0.2,!=3.0.3,<4,>=2.4.2 in /Users/mahmoud/agent-with-graphiti/.venv/lib/python3.12/site-packages (from httplib2<1.0.0,>=0.19.0->google-api-python-client->google-generativeai) (3.2.3)\r\n",
      "Requirement already satisfied: zipp>=3.20 in /Users/mahmoud/agent-with-graphiti/.venv/lib/python3.12/site-packages (from importlib-metadata<8.8.0,>=6.0->opentelemetry-api<2.0.0,>=1.33.1->langfuse) (3.23.0)\r\n",
      "Requirement already satisfied: pyasn1<0.7.0,>=0.6.1 in /Users/mahmoud/agent-with-graphiti/.venv/lib/python3.12/site-packages (from pyasn1-modules>=0.2.1->google-auth>=2.15.0->google-generativeai) (0.6.1)\r\n",
      "Requirement already satisfied: sniffio>=1.1 in /Users/mahmoud/agent-with-graphiti/.venv/lib/python3.12/site-packages (from anyio->httpx<1.0,>=0.15.4->langfuse) (1.3.1)\r\n",
      "\r\n",
      "\u001B[1m[\u001B[0m\u001B[34;49mnotice\u001B[0m\u001B[1;39;49m]\u001B[0m\u001B[39;49m A new release of pip is available: \u001B[0m\u001B[31;49m23.2.1\u001B[0m\u001B[39;49m -> \u001B[0m\u001B[32;49m25.1.1\u001B[0m\r\n",
      "\u001B[1m[\u001B[0m\u001B[34;49mnotice\u001B[0m\u001B[1;39;49m]\u001B[0m\u001B[39;49m To update, run: \u001B[0m\u001B[32;49mpip install --upgrade pip\u001B[0m\r\n"
     ]
    }
   ],
   "source": [
    "!pip install langfuse google-generativeai"
   ]
  },
  {
   "cell_type": "code",
   "id": "initial_id",
   "metadata": {
    "collapsed": true,
    "ExecuteTime": {
     "end_time": "2025-07-05T19:22:27.413634Z",
     "start_time": "2025-07-05T19:22:16.927467Z"
    }
   },
   "source": [
    "import os\n",
    "import google.generativeai as genai\n",
    "from langfuse import observe\n",
    "from dotenv import load_dotenv\n",
    "\n",
    "load_dotenv()\n",
    "\n",
    "genai.configure(api_key=os.environ.get(\"GOOGLE_API_KEY\"))\n",
    "\n",
    "\n",
    "@observe\n",
    "def generate_character_bio(topic):\n",
    "  \"\"\"Generates a character biography using Gemini.\"\"\"\n",
    "  model = genai.GenerativeModel('gemini-2.5-flash')\n",
    "\n",
    "  response = model.generate_content(\n",
    "      f\"Create a short, compelling character biography for: {topic}\"\n",
    "  )\n",
    "\n",
    "  return response.text\n",
    "\n",
    "if __name__ == \"__main__\":\n",
    "  character_topic = \"a reclusive lighthouse keeper who finds a mysterious map\"\n",
    "  bio = generate_character_bio(character_topic)\n",
    "  print(bio)"
   ],
   "outputs": [
    {
     "name": "stderr",
     "output_type": "stream",
     "text": [
      "/Users/mahmoud/agent-with-graphiti/.venv/lib/python3.12/site-packages/tqdm/auto.py:21: TqdmWarning: IProgress not found. Please update jupyter and ipywidgets. See https://ipywidgets.readthedocs.io/en/stable/user_install.html\n",
      "  from .autonotebook import tqdm as notebook_tqdm\n"
     ]
    },
    {
     "name": "stdout",
     "output_type": "stream",
     "text": [
      "**Silas Blackwood, 58, was as much a fixture of the towering cliff-edge lighthouse as the very lamp itself.** His solitude wasn't imposed, but chosen – a quiet, almost monastic devotion to the rhythmic flash and the ceaseless churn of the sea. The world beyond the waves had, long ago, proven too loud, too sharp, leaving scars he preferred to keep unmolested by human touch. His days were a precise ballet of polished brass, refilled oil, and weathered logs in the stove; his only companions were the gulls, the wind, and the ghosts of forgotten ships.\n",
      "\n",
      "Then, during a tempestuous squall that rattled the very foundations of his solitary sanctuary, a sodden, leather-bound cylinder washed ashore, snagging on the rocks below his perch. Inside, unfurled by his calloused fingers, lay a map unlike any he’d ever seen – not of coasts or currents, but of impossible symbols, a labyrinthine path, and a single, faded X that seemed to pulse with an ancient, forgotten light.\n",
      "\n",
      "It was an alien intrusion, a whisper of a world he’d meticulously shut out. For years, Silas had been the keeper of the light, warning others away from danger. Now, a strange, undeniable urge tugged him *towards* an unknown darkness, a destination that promised to shatter the serene quiet he’d so carefully constructed. The map was a challenge, a potential curse, and perhaps, a final, dangerous call to a life he thought he’d long abandoned.\n"
     ]
    }
   ],
   "execution_count": 1
  },
  {
   "metadata": {},
   "cell_type": "code",
   "outputs": [],
   "execution_count": null,
   "source": "",
   "id": "b099f3d8d0df8381"
  }
 ],
 "metadata": {
  "kernelspec": {
   "display_name": "Python 3",
   "language": "python",
   "name": "python3"
  },
  "language_info": {
   "codemirror_mode": {
    "name": "ipython",
    "version": 2
   },
   "file_extension": ".py",
   "mimetype": "text/x-python",
   "name": "python",
   "nbconvert_exporter": "python",
   "pygments_lexer": "ipython2",
   "version": "2.7.6"
  }
 },
 "nbformat": 4,
 "nbformat_minor": 5
}
