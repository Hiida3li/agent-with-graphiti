{
 "cells": [
  {
   "metadata": {
    "ExecuteTime": {
     "end_time": "2025-07-05T10:03:14.891061Z",
     "start_time": "2025-07-05T10:03:09.061152Z"
    }
   },
   "cell_type": "code",
   "source": "!pip install langfuse openai",
   "id": "c8959225de1d3895",
   "outputs": [
    {
     "name": "stdout",
     "output_type": "stream",
     "text": [
      "Collecting langfuse\r\n",
      "  Obtaining dependency information for langfuse from https://files.pythonhosted.org/packages/f1/d6/e5990d30a9f7a9975ba706e10364bea4392a0148f44f3e1c70fad015e110/langfuse-3.1.2-py3-none-any.whl.metadata\r\n",
      "  Downloading langfuse-3.1.2-py3-none-any.whl.metadata (3.2 kB)\r\n",
      "Requirement already satisfied: openai in /Users/mahmoud/agent-with-graphiti/.venv/lib/python3.12/site-packages (1.93.0)\r\n",
      "Requirement already satisfied: backoff>=1.10.0 in /Users/mahmoud/agent-with-graphiti/.venv/lib/python3.12/site-packages (from langfuse) (2.2.1)\r\n",
      "Requirement already satisfied: httpx<1.0,>=0.15.4 in /Users/mahmoud/agent-with-graphiti/.venv/lib/python3.12/site-packages (from langfuse) (0.28.1)\r\n",
      "Requirement already satisfied: opentelemetry-api<2.0.0,>=1.33.1 in /Users/mahmoud/agent-with-graphiti/.venv/lib/python3.12/site-packages (from langfuse) (1.34.1)\r\n",
      "Collecting opentelemetry-exporter-otlp<2.0.0,>=1.33.1 (from langfuse)\r\n",
      "  Obtaining dependency information for opentelemetry-exporter-otlp<2.0.0,>=1.33.1 from https://files.pythonhosted.org/packages/00/c1/259b8d8391c968e8f005d8a0ccefcb41aeef64cf55905cd0c0db4e22aaee/opentelemetry_exporter_otlp-1.34.1-py3-none-any.whl.metadata\r\n",
      "  Downloading opentelemetry_exporter_otlp-1.34.1-py3-none-any.whl.metadata (2.4 kB)\r\n",
      "Requirement already satisfied: opentelemetry-sdk<2.0.0,>=1.33.1 in /Users/mahmoud/agent-with-graphiti/.venv/lib/python3.12/site-packages (from langfuse) (1.34.1)\r\n",
      "Collecting packaging<25.0,>=23.2 (from langfuse)\r\n",
      "  Obtaining dependency information for packaging<25.0,>=23.2 from https://files.pythonhosted.org/packages/88/ef/eb23f262cca3c0c4eb7ab1933c3b1f03d021f2c48f54763065b6f0e321be/packaging-24.2-py3-none-any.whl.metadata\r\n",
      "  Downloading packaging-24.2-py3-none-any.whl.metadata (3.2 kB)\r\n",
      "Requirement already satisfied: pydantic<3.0,>=1.10.7 in /Users/mahmoud/agent-with-graphiti/.venv/lib/python3.12/site-packages (from langfuse) (2.11.7)\r\n",
      "Requirement already satisfied: requests<3,>=2 in /Users/mahmoud/agent-with-graphiti/.venv/lib/python3.12/site-packages (from langfuse) (2.32.4)\r\n",
      "Collecting wrapt<2.0,>=1.14 (from langfuse)\r\n",
      "  Obtaining dependency information for wrapt<2.0,>=1.14 from https://files.pythonhosted.org/packages/48/2a/97928387d6ed1c1ebbfd4efc4133a0633546bec8481a2dd5ec961313a1c7/wrapt-1.17.2-cp312-cp312-macosx_11_0_arm64.whl.metadata\r\n",
      "  Downloading wrapt-1.17.2-cp312-cp312-macosx_11_0_arm64.whl.metadata (6.4 kB)\r\n",
      "Requirement already satisfied: anyio<5,>=3.5.0 in /Users/mahmoud/agent-with-graphiti/.venv/lib/python3.12/site-packages (from openai) (4.9.0)\r\n",
      "Requirement already satisfied: distro<2,>=1.7.0 in /Users/mahmoud/agent-with-graphiti/.venv/lib/python3.12/site-packages (from openai) (1.9.0)\r\n",
      "Requirement already satisfied: jiter<1,>=0.4.0 in /Users/mahmoud/agent-with-graphiti/.venv/lib/python3.12/site-packages (from openai) (0.10.0)\r\n",
      "Requirement already satisfied: sniffio in /Users/mahmoud/agent-with-graphiti/.venv/lib/python3.12/site-packages (from openai) (1.3.1)\r\n",
      "Requirement already satisfied: tqdm>4 in /Users/mahmoud/agent-with-graphiti/.venv/lib/python3.12/site-packages (from openai) (4.67.1)\r\n",
      "Requirement already satisfied: typing-extensions<5,>=4.11 in /Users/mahmoud/agent-with-graphiti/.venv/lib/python3.12/site-packages (from openai) (4.14.0)\r\n",
      "Requirement already satisfied: idna>=2.8 in /Users/mahmoud/agent-with-graphiti/.venv/lib/python3.12/site-packages (from anyio<5,>=3.5.0->openai) (3.10)\r\n",
      "Requirement already satisfied: certifi in /Users/mahmoud/agent-with-graphiti/.venv/lib/python3.12/site-packages (from httpx<1.0,>=0.15.4->langfuse) (2025.6.15)\r\n",
      "Requirement already satisfied: httpcore==1.* in /Users/mahmoud/agent-with-graphiti/.venv/lib/python3.12/site-packages (from httpx<1.0,>=0.15.4->langfuse) (1.0.9)\r\n",
      "Requirement already satisfied: h11>=0.16 in /Users/mahmoud/agent-with-graphiti/.venv/lib/python3.12/site-packages (from httpcore==1.*->httpx<1.0,>=0.15.4->langfuse) (0.16.0)\r\n",
      "Requirement already satisfied: importlib-metadata<8.8.0,>=6.0 in /Users/mahmoud/agent-with-graphiti/.venv/lib/python3.12/site-packages (from opentelemetry-api<2.0.0,>=1.33.1->langfuse) (8.7.0)\r\n",
      "Collecting opentelemetry-exporter-otlp-proto-grpc==1.34.1 (from opentelemetry-exporter-otlp<2.0.0,>=1.33.1->langfuse)\r\n",
      "  Obtaining dependency information for opentelemetry-exporter-otlp-proto-grpc==1.34.1 from https://files.pythonhosted.org/packages/b4/42/0a4dd47e7ef54edf670c81fc06a83d68ea42727b82126a1df9dd0477695d/opentelemetry_exporter_otlp_proto_grpc-1.34.1-py3-none-any.whl.metadata\r\n",
      "  Downloading opentelemetry_exporter_otlp_proto_grpc-1.34.1-py3-none-any.whl.metadata (2.4 kB)\r\n",
      "Collecting opentelemetry-exporter-otlp-proto-http==1.34.1 (from opentelemetry-exporter-otlp<2.0.0,>=1.33.1->langfuse)\r\n",
      "  Obtaining dependency information for opentelemetry-exporter-otlp-proto-http==1.34.1 from https://files.pythonhosted.org/packages/79/54/b05251c04e30c1ac70cf4a7c5653c085dfcf2c8b98af71661d6a252adc39/opentelemetry_exporter_otlp_proto_http-1.34.1-py3-none-any.whl.metadata\r\n",
      "  Downloading opentelemetry_exporter_otlp_proto_http-1.34.1-py3-none-any.whl.metadata (2.3 kB)\r\n",
      "Requirement already satisfied: googleapis-common-protos~=1.52 in /Users/mahmoud/agent-with-graphiti/.venv/lib/python3.12/site-packages (from opentelemetry-exporter-otlp-proto-grpc==1.34.1->opentelemetry-exporter-otlp<2.0.0,>=1.33.1->langfuse) (1.70.0)\r\n",
      "Requirement already satisfied: grpcio<2.0.0,>=1.63.2 in /Users/mahmoud/agent-with-graphiti/.venv/lib/python3.12/site-packages (from opentelemetry-exporter-otlp-proto-grpc==1.34.1->opentelemetry-exporter-otlp<2.0.0,>=1.33.1->langfuse) (1.73.1)\r\n",
      "Collecting opentelemetry-exporter-otlp-proto-common==1.34.1 (from opentelemetry-exporter-otlp-proto-grpc==1.34.1->opentelemetry-exporter-otlp<2.0.0,>=1.33.1->langfuse)\r\n",
      "  Obtaining dependency information for opentelemetry-exporter-otlp-proto-common==1.34.1 from https://files.pythonhosted.org/packages/72/e8/8b292a11cc8d8d87ec0c4089ae21b6a58af49ca2e51fa916435bc922fdc7/opentelemetry_exporter_otlp_proto_common-1.34.1-py3-none-any.whl.metadata\r\n",
      "  Downloading opentelemetry_exporter_otlp_proto_common-1.34.1-py3-none-any.whl.metadata (1.9 kB)\r\n",
      "Collecting opentelemetry-proto==1.34.1 (from opentelemetry-exporter-otlp-proto-grpc==1.34.1->opentelemetry-exporter-otlp<2.0.0,>=1.33.1->langfuse)\r\n",
      "  Obtaining dependency information for opentelemetry-proto==1.34.1 from https://files.pythonhosted.org/packages/28/ab/4591bfa54e946350ce8b3f28e5c658fe9785e7cd11e9c11b1671a867822b/opentelemetry_proto-1.34.1-py3-none-any.whl.metadata\r\n",
      "  Downloading opentelemetry_proto-1.34.1-py3-none-any.whl.metadata (2.4 kB)\r\n",
      "Requirement already satisfied: protobuf<6.0,>=5.0 in /Users/mahmoud/agent-with-graphiti/.venv/lib/python3.12/site-packages (from opentelemetry-proto==1.34.1->opentelemetry-exporter-otlp-proto-grpc==1.34.1->opentelemetry-exporter-otlp<2.0.0,>=1.33.1->langfuse) (5.29.5)\r\n",
      "Requirement already satisfied: opentelemetry-semantic-conventions==0.55b1 in /Users/mahmoud/agent-with-graphiti/.venv/lib/python3.12/site-packages (from opentelemetry-sdk<2.0.0,>=1.33.1->langfuse) (0.55b1)\r\n",
      "Requirement already satisfied: annotated-types>=0.6.0 in /Users/mahmoud/agent-with-graphiti/.venv/lib/python3.12/site-packages (from pydantic<3.0,>=1.10.7->langfuse) (0.7.0)\r\n",
      "Requirement already satisfied: pydantic-core==2.33.2 in /Users/mahmoud/agent-with-graphiti/.venv/lib/python3.12/site-packages (from pydantic<3.0,>=1.10.7->langfuse) (2.33.2)\r\n",
      "Requirement already satisfied: typing-inspection>=0.4.0 in /Users/mahmoud/agent-with-graphiti/.venv/lib/python3.12/site-packages (from pydantic<3.0,>=1.10.7->langfuse) (0.4.1)\r\n",
      "Requirement already satisfied: charset_normalizer<4,>=2 in /Users/mahmoud/agent-with-graphiti/.venv/lib/python3.12/site-packages (from requests<3,>=2->langfuse) (3.4.2)\r\n",
      "Requirement already satisfied: urllib3<3,>=1.21.1 in /Users/mahmoud/agent-with-graphiti/.venv/lib/python3.12/site-packages (from requests<3,>=2->langfuse) (2.5.0)\r\n",
      "Requirement already satisfied: zipp>=3.20 in /Users/mahmoud/agent-with-graphiti/.venv/lib/python3.12/site-packages (from importlib-metadata<8.8.0,>=6.0->opentelemetry-api<2.0.0,>=1.33.1->langfuse) (3.23.0)\r\n",
      "Downloading langfuse-3.1.2-py3-none-any.whl (297 kB)\r\n",
      "\u001B[2K   \u001B[90m━━━━━━━━━━━━━━━━━━━━━━━━━━━━━━━━━━━━━━━\u001B[0m \u001B[32m297.3/297.3 kB\u001B[0m \u001B[31m876.2 kB/s\u001B[0m eta \u001B[36m0:00:00\u001B[0ma \u001B[36m0:00:01\u001B[0m\r\n",
      "\u001B[?25hDownloading opentelemetry_exporter_otlp-1.34.1-py3-none-any.whl (7.0 kB)\r\n",
      "Downloading opentelemetry_exporter_otlp_proto_grpc-1.34.1-py3-none-any.whl (18 kB)\r\n",
      "Downloading opentelemetry_exporter_otlp_proto_http-1.34.1-py3-none-any.whl (17 kB)\r\n",
      "Downloading opentelemetry_exporter_otlp_proto_common-1.34.1-py3-none-any.whl (18 kB)\r\n",
      "Downloading opentelemetry_proto-1.34.1-py3-none-any.whl (55 kB)\r\n",
      "\u001B[2K   \u001B[90m━━━━━━━━━━━━━━━━━━━━━━━━━━━━━━━━━━━━━━━━\u001B[0m \u001B[32m55.7/55.7 kB\u001B[0m \u001B[31m3.0 MB/s\u001B[0m eta \u001B[36m0:00:00\u001B[0m\r\n",
      "\u001B[?25hDownloading packaging-24.2-py3-none-any.whl (65 kB)\r\n",
      "\u001B[2K   \u001B[90m━━━━━━━━━━━━━━━━━━━━━━━━━━━━━━━━━━━━━━━━\u001B[0m \u001B[32m65.5/65.5 kB\u001B[0m \u001B[31m3.8 MB/s\u001B[0m eta \u001B[36m0:00:00\u001B[0m\r\n",
      "\u001B[?25hDownloading wrapt-1.17.2-cp312-cp312-macosx_11_0_arm64.whl (38 kB)\r\n",
      "Installing collected packages: wrapt, packaging, opentelemetry-proto, opentelemetry-exporter-otlp-proto-common, opentelemetry-exporter-otlp-proto-http, opentelemetry-exporter-otlp-proto-grpc, opentelemetry-exporter-otlp, langfuse\r\n",
      "  Attempting uninstall: packaging\r\n",
      "    Found existing installation: packaging 25.0\r\n",
      "    Uninstalling packaging-25.0:\r\n",
      "      Successfully uninstalled packaging-25.0\r\n",
      "Successfully installed langfuse-3.1.2 opentelemetry-exporter-otlp-1.34.1 opentelemetry-exporter-otlp-proto-common-1.34.1 opentelemetry-exporter-otlp-proto-grpc-1.34.1 opentelemetry-exporter-otlp-proto-http-1.34.1 opentelemetry-proto-1.34.1 packaging-24.2 wrapt-1.17.2\r\n",
      "\r\n",
      "\u001B[1m[\u001B[0m\u001B[34;49mnotice\u001B[0m\u001B[1;39;49m]\u001B[0m\u001B[39;49m A new release of pip is available: \u001B[0m\u001B[31;49m23.2.1\u001B[0m\u001B[39;49m -> \u001B[0m\u001B[32;49m25.1.1\u001B[0m\r\n",
      "\u001B[1m[\u001B[0m\u001B[34;49mnotice\u001B[0m\u001B[1;39;49m]\u001B[0m\u001B[39;49m To update, run: \u001B[0m\u001B[32;49mpip install --upgrade pip\u001B[0m\r\n"
     ]
    }
   ],
   "execution_count": 1
  },
  {
   "metadata": {
    "collapsed": true
   },
   "cell_type": "code",
   "outputs": [],
   "execution_count": null,
   "source": [
    "import os\n",
    "from langfuse import observe\n",
    "from openai import OpenAI\n",
    "\n",
    "# Set your Langfuse and OpenAI API keys\n",
    "os.environ[\"LANGFUSE_PUBLIC_KEY\"] = \"YOUR_LANGFUSE_PUBLIC_KEY\"\n",
    "os.environ[\"LANGFUSE_SECRET_KEY\"] = \"YOUR_LANGFUSE_SECRET_KEY\"\n",
    "os.environ[\"OPENAI_API_KEY\"] = \"YOUR_OPENAI_API_KEY\"\n",
    "\n",
    "# Initialize the OpenAI client\n",
    "client = OpenAI()\n",
    "\n",
    "@observe\n",
    "def generate_story(topic):\n",
    "  \"\"\"Generates a short story based on a given topic.\"\"\"\n",
    "  return client.chat.completions.create(\n",
    "      model=\"gpt-3.5-turbo\",\n",
    "      messages=[\n",
    "          {\"role\": \"system\", \"content\": \"You are a helpful assistant that writes engaging short stories.\"},\n",
    "          {\"role\": \"user\", \"content\": f\"Write a short story about: {topic}\"}\n",
    "      ]\n",
    "  ).choices[0].message.content\n",
    "\n",
    "# Run the function\n",
    "if __name__ == \"__main__\":\n",
    "  story_topic = \"a robot who discovers music\"\n",
    "  generated_story = generate_story(story_topic)\n",
    "  print(generated_story)"
   ],
   "id": "initial_id"
  }
 ],
 "metadata": {
  "kernelspec": {
   "display_name": "Python 3",
   "language": "python",
   "name": "python3"
  },
  "language_info": {
   "codemirror_mode": {
    "name": "ipython",
    "version": 2
   },
   "file_extension": ".py",
   "mimetype": "text/x-python",
   "name": "python",
   "nbconvert_exporter": "python",
   "pygments_lexer": "ipython2",
   "version": "2.7.6"
  }
 },
 "nbformat": 4,
 "nbformat_minor": 5
}
