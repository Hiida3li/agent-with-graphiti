{
 "cells": [
  {
   "cell_type": "code",
   "id": "initial_id",
   "metadata": {
    "collapsed": true,
    "ExecuteTime": {
     "end_time": "2025-07-17T06:50:03.947238Z",
     "start_time": "2025-07-17T06:50:03.936863Z"
    }
   },
   "source": [
    "import os\n",
    "import logging\n",
    "import json\n",
    "import uuid\n",
    "from typing import Dict, Any, List\n",
    "from dotenv import load_dotenv\n",
    "import google.generativeai as genai\n",
    "from google import genai\n",
    "\n",
    "load_dotenv()\n",
    "GOOGLE_API_KEY = os.getenv('GOOGLE_API_KEY')\n",
    "client = genai.Client(api_key=GOOGLE_API_KEY)"
   ],
   "outputs": [],
   "execution_count": 12
  },
  {
   "metadata": {
    "ExecuteTime": {
     "end_time": "2025-07-17T06:50:03.956604Z",
     "start_time": "2025-07-17T06:50:03.954686Z"
    }
   },
   "cell_type": "code",
   "source": [
    "prompt = \"\"\"\n",
    "  List a few popular cookie recipes\n",
    "\"\"\""
   ],
   "id": "2b8a6f2257e22611",
   "outputs": [],
   "execution_count": 13
  },
  {
   "metadata": {
    "ExecuteTime": {
     "end_time": "2025-07-17T06:50:07.547618Z",
     "start_time": "2025-07-17T06:50:03.962125Z"
    }
   },
   "cell_type": "code",
   "source": [
    "MODEL_ID = \"gemini-2.5-flash\"\n",
    "\n",
    "raw_response = client.models.generate_content(\n",
    "    model=MODEL_ID,\n",
    "    contents=prompt,\n",
    "    config={\n",
    "        'response_mime_type': 'application/json'\n",
    "    },\n",
    ")"
   ],
   "id": "deaf4d38ecb8773e",
   "outputs": [],
   "execution_count": 14
  },
  {
   "metadata": {
    "ExecuteTime": {
     "end_time": "2025-07-17T06:50:07.555348Z",
     "start_time": "2025-07-17T06:50:07.553215Z"
    }
   },
   "cell_type": "code",
   "source": [
    "import json\n",
    "\n",
    "response = json.loads(raw_response.text)\n",
    "print(response)"
   ],
   "id": "ab5ee91f563bd24b",
   "outputs": [
    {
     "name": "stdout",
     "output_type": "stream",
     "text": [
      "[{'name': 'Chocolate Chip Cookies', 'description': 'A classic American cookie, known for its buttery, chewy texture and melty chocolate chips. Often made with a mix of brown and white sugar for depth of flavor.', 'popularity_rank': 1}, {'name': 'Oatmeal Raisin Cookies', 'description': 'Chewy cookies made with rolled oats and raisins, often spiced with cinnamon. A comforting and hearty option.', 'popularity_rank': 2}, {'name': 'Peanut Butter Cookies', 'description': 'Rich and dense cookies with a distinct peanut butter flavor, traditionally flattened with a fork to create a criss-cross pattern.', 'popularity_rank': 3}, {'name': 'Sugar Cookies', 'description': 'Simple, buttery cookies that serve as a perfect base for decorating with icing and sprinkles. Popular around holidays.', 'popularity_rank': 4}, {'name': 'Snickerdoodles', 'description': 'Soft and chewy cookies coated in a mixture of cinnamon and sugar, often characterized by a slight tangy taste from cream of tartar.', 'popularity_rank': 5}]\n"
     ]
    }
   ],
   "execution_count": 15
  },
  {
   "metadata": {
    "ExecuteTime": {
     "end_time": "2025-07-17T06:50:07.572197Z",
     "start_time": "2025-07-17T06:50:07.570523Z"
    }
   },
   "cell_type": "code",
   "source": "print(json.dumps(response, indent=4))",
   "id": "a399bf3e1c29bf65",
   "outputs": [
    {
     "name": "stdout",
     "output_type": "stream",
     "text": [
      "[\n",
      "    {\n",
      "        \"name\": \"Chocolate Chip Cookies\",\n",
      "        \"description\": \"A classic American cookie, known for its buttery, chewy texture and melty chocolate chips. Often made with a mix of brown and white sugar for depth of flavor.\",\n",
      "        \"popularity_rank\": 1\n",
      "    },\n",
      "    {\n",
      "        \"name\": \"Oatmeal Raisin Cookies\",\n",
      "        \"description\": \"Chewy cookies made with rolled oats and raisins, often spiced with cinnamon. A comforting and hearty option.\",\n",
      "        \"popularity_rank\": 2\n",
      "    },\n",
      "    {\n",
      "        \"name\": \"Peanut Butter Cookies\",\n",
      "        \"description\": \"Rich and dense cookies with a distinct peanut butter flavor, traditionally flattened with a fork to create a criss-cross pattern.\",\n",
      "        \"popularity_rank\": 3\n",
      "    },\n",
      "    {\n",
      "        \"name\": \"Sugar Cookies\",\n",
      "        \"description\": \"Simple, buttery cookies that serve as a perfect base for decorating with icing and sprinkles. Popular around holidays.\",\n",
      "        \"popularity_rank\": 4\n",
      "    },\n",
      "    {\n",
      "        \"name\": \"Snickerdoodles\",\n",
      "        \"description\": \"Soft and chewy cookies coated in a mixture of cinnamon and sugar, often characterized by a slight tangy taste from cream of tartar.\",\n",
      "        \"popularity_rank\": 5\n",
      "    }\n",
      "]\n"
     ]
    }
   ],
   "execution_count": 16
  }
 ],
 "metadata": {
  "kernelspec": {
   "display_name": "Python 3.12 (Orki)",
   "language": "python",
   "name": "python3.12-orki"
  },
  "language_info": {
   "codemirror_mode": {
    "name": "ipython",
    "version": 2
   },
   "file_extension": ".py",
   "mimetype": "text/x-python",
   "name": "python",
   "nbconvert_exporter": "python",
   "pygments_lexer": "ipython2",
   "version": "2.7.6"
  }
 },
 "nbformat": 4,
 "nbformat_minor": 5
}
