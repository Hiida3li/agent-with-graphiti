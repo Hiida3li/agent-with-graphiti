{
 "cells": [
  {
   "cell_type": "code",
   "id": "initial_id",
   "metadata": {
    "collapsed": true,
    "ExecuteTime": {
     "end_time": "2025-07-20T06:36:07.097366Z",
     "start_time": "2025-07-20T06:36:05.820690Z"
    }
   },
   "source": [
    "import os\n",
    "import json\n",
    "import uuid\n",
    "from datetime import datetime, timezone\n",
    "from neo4j import GraphDatabase\n",
    "from dotenv import load_dotenv\n",
    "from google import genai\n",
    "\n",
    "load_dotenv()\n",
    "NEO4J_URI = os.getenv(\"NEO4J_URI\")\n",
    "NEO4J_USERNAME = os.getenv(\"NEO4J_USERNAME\")\n",
    "NEO4J_PASSWORD = os.getenv(\"NEO4J_PASSWORD\")\n",
    "GOOGLE_API_KEY = os.getenv(\"GOOGLE_API_KEY\")\n",
    "\n",
    "if GOOGLE_API_KEY is None:\n",
    "    raise ValueError(\"GOOGLE_API_KEY not found in environment variables. Please set it in your .env file.\")\n",
    "\n",
    "client = genai.Client(api_key=GOOGLE_API_KEY)\n",
    "\n",
    "search_products_tool = {\n",
    "    \"name\": \"search_products\",\n",
    "    \"description\": \"Searches the product catalog for items based on a text query and optional filters.\",\n",
    "    \"parameters\": {\n",
    "        \"type\": \"object\",\n",
    "        \"properties\": {\n",
    "            \"query\": {\n",
    "                \"type\": \"string\",\n",
    "                \"description\": \"A search query for products.\"\n",
    "            },\n",
    "            \"filters\": {\n",
    "                \"type\": \"object\",\n",
    "                \"description\": \"Optional filters like color.\",\n",
    "                \"properties\": {\n",
    "                    \"color\": {\"type\": \"string\"}\n",
    "                }\n",
    "            }\n",
    "        },\n",
    "        \"required\": [\"query\"]\n",
    "    }\n",
    "}\n",
    "\n",
    "search_faqs = {\n",
    "    \"name\": \"search_faqs\",\n",
    "    \"description\": \"Searches a knowledge base of Frequently Asked Questions (FAQs) based on a user's query. Returns a list of relevant FAQs including their questions, answers, and categories.\",\n",
    "    \"parameters\": {\n",
    "        \"type\": \"object\",\n",
    "        \"properties\": {\n",
    "            \"text\": {\n",
    "                \"type\": \"string\",\n",
    "                \"description\": \"The user's question or search query to find relevant FAQs. For example: 'How long does shipping take?' or 'return policy'.\"\n",
    "            }\n",
    "        },\n",
    "        \"required\": [\"text\"]\n",
    "    }\n",
    "}"
   ],
   "outputs": [],
   "execution_count": 1
  },
  {
   "metadata": {
    "ExecuteTime": {
     "end_time": "2025-07-20T06:39:09.992817Z",
     "start_time": "2025-07-20T06:39:05.981105Z"
    }
   },
   "cell_type": "code",
   "source": [
    "import os\n",
    "from google import genai\n",
    "from google.genai import types\n",
    "\n",
    "# Example Functions\n",
    "def get_weather_forecast(location: str) -> dict:\n",
    "    \"\"\"Gets the current weather temperature for a given location.\"\"\"\n",
    "    print(f\"Tool Call: get_weather_forecast(location={location})\")\n",
    "    # TODO: Make API call\n",
    "    print(\"Tool Response: {'temperature': 25, 'unit': 'celsius'}\")\n",
    "    return {\"temperature\": 25, \"unit\": \"celsius\"}\n",
    "\n",
    "\n",
    "def set_thermostat_temperature(temperature: int) -> dict:\n",
    "    \"\"\"Sets the thermostat to a desired temperature.\"\"\"\n",
    "    print(f\"Tool Call: set_thermostat_temperature(temperature={temperature})\")\n",
    "    # TODO: Interact with a thermostat API\n",
    "    print(\"Tool Response: {'status': 'success'}\")\n",
    "    return {\"status\": \"success\"}\n",
    "\n",
    "client = genai.Client()\n",
    "config = types.GenerateContentConfig(\n",
    "    tools=[get_weather_forecast, set_thermostat_temperature])\n",
    "\n",
    "# Make the request\n",
    "response = client.models.generate_content(\n",
    "    model=\"gemini-2.5-flash\",\n",
    "    contents=\"If it's warmer than 20°C in London, set the thermostat to 20°C, otherwise set it to 18°C.\",\n",
    "    config=config,)\n",
    "\n",
    "# Print the final, user-facing response\n",
    "print(response.text)"
   ],
   "id": "bc8d6c98a38ffa5c",
   "outputs": [
    {
     "name": "stdout",
     "output_type": "stream",
     "text": [
      "Tool Call: get_weather_forecast(location=London)\n",
      "Tool Response: {'temperature': 25, 'unit': 'celsius'}\n",
      "Tool Call: set_thermostat_temperature(temperature=20)\n",
      "Tool Response: {'status': 'success'}\n",
      "It is 25°C in London, so I have set the thermostat to 20°C.\n"
     ]
    }
   ],
   "execution_count": 5
  },
  {
   "metadata": {
    "ExecuteTime": {
     "end_time": "2025-07-20T06:42:36.902344Z",
     "start_time": "2025-07-20T06:42:36.732542Z"
    }
   },
   "cell_type": "code",
   "source": [
    "turn_on_the_lights_schema = {'name': 'turn_on_the_lights'}\n",
    "turn_off_the_lights_schema = {'name': 'turn_off_the_lights'}\n",
    "\n",
    "prompt = \"\"\"\n",
    "  Hey, can you write run some python code to turn on the lights, wait 10s and then turn off the lights?\n",
    "  \"\"\"\n",
    "\n",
    "tools = [\n",
    "    {'code_execution': {}},\n",
    "    {'function_declarations': [turn_on_the_lights_schema, turn_off_the_lights_schema]}\n",
    "]\n",
    "\n",
    "await run(prompt, tools=tools, modality=\"AUDIO\")"
   ],
   "id": "c1853d806ae7145b",
   "outputs": [
    {
     "ename": "NameError",
     "evalue": "name 'run' is not defined",
     "output_type": "error",
     "traceback": [
      "\u001B[0;31m---------------------------------------------------------------------------\u001B[0m",
      "\u001B[0;31mNameError\u001B[0m                                 Traceback (most recent call last)",
      "Cell \u001B[0;32mIn[6], line 13\u001B[0m\n\u001B[1;32m      4\u001B[0m prompt \u001B[38;5;241m=\u001B[39m \u001B[38;5;124m\"\"\"\u001B[39m\n\u001B[1;32m      5\u001B[0m \u001B[38;5;124m  Hey, can you write run some python code to turn on the lights, wait 10s and then turn off the lights?\u001B[39m\n\u001B[1;32m      6\u001B[0m \u001B[38;5;124m  \u001B[39m\u001B[38;5;124m\"\"\"\u001B[39m\n\u001B[1;32m      8\u001B[0m tools \u001B[38;5;241m=\u001B[39m [\n\u001B[1;32m      9\u001B[0m     {\u001B[38;5;124m'\u001B[39m\u001B[38;5;124mcode_execution\u001B[39m\u001B[38;5;124m'\u001B[39m: {}},\n\u001B[1;32m     10\u001B[0m     {\u001B[38;5;124m'\u001B[39m\u001B[38;5;124mfunction_declarations\u001B[39m\u001B[38;5;124m'\u001B[39m: [turn_on_the_lights_schema, turn_off_the_lights_schema]}\n\u001B[1;32m     11\u001B[0m ]\n\u001B[0;32m---> 13\u001B[0m \u001B[38;5;28;01mawait\u001B[39;00m \u001B[43mrun\u001B[49m(prompt, tools\u001B[38;5;241m=\u001B[39mtools, modality\u001B[38;5;241m=\u001B[39m\u001B[38;5;124m\"\u001B[39m\u001B[38;5;124mAUDIO\u001B[39m\u001B[38;5;124m\"\u001B[39m)\n",
      "\u001B[0;31mNameError\u001B[0m: name 'run' is not defined"
     ]
    }
   ],
   "execution_count": 6
  },
  {
   "metadata": {
    "ExecuteTime": {
     "end_time": "2025-07-17T06:50:03.956604Z",
     "start_time": "2025-07-17T06:50:03.954686Z"
    }
   },
   "cell_type": "code",
   "source": [
    "prompt = \"\"\"\n",
    "  List a few popular cookie recipes\n",
    "\"\"\""
   ],
   "id": "2b8a6f2257e22611",
   "outputs": [],
   "execution_count": 13
  },
  {
   "metadata": {
    "ExecuteTime": {
     "end_time": "2025-07-17T06:50:07.547618Z",
     "start_time": "2025-07-17T06:50:03.962125Z"
    }
   },
   "cell_type": "code",
   "source": [
    "MODEL_ID = \"gemini-2.5-flash\"\n",
    "\n",
    "raw_response = client.models.generate_content(\n",
    "    model=MODEL_ID,\n",
    "    contents=prompt,\n",
    "    config={\n",
    "        'response_mime_type': 'application/json'\n",
    "    },\n",
    ")"
   ],
   "id": "deaf4d38ecb8773e",
   "outputs": [],
   "execution_count": 14
  },
  {
   "metadata": {
    "ExecuteTime": {
     "end_time": "2025-07-17T06:50:07.555348Z",
     "start_time": "2025-07-17T06:50:07.553215Z"
    }
   },
   "cell_type": "code",
   "source": [
    "import json\n",
    "\n",
    "response = json.loads(raw_response.text)\n",
    "print(response)"
   ],
   "id": "ab5ee91f563bd24b",
   "outputs": [
    {
     "name": "stdout",
     "output_type": "stream",
     "text": [
      "[{'name': 'Chocolate Chip Cookies', 'description': 'A classic American cookie, known for its buttery, chewy texture and melty chocolate chips. Often made with a mix of brown and white sugar for depth of flavor.', 'popularity_rank': 1}, {'name': 'Oatmeal Raisin Cookies', 'description': 'Chewy cookies made with rolled oats and raisins, often spiced with cinnamon. A comforting and hearty option.', 'popularity_rank': 2}, {'name': 'Peanut Butter Cookies', 'description': 'Rich and dense cookies with a distinct peanut butter flavor, traditionally flattened with a fork to create a criss-cross pattern.', 'popularity_rank': 3}, {'name': 'Sugar Cookies', 'description': 'Simple, buttery cookies that serve as a perfect base for decorating with icing and sprinkles. Popular around holidays.', 'popularity_rank': 4}, {'name': 'Snickerdoodles', 'description': 'Soft and chewy cookies coated in a mixture of cinnamon and sugar, often characterized by a slight tangy taste from cream of tartar.', 'popularity_rank': 5}]\n"
     ]
    }
   ],
   "execution_count": 15
  },
  {
   "metadata": {
    "ExecuteTime": {
     "end_time": "2025-07-17T06:50:07.572197Z",
     "start_time": "2025-07-17T06:50:07.570523Z"
    }
   },
   "cell_type": "code",
   "source": "print(json.dumps(response, indent=4))",
   "id": "a399bf3e1c29bf65",
   "outputs": [
    {
     "name": "stdout",
     "output_type": "stream",
     "text": [
      "[\n",
      "    {\n",
      "        \"name\": \"Chocolate Chip Cookies\",\n",
      "        \"description\": \"A classic American cookie, known for its buttery, chewy texture and melty chocolate chips. Often made with a mix of brown and white sugar for depth of flavor.\",\n",
      "        \"popularity_rank\": 1\n",
      "    },\n",
      "    {\n",
      "        \"name\": \"Oatmeal Raisin Cookies\",\n",
      "        \"description\": \"Chewy cookies made with rolled oats and raisins, often spiced with cinnamon. A comforting and hearty option.\",\n",
      "        \"popularity_rank\": 2\n",
      "    },\n",
      "    {\n",
      "        \"name\": \"Peanut Butter Cookies\",\n",
      "        \"description\": \"Rich and dense cookies with a distinct peanut butter flavor, traditionally flattened with a fork to create a criss-cross pattern.\",\n",
      "        \"popularity_rank\": 3\n",
      "    },\n",
      "    {\n",
      "        \"name\": \"Sugar Cookies\",\n",
      "        \"description\": \"Simple, buttery cookies that serve as a perfect base for decorating with icing and sprinkles. Popular around holidays.\",\n",
      "        \"popularity_rank\": 4\n",
      "    },\n",
      "    {\n",
      "        \"name\": \"Snickerdoodles\",\n",
      "        \"description\": \"Soft and chewy cookies coated in a mixture of cinnamon and sugar, often characterized by a slight tangy taste from cream of tartar.\",\n",
      "        \"popularity_rank\": 5\n",
      "    }\n",
      "]\n"
     ]
    }
   ],
   "execution_count": 16
  }
 ],
 "metadata": {
  "kernelspec": {
   "display_name": "Python 3.12 (Orki)",
   "language": "python",
   "name": "python3.12-orki"
  },
  "language_info": {
   "codemirror_mode": {
    "name": "ipython",
    "version": 2
   },
   "file_extension": ".py",
   "mimetype": "text/x-python",
   "name": "python",
   "nbconvert_exporter": "python",
   "pygments_lexer": "ipython2",
   "version": "2.7.6"
  }
 },
 "nbformat": 4,
 "nbformat_minor": 5
}
