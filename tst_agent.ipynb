{
 "cells": [
  {
   "metadata": {
    "collapsed": true,
    "ExecuteTime": {
     "end_time": "2025-07-14T03:50:25.128894Z",
     "start_time": "2025-07-14T03:50:24.740213Z"
    }
   },
   "cell_type": "code",
   "source": [
    "import os\n",
    "import io\n",
    "import time\n",
    "import logging\n",
    "import requests\n",
    "from PIL import Image\n",
    "from abc import ABC, abstractmethod\n",
    "from urllib.parse import urlparse\n",
    "from dotenv import load_dotenv\n",
    "import google.generativeai as genai\n",
    "\n",
    "load_dotenv()\n",
    "\n",
    "logging.basicConfig(\n",
    "    level=logging.DEBUG,\n",
    "    format='%(asctime)s - %(levelname)s - %(message)s'\n",
    ")\n",
    "logger = logging.getLogger(__name__)\n"
   ],
   "id": "initial_id",
   "outputs": [
    {
     "name": "stderr",
     "output_type": "stream",
     "text": [
      "/Users/mahmoud/agent-with-graphiti/.venv/lib/python3.12/site-packages/tqdm/auto.py:21: TqdmWarning: IProgress not found. Please update jupyter and ipywidgets. See https://ipywidgets.readthedocs.io/en/stable/user_install.html\n",
      "  from .autonotebook import tqdm as notebook_tqdm\n"
     ]
    }
   ],
   "execution_count": 1
  },
  {
   "metadata": {
    "ExecuteTime": {
     "end_time": "2025-07-14T03:50:27.031584Z",
     "start_time": "2025-07-14T03:50:27.026135Z"
    }
   },
   "cell_type": "code",
   "source": [
    "class LLMProvider(ABC):\n",
    "    @abstractmethod\n",
    "    def generate(self, prompt: str, image_url: str = None) -> str:\n",
    "        pass\n",
    "\n",
    "class GeminiProvider(LLMProvider):\n",
    "    def __init__(self, model_name: str = \"gemini-2.5-flash\"):\n",
    "        genai.configure(api_key=os.getenv(\"GOOGLE_API_KEY\"))\n",
    "        self.model = genai.GenerativeModel(model_name)\n",
    "\n",
    "    def generate(self, prompt: str, image_url: str = None) -> str:\n",
    "        content = [prompt]\n",
    "\n",
    "        if image_url:\n",
    "            try:\n",
    "                response = requests.get(image_url, timeout=10)\n",
    "                response.raise_for_status()\n",
    "                img = Image.open(io.BytesIO(response.content))\n",
    "                content.append(img)\n",
    "            except Exception as e:\n",
    "                logger.error(f\"Error processing image: {e}\")\n",
    "\n",
    "        max_retries = 3\n",
    "        for attempt in range(max_retries):\n",
    "            try:\n",
    "                response = self.model.generate_content(\n",
    "                    content,\n",
    "                    generation_config=genai.types.GenerationConfig(\n",
    "                        temperature=0,\n",
    "                        max_output_tokens=10000,\n",
    "                        response_mime_type=\"application/json\"\n",
    "                    )\n",
    "                )\n",
    "                if hasattr(response, 'text') and response.text:\n",
    "                    return response.text\n",
    "\n",
    "            except Exception as e:\n",
    "                logger.error(f\"API error (attempt {attempt + 1}): {e}\")\n",
    "                if attempt == max_retries - 1:\n",
    "                    return '{\"reasoning\": \"Technical error\", \"FunctionCall\": []}'\n",
    "                time.sleep(1)\n",
    "\n",
    "        return '{\"reasoning\": \"Connection issues\", \"FunctionCall\": []}'"
   ],
   "id": "992d5ae8c2b2ceff",
   "outputs": [],
   "execution_count": 2
  },
  {
   "metadata": {
    "ExecuteTime": {
     "end_time": "2025-07-14T03:51:24.949887Z",
     "start_time": "2025-07-14T03:51:24.945775Z"
    }
   },
   "cell_type": "code",
   "source": [
    "def create_prompt(query: str, image_url: str = None) -> str:\n",
    "    image_filename = os.path.basename(urlparse(image_url).path) if image_url else None\n",
    "\n",
    "    return f\"\"\"You are a Customer Service Agent. Analyze the user's query and any provided images to understand their intent and plan the appropriate response.\n",
    "AVAILABLE TOOLS:\n",
    "- search_products: For finding products, recommendations, product details in Milvus database\n",
    "- search_faqs: For questions about the business, shipping, returns, general info\n",
    "OUTPUT JSON SCHEMA:\n",
    "{{\n",
    "    \"reasoning\": \"Explanation of user intent and why specific tools are needed\",\n",
    "    \"FunctionCall\": [\n",
    "        {{\n",
    "            \"name\": \"search_products\",\n",
    "            \"args\": {{\n",
    "                \"text\": \"combined search text with image descriptions\",\n",
    "                \"image\": {str(bool(image_url)).lower()},\n",
    "                \"image_url\": {[image_filename] if image_filename else []},\n",
    "                \"filters\": {{\n",
    "                    \"category\": \"string or null\",\n",
    "                    \"price_range\": {{\n",
    "                        \"min\": 0,\n",
    "                        \"max\": 0,\n",
    "                        \"operation\": \"eq\"\n",
    "                    }},\n",
    "                    \"attributes\": {{\n",
    "                        \"color\": \"string or null\",\n",
    "                        \"size\": \"string or null\",\n",
    "                        \"brand\": \"string or null\",\n",
    "                        \"material\": \"string or null\"\n",
    "                    }}\n",
    "                }}\n",
    "            }}\n",
    "        }}\n",
    "    ]\n",
    "}}\n",
    "\n",
    "Instructions:\n",
    "- Extract keywords from text query\n",
    "- If image provided: describe product style, color, material, category, brand\n",
    "- Combine text + image description in the \"text\" field\n",
    "- Set \"image\" to true/false based on whether image was provided\n",
    "- Include image filename in \"image_url\" array if image exists\n",
    "\n",
    "User Query: {query}\"\"\""
   ],
   "id": "2c40b9d2415f9eb2",
   "outputs": [],
   "execution_count": 3
  },
  {
   "metadata": {
    "ExecuteTime": {
     "end_time": "2025-07-14T03:51:59.738839Z",
     "start_time": "2025-07-14T03:51:38.985492Z"
    }
   },
   "cell_type": "code",
   "source": [
    "def test_chat():\n",
    "    llm = GeminiProvider()\n",
    "    print(\"===  Interactive Chat with Gemini to test Images ===\")\n",
    "\n",
    "    while True:\n",
    "        try:\n",
    "            user_input = input(\"\\n  User query (or type 'exit' to quit): \").strip()\n",
    "            if user_input.lower() in {\"exit\", \"quit\"}:\n",
    "                print(\" Goodbye!\")\n",
    "                break\n",
    "\n",
    "            image_url = input(\"  Optional image URL (press Enter to skip): \").strip()\n",
    "            image_url = image_url if image_url else None\n",
    "\n",
    "            prompt = create_prompt(user_input, image_url)\n",
    "            print(\"\\n Sending request to Gemini...\")\n",
    "\n",
    "            response = llm.generate(prompt, image_url)\n",
    "\n",
    "            print(\"\\n LLM Response:\")\n",
    "            print(response)\n",
    "\n",
    "        except KeyboardInterrupt:\n",
    "            print(\"\\n Exiting chat.\")\n",
    "            break\n",
    "        except Exception as e:\n",
    "            logger.error(f\"Unexpected error: {e}\")\n",
    "\n",
    "if __name__ == \"__main__\":\n",
    "    test_chat()"
   ],
   "id": "74f0793d28ebf4bb",
   "outputs": [
    {
     "name": "stdout",
     "output_type": "stream",
     "text": [
      "===  Interactive Chat with Gemini to test Images ===\n",
      "\n",
      " Sending request to Gemini...\n",
      "\n",
      " LLM Response:\n",
      "{\n",
      "    \"reasoning\": \"The user provided a greeting 'hello' without any specific query or intent that can be addressed by the available tools. Therefore, no tool call is necessary. The appropriate response is to greet the user back and ask how I can assist them.\",\n",
      "    \"FunctionCall\": []\n",
      "}\n",
      "\n",
      " Sending request to Gemini...\n",
      "\n",
      " LLM Response:\n",
      "{\n",
      "    \"reasoning\": \"The user is looking for a specific product, 'iphone'. The 'search_products' tool is suitable for this purpose to find relevant product listings.\",\n",
      "    \"FunctionCall\": [\n",
      "        {\n",
      "            \"name\": \"search_products\",\n",
      "            \"args\": {\n",
      "                \"text\": \"iphone\",\n",
      "                \"image\": false,\n",
      "                \"image_url\": [],\n",
      "                \"filters\": {\n",
      "                    \"category\": null,\n",
      "                    \"price_range\": {\n",
      "                        \"min\": 0,\n",
      "                        \"max\": 0,\n",
      "                        \"operation\": \"eq\"\n",
      "                    },\n",
      "                    \"attributes\": {\n",
      "                        \"color\": null,\n",
      "                        \"size\": null,\n",
      "                        \"brand\": null,\n",
      "                        \"material\": null\n",
      "                    }\n",
      "                }\n",
      "            }\n",
      "        }\n",
      "    ]\n",
      "}\n",
      "\n",
      " Exiting chat.\n"
     ]
    }
   ],
   "execution_count": 5
  },
  {
   "metadata": {},
   "cell_type": "code",
   "outputs": [],
   "execution_count": null,
   "source": "def search_products(query: str, image_url: str = None):\n",
   "id": "7f0dc50dee5d0447"
  }
 ],
 "metadata": {
  "kernelspec": {
   "display_name": "Python 3",
   "language": "python",
   "name": "python3"
  },
  "language_info": {
   "codemirror_mode": {
    "name": "ipython",
    "version": 2
   },
   "file_extension": ".py",
   "mimetype": "text/x-python",
   "name": "python",
   "nbconvert_exporter": "python",
   "pygments_lexer": "ipython2",
   "version": "2.7.6"
  }
 },
 "nbformat": 4,
 "nbformat_minor": 5
}
