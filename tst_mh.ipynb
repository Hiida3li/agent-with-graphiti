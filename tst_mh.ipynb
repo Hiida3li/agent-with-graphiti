{
 "cells": [
  {
   "cell_type": "code",
   "id": "initial_id",
   "metadata": {
    "collapsed": true,
    "ExecuteTime": {
     "end_time": "2025-07-13T06:25:41.202508Z",
     "start_time": "2025-07-13T06:25:40.898252Z"
    }
   },
   "source": [
    "import os\n",
    "import logging\n",
    "from dotenv import load_dotenv\n",
    "import tqdm as notebook_tqdm\n",
    "import google.generativeai as genai\n",
    "from abc import ABC, abstractmethod\n",
    "import time\n",
    "\n",
    "load_dotenv()\n",
    "\n",
    "logging.basicConfig(\n",
    "    level=logging.DEBUG,\n",
    "    format='%(asctime)s - %(levelname)s - %(message)s'\n",
    ")\n",
    "logger = logging.getLogger(__name__)"
   ],
   "outputs": [
    {
     "name": "stderr",
     "output_type": "stream",
     "text": [
      "/Users/mahmoud/agent-with-graphiti/.venv/lib/python3.12/site-packages/tqdm/auto.py:21: TqdmWarning: IProgress not found. Please update jupyter and ipywidgets. See https://ipywidgets.readthedocs.io/en/stable/user_install.html\n",
      "  from .autonotebook import tqdm as notebook_tqdm\n"
     ]
    }
   ],
   "execution_count": 1
  },
  {
   "metadata": {
    "ExecuteTime": {
     "end_time": "2025-07-13T06:25:41.291880Z",
     "start_time": "2025-07-13T06:25:41.289119Z"
    }
   },
   "cell_type": "code",
   "source": [
    "class LLMProvider(ABC):\n",
    "    @abstractmethod\n",
    "    def generate(self, prompt: str) -> str:\n",
    "        pass\n",
    "\n",
    "class GeminiProvider(LLMProvider):\n",
    "    def __init__(self, model_name: str = \"gemini-2.5-flash\"):\n",
    "        genai.configure(api_key=os.getenv(\"GOOGLE_API_KEY\"))\n",
    "        self.model = genai.GenerativeModel(model_name)\n",
    "\n",
    "    def generate(self, prompt: str) -> str:\n",
    "        logger.debug(f\"Generating response for prompt length: {len(prompt)}\")\n",
    "        max_retries = 3\n",
    "        for attempt in range(max_retries):\n",
    "            try:\n",
    "                logger.debug(f\"Gemini API call attempt {attempt + 1}\")\n",
    "                response = self.model.generate_content(\n",
    "                    prompt,\n",
    "                    generation_config=genai.types.GenerationConfig(\n",
    "                        temperature=0,\n",
    "                        max_output_tokens=500,\n",
    "                        top_p=0,\n",
    "                        top_k=40\n",
    "                    )\n",
    "                )\n",
    "\n",
    "                if hasattr(response, 'text') and response.text:\n",
    "                    logger.debug(f\"Gemini response received: {response.text[:200]}...\")\n",
    "                    return response.text\n",
    "\n",
    "                logger.warning(f\"Empty response from Gemini (attempt {attempt + 1})\")\n",
    "\n",
    "            except Exception as e:\n",
    "                logger.error(f\"Gemini API error (attempt {attempt + 1}): {e}\")\n",
    "                if attempt == max_retries - 1:\n",
    "                    fallback_response = '{\"thought\": \"Technical difficulties\", \"answer\": \"I\\'m experiencing technical issues. Please try again.\"}'\n",
    "                    logger.debug(f\"Returning fallback response: {fallback_response}\")\n",
    "                    return fallback_response\n",
    "\n",
    "\n",
    "                time.sleep(1)\n",
    "\n",
    "        fallback_response = '{\"thought\": \"Max retries exceeded\", \"answer\": \"Connection issues. Please try again later.\"}'\n",
    "        logger.debug(f\"Max retries exceeded, returning: {fallback_response}\")\n",
    "        return fallback_response"
   ],
   "id": "2f5ca8b7994bbb91",
   "outputs": [],
   "execution_count": 2
  },
  {
   "metadata": {
    "ExecuteTime": {
     "end_time": "2025-07-13T06:25:44.620796Z",
     "start_time": "2025-07-13T06:25:41.296619Z"
    }
   },
   "cell_type": "code",
   "source": [
    "def create_test_prompt(query: str, history: str = \"\") -> str:\n",
    "    return f\"\"\"You are an expert Customer Service Agent. Analyze the user's query to understand their intent and plan the appropriate response.\n",
    "\n",
    "1. REASONING: Understand what the user wants and determine what tools are needed\n",
    "2. TOOL SELECTION: Decide which functions to call (search_products, search_faqs, or both)\n",
    "3. PARAMETER EXTRACTION: Extract search parameters and filters from the query\n",
    "\n",
    "AVAILABLE TOOLS:\n",
    "- search_products: For finding products, recommendations, product details in Milvus database\n",
    "- search_faqs: For questions about the business, shipping, returns, general info\n",
    "\n",
    "OUTPUT JSON SCHEMA:\n",
    "{{\n",
    "    \"reasoning\": \"Explanation of user intent and why specific tools are needed\",\n",
    "    \"FunctionCall\": [\n",
    "        {{\n",
    "            \"name\": \"search_products\",\n",
    "            \"args\": {{\n",
    "                \"text\": \"combined search text with image descriptions\",\n",
    "                \"filters\": {{\n",
    "                    \"category\": \"string or null\",\n",
    "                    \"price_range\": {{\n",
    "                        \"min\": number,\n",
    "                        \"max\": number,\n",
    "                        \"operation\": \"eq\" | \"lt\" | \"gt\" | \"between\"\n",
    "                    }},\n",
    "                    \"attributes\": {{\n",
    "                        \"color\": \"string or null\",\n",
    "                        \"size\": \"string or null\",\n",
    "                        \"brand\": \"string or null\",\n",
    "                        \"material\": \"string or null\"\n",
    "                    }}\n",
    "                }}\n",
    "            }}\n",
    "        }}\n",
    "    ]\n",
    "}}\n",
    "\n",
    "REASONING GUIDELINES:\n",
    "- If user asks about policies, shipping, returns (use search_faqs)\n",
    "- If user wants to find products, recommendations (use search_products)\n",
    "- If user needs both product info AND policy info use both tools\n",
    "- Explain your reasoning clearly\n",
    "\n",
    "TEXT OPTIMIZATION RULES:\n",
    "- Combine user query keywords with image descriptions\n",
    "- Remove conversational words, keep only searchable product attributes: colors, materials, styles, functions\n",
    "- For images: describe style, color, material, shape, function, category\n",
    "\n",
    "FILTER EXTRACTION RULES:\n",
    "- category: Extract product category from query/image (e.g., \"Desks / Office Desks\", \"Clothing / Dresses\")\n",
    "- price_range: Extract budget mentions (e.g., \"under $100\" → max: 100, operation: \"lt\")\n",
    "- attributes: Extract specific product features (color, size, brand, material)\n",
    "\n",
    "IMAGE ANALYSIS REQUIREMENTS:\n",
    "- Generate dense, factual descriptions focusing on searchable attributes\n",
    "- Include: style, color, material, shape, size indicators, function, category\n",
    "- Example: \"minimalist white desk with rectangular top and thin metal legs\"\n",
    "- DO NOT make up information about products you don't recognize\n",
    "\n",
    "PRICE OPERATIONS:\n",
    "- \"eq\": exact price match\n",
    "- \"lt\": less than\n",
    "- \"gt\": greater than\n",
    "- \"between\": range between min and max\n",
    "\n",
    "User Query: {query}\n",
    "History: {history}\n",
    "\"\"\"\n",
    "\n",
    "llm_provider = GeminiProvider()\n",
    "\n",
    "prompt1 = create_test_prompt(\"I want to buy the latest iPhone available in your cataluoge 15 pro red calor\")\n",
    "# print(f\"PROMPT:\\n{prompt1}\")\n",
    "# print(\"\\n\" + \"-\" * 30)\n",
    "\n",
    "response1 = llm_provider.generate(prompt1)\n",
    "print(f\"JSON RESPONSE:\\n{response1}\")\n"
   ],
   "id": "b51f6d55ac4c8c15",
   "outputs": [
    {
     "name": "stderr",
     "output_type": "stream",
     "text": [
      "2025-07-13 10:25:41,297 - DEBUG - Generating response for prompt length: 2804\n",
      "2025-07-13 10:25:41,298 - DEBUG - Gemini API call attempt 1\n",
      "2025-07-13 10:25:44,615 - DEBUG - Gemini response received: ```json\n",
      "{\n",
      "    \"reasoning\": \"The user is explicitly asking to find a specific product, 'iPhone 15 Pro', and has specified a color 'red'. This indicates a clear intent to search for products in the cata...\n"
     ]
    },
    {
     "name": "stdout",
     "output_type": "stream",
     "text": [
      "JSON RESPONSE:\n",
      "```json\n",
      "{\n",
      "    \"reasoning\": \"The user is explicitly asking to find a specific product, 'iPhone 15 Pro', and has specified a color 'red'. This indicates a clear intent to search for products in the catalog.\",\n",
      "    \"FunctionCall\": [\n",
      "        {\n",
      "            \"name\": \"search_products\",\n",
      "            \"args\": {\n",
      "                \"text\": \"iPhone 15 Pro\",\n",
      "                \"filters\": {\n",
      "                    \"category\": \"Electronics / Mobile Phones\",\n",
      "                    \"attributes\": {\n",
      "                        \"color\": \"red\",\n",
      "                        \"brand\": \"Apple\"\n",
      "                    }\n",
      "                }\n",
      "            }\n",
      "        }\n",
      "    ]\n",
      "}\n",
      "```\n"
     ]
    }
   ],
   "execution_count": 3
  },
  {
   "metadata": {
    "ExecuteTime": {
     "end_time": "2025-07-13T06:25:56.768631Z",
     "start_time": "2025-07-13T06:25:44.636632Z"
    }
   },
   "cell_type": "code",
   "source": [
    "history = \"I want to buy the latest iPhone available in your cataluoge 15 pro red calor\\nassistant: \" + response1\n",
    "prompt2 = create_test_prompt(\"how much it cost\")\n",
    "\n",
    "response2 = llm_provider.generate(prompt2)\n",
    "print(f\"JSON RESPONSE:\\n{response2}\")\n",
    "\n",
    "# print(\"\\n\" + \"=\" * 50)\n",
    "# print(\"=\" * 50)\n",
    "# print(f\"Response 1: {response1}\")\n",
    "# print(f\"Response 2: {response2}\")"
   ],
   "id": "ef1843af350c08c7",
   "outputs": [
    {
     "name": "stderr",
     "output_type": "stream",
     "text": [
      "2025-07-13 10:25:44,638 - DEBUG - Generating response for prompt length: 2744\n",
      "2025-07-13 10:25:44,639 - DEBUG - Gemini API call attempt 1\n",
      "2025-07-13 10:25:48,129 - ERROR - Gemini API error (attempt 1): Invalid operation: The `response.text` quick accessor requires the response to contain a valid `Part`, but none were returned. The candidate's [finish_reason](https://ai.google.dev/api/generate-content#finishreason) is 2.\n",
      "2025-07-13 10:25:49,133 - DEBUG - Gemini API call attempt 2\n",
      "2025-07-13 10:25:52,537 - ERROR - Gemini API error (attempt 2): Invalid operation: The `response.text` quick accessor requires the response to contain a valid `Part`, but none were returned. The candidate's [finish_reason](https://ai.google.dev/api/generate-content#finishreason) is 2.\n",
      "2025-07-13 10:25:53,543 - DEBUG - Gemini API call attempt 3\n",
      "2025-07-13 10:25:56,765 - ERROR - Gemini API error (attempt 3): Invalid operation: The `response.text` quick accessor requires the response to contain a valid `Part`, but none were returned. The candidate's [finish_reason](https://ai.google.dev/api/generate-content#finishreason) is 2.\n",
      "2025-07-13 10:25:56,766 - DEBUG - Returning fallback response: {\"thought\": \"Technical difficulties\", \"answer\": \"I'm experiencing technical issues. Please try again.\"}\n"
     ]
    },
    {
     "name": "stdout",
     "output_type": "stream",
     "text": [
      "JSON RESPONSE:\n",
      "{\"thought\": \"Technical difficulties\", \"answer\": \"I'm experiencing technical issues. Please try again.\"}\n"
     ]
    }
   ],
   "execution_count": 4
  }
 ],
 "metadata": {
  "kernelspec": {
   "display_name": "Python 3",
   "language": "python",
   "name": "python3"
  },
  "language_info": {
   "codemirror_mode": {
    "name": "ipython",
    "version": 2
   },
   "file_extension": ".py",
   "mimetype": "text/x-python",
   "name": "python",
   "nbconvert_exporter": "python",
   "pygments_lexer": "ipython2",
   "version": "2.7.6"
  }
 },
 "nbformat": 4,
 "nbformat_minor": 5
}
