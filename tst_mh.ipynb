{
 "cells": [
  {
   "metadata": {
    "collapsed": true,
    "ExecuteTime": {
     "end_time": "2025-07-13T07:31:19.219540Z",
     "start_time": "2025-07-13T07:31:19.214988Z"
    }
   },
   "cell_type": "code",
   "source": [
    "import os\n",
    "import logging\n",
    "from dotenv import load_dotenv\n",
    "import tqdm as notebook_tqdm\n",
    "import google.generativeai as genai\n",
    "from abc import ABC, abstractmethod\n",
    "import time\n",
    "\n",
    "load_dotenv()\n",
    "\n",
    "logging.basicConfig(\n",
    "    level=logging.DEBUG,\n",
    "    format='%(asctime)s - %(levelname)s - %(message)s'\n",
    ")\n",
    "logger = logging.getLogger(__name__)"
   ],
   "id": "initial_id",
   "outputs": [],
   "execution_count": 5
  },
  {
   "metadata": {
    "ExecuteTime": {
     "end_time": "2025-07-13T07:31:19.235133Z",
     "start_time": "2025-07-13T07:31:19.231607Z"
    }
   },
   "cell_type": "code",
   "source": [
    "class LLMProvider(ABC):\n",
    "    @abstractmethod\n",
    "    def generate(self, prompt: str) -> str:\n",
    "        pass\n",
    "\n",
    "class GeminiProvider(LLMProvider):\n",
    "    def __init__(self, model_name: str = \"gemini-2.5-flash\"):\n",
    "        genai.configure(api_key=os.getenv(\"GOOGLE_API_KEY\"))\n",
    "        self.model = genai.GenerativeModel(model_name)\n",
    "\n",
    "    def generate(self, prompt: str) -> str:\n",
    "        logger.debug(f\"Generating response for prompt length: {len(prompt)}\")\n",
    "        max_retries = 3\n",
    "        for attempt in range(max_retries):\n",
    "            try:\n",
    "                logger.debug(f\"Gemini API call attempt {attempt + 1}\")\n",
    "                response = self.model.generate_content(\n",
    "                    prompt,\n",
    "                    generation_config=genai.types.GenerationConfig(\n",
    "                        temperature=0,\n",
    "                        max_output_tokens=500,\n",
    "                        top_p=0,\n",
    "                        top_k=40\n",
    "                    )\n",
    "                )\n",
    "\n",
    "                if hasattr(response, 'text') and response.text:\n",
    "                    logger.debug(f\"Gemini response received: {response.text[:200]}...\")\n",
    "                    return response.text\n",
    "\n",
    "                logger.warning(f\"Empty response from Gemini (attempt {attempt + 1})\")\n",
    "\n",
    "            except Exception as e:\n",
    "                logger.error(f\"Gemini API error (attempt {attempt + 1}): {e}\")\n",
    "                if attempt == max_retries - 1:\n",
    "                    fallback_response = '{\"thought\": \"Technical difficulties\", \"answer\": \"I\\'m experiencing technical issues. Please try again.\"}'\n",
    "                    logger.debug(f\"Returning fallback response: {fallback_response}\")\n",
    "                    return fallback_response\n",
    "\n",
    "\n",
    "                time.sleep(1)\n",
    "\n",
    "        fallback_response = '{\"thought\": \"Max retries exceeded\", \"answer\": \"Connection issues. Please try again later.\"}'\n",
    "        logger.debug(f\"Max retries exceeded, returning: {fallback_response}\")\n",
    "        return fallback_response"
   ],
   "id": "2f5ca8b7994bbb91",
   "outputs": [],
   "execution_count": 6
  },
  {
   "metadata": {
    "ExecuteTime": {
     "end_time": "2025-07-13T07:31:21.547564Z",
     "start_time": "2025-07-13T07:31:19.244581Z"
    }
   },
   "cell_type": "code",
   "source": [
    "def create_test_prompt(query: str, history: str = \"\") -> str:\n",
    "    return f\"\"\"You are a Customer Service Agent. Analyze the user query and any images to respond with JSON.\n",
    "\n",
    "Your task:\n",
    "1. Understand what the user wants\n",
    "2. If image provided, describe the product shown\n",
    "3. Choose tool: search_products OR search_faqs\n",
    "4. Combine text query + image description for search\n",
    "\n",
    "Tools available:\n",
    "- search_products: Find products and recommendations\n",
    "- search_faqs: Answer policy, shipping, return questions\n",
    "\n",
    "Return JSON format:\n",
    "{{\n",
    "    \"reasoning\": \"explain user intent and tool choice\",\n",
    "    \"FunctionCall\": [\n",
    "        {{\n",
    "            \"name\": \"search_products\",\n",
    "            \"args\": {{\n",
    "                \"text\": \"combined search text with image descriptions\",\n",
    "                \"filters\": {{\n",
    "                    \"category\": null,\n",
    "                    \"price_range\": {{\"min\": 0, \"max\": 0, \"operation\": \"eq\"}},\n",
    "                    \"attributes\": {{\"color\": null, \"size\": null, \"brand\": null, \"material\": null}}\n",
    "                }}\n",
    "            }}\n",
    "        }}\n",
    "    ]\n",
    "}}\n",
    "\n",
    "Instructions:\n",
    "- Extract keywords from text query\n",
    "- If image shown: describe style, color, material, shape, category, brand\n",
    "- Combine both into the \"text\" field\n",
    "- Example: \"iPhone red\" + image of \"sleek smartphone titanium frame\" = \"iPhone red sleek smartphone titanium frame\"\n",
    "- Focus on searchable product features only\n",
    "\n",
    "User Query: {query}\n",
    "History: {history}\"\"\"\n",
    "\n",
    "\n",
    "llm_provider = GeminiProvider()\n",
    "\n",
    "prompt1 = create_test_prompt(\"I want to buy the latest iPhone available in your cataluoge 15 pro red calor\")\n",
    "# print(f\"PROMPT:\\n{prompt1}\")\n",
    "# print(\"\\n\" + \"-\" * 30)\n",
    "\n",
    "response1 = llm_provider.generate(prompt1)\n",
    "print(f\"JSON RESPONSE:\\n{response1}\")\n"
   ],
   "id": "6d7321814aa21b02",
   "outputs": [
    {
     "name": "stderr",
     "output_type": "stream",
     "text": [
      "2025-07-13 11:31:19,245 - DEBUG - Generating response for prompt length: 1371\n",
      "2025-07-13 11:31:19,246 - DEBUG - Gemini API call attempt 1\n",
      "2025-07-13 11:31:21,545 - DEBUG - Gemini response received: ```json\n",
      "{\n",
      "    \"reasoning\": \"The user is looking to purchase a specific product, the 'latest iPhone 15 Pro' in 'red color'. This requires searching the product catalog, so the 'search_products' tool is...\n"
     ]
    },
    {
     "name": "stdout",
     "output_type": "stream",
     "text": [
      "JSON RESPONSE:\n",
      "```json\n",
      "{\n",
      "    \"reasoning\": \"The user is looking to purchase a specific product, the 'latest iPhone 15 Pro' in 'red color'. This requires searching the product catalog, so the 'search_products' tool is appropriate.\",\n",
      "    \"FunctionCall\": [\n",
      "        {\n",
      "            \"name\": \"search_products\",\n",
      "            \"args\": {\n",
      "                \"text\": \"latest iPhone 15 Pro red color\",\n",
      "                \"filters\": {\n",
      "                    \"category\": \"smartphone\",\n",
      "                    \"price_range\": null,\n",
      "                    \"attributes\": {\n",
      "                        \"color\": \"red\",\n",
      "                        \"brand\": \"iPhone\",\n",
      "                        \"model\": \"15 Pro\"\n",
      "                    }\n",
      "                }\n",
      "            }\n",
      "        }\n",
      "    ]\n",
      "}\n",
      "```\n"
     ]
    }
   ],
   "execution_count": 7
  },
  {
   "metadata": {
    "ExecuteTime": {
     "end_time": "2025-07-13T07:31:21.562261Z",
     "start_time": "2025-07-13T07:31:21.554177Z"
    }
   },
   "cell_type": "code",
   "source": "1/0",
   "id": "677880e1789715aa",
   "outputs": [
    {
     "ename": "ZeroDivisionError",
     "evalue": "division by zero",
     "output_type": "error",
     "traceback": [
      "\u001B[0;31m---------------------------------------------------------------------------\u001B[0m",
      "\u001B[0;31mZeroDivisionError\u001B[0m                         Traceback (most recent call last)",
      "Cell \u001B[0;32mIn[8], line 1\u001B[0m\n\u001B[0;32m----> 1\u001B[0m \u001B[38;5;241;43m1\u001B[39;49m\u001B[38;5;241;43m/\u001B[39;49m\u001B[38;5;241;43m0\u001B[39;49m\n",
      "\u001B[0;31mZeroDivisionError\u001B[0m: division by zero"
     ]
    }
   ],
   "execution_count": 8
  },
  {
   "metadata": {
    "ExecuteTime": {
     "end_time": "2025-07-13T07:31:21.579947Z",
     "start_time": "2025-07-13T06:29:18.413274Z"
    }
   },
   "cell_type": "code",
   "outputs": [
    {
     "name": "stderr",
     "output_type": "stream",
     "text": [
      "2025-07-13 10:29:18,414 - DEBUG - Generating response for prompt length: 2804\n",
      "2025-07-13 10:29:18,415 - DEBUG - Gemini API call attempt 1\n",
      "2025-07-13 10:29:21,571 - DEBUG - Gemini response received: ```json\n",
      "{\n",
      "    \"reasoning\": \"The user is explicitly asking to find a specific product, 'iPhone 15 Pro', and has specified a color 'red'. This indicates a clear intent to search for products in the cata...\n"
     ]
    },
    {
     "name": "stdout",
     "output_type": "stream",
     "text": [
      "JSON RESPONSE:\n",
      "```json\n",
      "{\n",
      "    \"reasoning\": \"The user is explicitly asking to find a specific product, 'iPhone 15 Pro', and has specified a color 'red'. This indicates a clear intent to search for products in the catalog.\",\n",
      "    \"FunctionCall\": [\n",
      "        {\n",
      "            \"name\": \"search_products\",\n",
      "            \"args\": {\n",
      "                \"text\": \"iPhone 15 Pro\",\n",
      "                \"filters\": {\n",
      "                    \"category\": \"Electronics / Mobile Phones\",\n",
      "                    \"attributes\": {\n",
      "                        \"color\": \"red\",\n",
      "                        \"brand\": \"Apple\"\n",
      "                    }\n",
      "                }\n",
      "            }\n",
      "        }\n",
      "    ]\n",
      "}\n",
      "```\n"
     ]
    }
   ],
   "execution_count": 11,
   "source": [
    "def create_test_prompt(query: str, history: str = \"\") -> str:\n",
    "    return f\"\"\"You are an expert Customer Service Agent. Analyze the user's query to understand their intent and plan the appropriate response.\n",
    "\n",
    "1. REASONING: Understand what the user wants and determine what tools are needed\n",
    "2. TOOL SELECTION: Decide which functions to call (search_products, search_faqs, or both)\n",
    "3. PARAMETER EXTRACTION: Extract search parameters and filters from the query\n",
    "\n",
    "AVAILABLE TOOLS:\n",
    "- search_products: For finding products, recommendations, product details in Milvus database\n",
    "- search_faqs: For questions about the business, shipping, returns, general info\n",
    "\n",
    "OUTPUT JSON SCHEMA:\n",
    "{{\n",
    "    \"reasoning\": \"Explanation of user intent and why specific tools are needed\",\n",
    "    \"FunctionCall\": [\n",
    "        {{\n",
    "            \"name\": \"search_products\",\n",
    "            \"args\": {{\n",
    "                \"text\": \"combined search text with image descriptions\",\n",
    "                \"filters\": {{\n",
    "                    \"category\": \"string or null\",\n",
    "                    \"price_range\": {{\n",
    "                        \"min\": number,\n",
    "                        \"max\": number,\n",
    "                        \"operation\": \"eq\" | \"lt\" | \"gt\" | \"between\"\n",
    "                    }},\n",
    "                    \"attributes\": {{\n",
    "                        \"color\": \"string or null\",\n",
    "                        \"size\": \"string or null\",\n",
    "                        \"brand\": \"string or null\",\n",
    "                        \"material\": \"string or null\"\n",
    "                    }}\n",
    "                }}\n",
    "            }}\n",
    "        }}\n",
    "    ]\n",
    "}}\n",
    "\n",
    "REASONING GUIDELINES:\n",
    "- If user asks about policies, shipping, returns (use search_faqs)\n",
    "- If user wants to find products, recommendations (use search_products)\n",
    "- If user needs both product info AND policy info use both tools\n",
    "- Explain your reasoning clearly\n",
    "\n",
    "TEXT OPTIMIZATION RULES:\n",
    "- Combine user query keywords with image descriptions\n",
    "- Remove conversational words, keep only searchable product attributes: colors, materials, styles, functions\n",
    "- For images: describe style, color, material, shape, function, category\n",
    "\n",
    "FILTER EXTRACTION RULES:\n",
    "- category: Extract product category from query/image (e.g., \"Desks / Office Desks\", \"Clothing / Dresses\")\n",
    "- price_range: Extract budget mentions (e.g., \"under $100\" → max: 100, operation: \"lt\")\n",
    "- attributes: Extract specific product features (color, size, brand, material)\n",
    "\n",
    "IMAGE ANALYSIS REQUIREMENTS:\n",
    "- Generate dense, factual descriptions focusing on searchable attributes\n",
    "- Include: style, color, material, shape, size indicators, function, category\n",
    "- Example: \"minimalist white desk with rectangular top and thin metal legs\"\n",
    "- DO NOT make up information about products you don't recognize\n",
    "\n",
    "PRICE OPERATIONS:\n",
    "- \"eq\": exact price match\n",
    "- \"lt\": less than\n",
    "- \"gt\": greater than\n",
    "- \"between\": range between min and max\n",
    "\n",
    "User Query: {query}\n",
    "History: {history}\n",
    "\"\"\"\n",
    "\n",
    "llm_provider = GeminiProvider()\n",
    "\n",
    "prompt1 = create_test_prompt(\"I want to buy the latest iPhone available in your cataluoge 15 pro red calor\")\n",
    "# print(f\"PROMPT:\\n{prompt1}\")\n",
    "# print(\"\\n\" + \"-\" * 30)\n",
    "\n",
    "response1 = llm_provider.generate(prompt1)\n",
    "print(f\"JSON RESPONSE:\\n{response1}\")\n"
   ],
   "id": "b51f6d55ac4c8c15"
  },
  {
   "metadata": {
    "ExecuteTime": {
     "end_time": "2025-07-13T07:31:21.581434Z",
     "start_time": "2025-07-13T06:30:11.147125Z"
    }
   },
   "cell_type": "code",
   "outputs": [
    {
     "name": "stderr",
     "output_type": "stream",
     "text": [
      "2025-07-13 10:30:11,148 - DEBUG - Generating response for prompt length: 3487\n",
      "2025-07-13 10:30:11,149 - DEBUG - Gemini API call attempt 1\n",
      "2025-07-13 10:30:13,533 - DEBUG - Gemini response received: ```json\n",
      "{\n",
      "    \"reasoning\": \"The user is asking two distinct questions. The first part, 'how much it cost', refers to the product previously discussed ('iPhone 15 Pro red'), indicating a need to retrie...\n"
     ]
    },
    {
     "name": "stdout",
     "output_type": "stream",
     "text": [
      "JSON RESPONSE:\n",
      "```json\n",
      "{\n",
      "    \"reasoning\": \"The user is asking two distinct questions. The first part, 'how much it cost', refers to the product previously discussed ('iPhone 15 Pro red'), indicating a need to retrieve product details including price. The 'search_products' tool is suitable for this. The second part, 'how many days of shipping', is a general query about shipping policy, which falls under frequently asked questions. The 'search_faqs' tool is appropriate for this.\",\n",
      "    \"FunctionCall\": [\n",
      "        {\n",
      "            \"name\": \"search_products\",\n",
      "            \"args\": {\n",
      "                \"text\": \"iPhone 15 Pro\",\n",
      "                \"filters\": {\n",
      "                    \"category\": \"Electronics / Mobile Phones\",\n",
      "                    \"attributes\": {\n",
      "                        \"color\": \"red\",\n",
      "                        \"brand\": \"Apple\"\n",
      "                    }\n",
      "                }\n",
      "            }\n",
      "        },\n",
      "        {\n",
      "            \"name\": \"search_faqs\",\n",
      "            \"args\": {\n",
      "                \"text\": \"shipping days\"\n",
      "            }\n",
      "        }\n",
      "    ]\n",
      "}\n",
      "```\n"
     ]
    }
   ],
   "execution_count": 13,
   "source": [
    "history = \"I want to buy the latest iPhone available in your cataluoge 15 pro red calor\\nassistant: \" + response1\n",
    "prompt2 = create_test_prompt(\"how much it cost and how many days of shipping\", history)\n",
    "\n",
    "response2 = llm_provider.generate(prompt2)\n",
    "print(f\"JSON RESPONSE:\\n{response2}\")\n",
    "\n",
    "# print(\"\\n\" + \"=\" * 50)\n",
    "# print(\"=\" * 50)\n",
    "# print(f\"Response 1: {response1}\")\n",
    "# print(f\"Response 2: {response2}\")"
   ],
   "id": "ef1843af350c08c7"
  },
  {
   "metadata": {},
   "cell_type": "code",
   "outputs": [],
   "execution_count": null,
   "source": "",
   "id": "34953e735a0df6d2"
  }
 ],
 "metadata": {
  "kernelspec": {
   "display_name": "Python 3",
   "language": "python",
   "name": "python3"
  },
  "language_info": {
   "codemirror_mode": {
    "name": "ipython",
    "version": 2
   },
   "file_extension": ".py",
   "mimetype": "text/x-python",
   "name": "python",
   "nbconvert_exporter": "python",
   "pygments_lexer": "ipython2",
   "version": "2.7.6"
  }
 },
 "nbformat": 4,
 "nbformat_minor": 5
}
