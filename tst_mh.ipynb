{
 "cells": [
  {
   "cell_type": "code",
   "id": "initial_id",
   "metadata": {
    "collapsed": true,
    "ExecuteTime": {
     "end_time": "2025-07-13T05:56:21.665362Z",
     "start_time": "2025-07-13T05:56:21.660501Z"
    }
   },
   "source": [
    "import os\n",
    "import logging\n",
    "from dotenv import load_dotenv\n",
    "import tqdm as notebook_tqdm\n",
    "import google.generativeai as genai\n",
    "from abc import ABC, abstractmethod\n",
    "import time\n",
    "\n",
    "load_dotenv()\n",
    "\n",
    "logging.basicConfig(\n",
    "    level=logging.DEBUG,\n",
    "    format='%(asctime)s - %(levelname)s - %(message)s'\n",
    ")\n",
    "logger = logging.getLogger(__name__)"
   ],
   "outputs": [],
   "execution_count": 2
  },
  {
   "metadata": {},
   "cell_type": "code",
   "outputs": [],
   "execution_count": null,
   "source": [
    "class LLMProvider(ABC):\n",
    "    @abstractmethod\n",
    "    def generate(self, prompt: str) -> str:\n",
    "        pass\n",
    "\n",
    "class GeminiProvider(LLMProvider):\n",
    "    def __init__(self, model_name: str = \"gemini-2.5-flash\"):\n",
    "        genai.configure(api_key=os.getenv(\"GOOGLE_API_KEY\"))\n",
    "        self.model = genai.GenerativeModel(model_name)\n",
    "\n",
    "    def generate(self, prompt: str) -> str:\n",
    "        logger.debug(f\"Generating response for prompt length: {len(prompt)}\")\n",
    "        max_retries = 3\n",
    "        for attempt in range(max_retries):\n",
    "            try:\n",
    "                logger.debug(f\"Gemini API call attempt {attempt + 1}\")\n",
    "                response = self.model.generate_content(\n",
    "                    prompt,\n",
    "                    generation_config=genai.types.GenerationConfig(\n",
    "                        temperature=0,\n",
    "                        max_output_tokens=500,\n",
    "                        top_p=0,\n",
    "                        top_k=40\n",
    "                    )\n",
    "                )\n",
    "\n",
    "                if hasattr(response, 'text') and response.text:\n",
    "                    logger.debug(f\"Gemini response received: {response.text[:200]}...\")\n",
    "                    return response.text\n",
    "\n",
    "                logger.warning(f\"Empty response from Gemini (attempt {attempt + 1})\")\n",
    "\n",
    "            except Exception as e:\n",
    "                logger.error(f\"Gemini API error (attempt {attempt + 1}): {e}\")\n",
    "                if attempt == max_retries - 1:\n",
    "                    fallback_response = '{\"thought\": \"Technical difficulties\", \"answer\": \"I\\'m experiencing technical issues. Please try again.\"}'\n",
    "                    logger.debug(f\"Returning fallback response: {fallback_response}\")\n",
    "                    return fallback_response\n",
    "\n",
    "\n",
    "                time.sleep(1)\n",
    "\n",
    "        fallback_response = '{\"thought\": \"Max retries exceeded\", \"answer\": \"Connection issues. Please try again later.\"}'\n",
    "        logger.debug(f\"Max retries exceeded, returning: {fallback_response}\")\n",
    "        return fallback_response"
   ],
   "id": "2f5ca8b7994bbb91"
  }
 ],
 "metadata": {
  "kernelspec": {
   "display_name": "Python 3",
   "language": "python",
   "name": "python3"
  },
  "language_info": {
   "codemirror_mode": {
    "name": "ipython",
    "version": 2
   },
   "file_extension": ".py",
   "mimetype": "text/x-python",
   "name": "python",
   "nbconvert_exporter": "python",
   "pygments_lexer": "ipython2",
   "version": "2.7.6"
  }
 },
 "nbformat": 4,
 "nbformat_minor": 5
}
